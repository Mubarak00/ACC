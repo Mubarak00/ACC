{
 "cells": [
  {
   "cell_type": "code",
   "execution_count": 1,
   "id": "b2032eaa",
   "metadata": {},
   "outputs": [],
   "source": [
    "import numpy as np\n",
    "import pandas as pd\n",
    "from pathlib import Path\n",
    "import os.path\n",
    "\n",
    "import matplotlib.pyplot as plt\n",
    "import seaborn as sns\n",
    "\n",
    "from sklearn.model_selection import train_test_split\n",
    "\n",
    "import tensorflow as tf\n",
    "\n",
    "from sklearn.metrics import confusion_matrix, classification_report"
   ]
  },
  {
   "cell_type": "code",
   "execution_count": 2,
   "id": "bee06ad1",
   "metadata": {},
   "outputs": [],
   "source": [
    "image_dir = Path(\"C:/Users/NET_PC/Desktop/Adrenocortical carcionoma project/JPG 2 Data\")"
   ]
  },
  {
   "cell_type": "code",
   "execution_count": 3,
   "id": "1a5245e0",
   "metadata": {},
   "outputs": [],
   "source": [
    "filepaths = list(image_dir.glob(r'**/*.JPG'))\n",
    "labels = list(map(lambda x: os.path.split(os.path.split(x)[0])[1], filepaths))\n",
    "\n",
    "filepaths = pd.Series(filepaths, name='Filepath').astype(str)\n",
    "labels = pd.Series(labels, name='Label')\n",
    "\n",
    "image_df = pd.concat([filepaths, labels], axis=1)"
   ]
  },
  {
   "cell_type": "code",
   "execution_count": 4,
   "id": "ab78eca7",
   "metadata": {},
   "outputs": [
    {
     "data": {
      "text/html": [
       "<div>\n",
       "<style scoped>\n",
       "    .dataframe tbody tr th:only-of-type {\n",
       "        vertical-align: middle;\n",
       "    }\n",
       "\n",
       "    .dataframe tbody tr th {\n",
       "        vertical-align: top;\n",
       "    }\n",
       "\n",
       "    .dataframe thead th {\n",
       "        text-align: right;\n",
       "    }\n",
       "</style>\n",
       "<table border=\"1\" class=\"dataframe\">\n",
       "  <thead>\n",
       "    <tr style=\"text-align: right;\">\n",
       "      <th></th>\n",
       "      <th>Filepath</th>\n",
       "      <th>Label</th>\n",
       "    </tr>\n",
       "  </thead>\n",
       "  <tbody>\n",
       "    <tr>\n",
       "      <th>0</th>\n",
       "      <td>C:\\Users\\NET_PC\\Desktop\\Adrenocortical carcion...</td>\n",
       "      <td>Adrenocortical carcinoma JPG (Type 2)</td>\n",
       "    </tr>\n",
       "    <tr>\n",
       "      <th>1</th>\n",
       "      <td>C:\\Users\\NET_PC\\Desktop\\Adrenocortical carcion...</td>\n",
       "      <td>Adrenocortical carcinoma JPG (Type 2)</td>\n",
       "    </tr>\n",
       "    <tr>\n",
       "      <th>2</th>\n",
       "      <td>C:\\Users\\NET_PC\\Desktop\\Adrenocortical carcion...</td>\n",
       "      <td>Adrenocortical carcinoma JPG (Type 2)</td>\n",
       "    </tr>\n",
       "    <tr>\n",
       "      <th>3</th>\n",
       "      <td>C:\\Users\\NET_PC\\Desktop\\Adrenocortical carcion...</td>\n",
       "      <td>Adrenocortical carcinoma JPG (Type 2)</td>\n",
       "    </tr>\n",
       "    <tr>\n",
       "      <th>4</th>\n",
       "      <td>C:\\Users\\NET_PC\\Desktop\\Adrenocortical carcion...</td>\n",
       "      <td>Adrenocortical carcinoma JPG (Type 2)</td>\n",
       "    </tr>\n",
       "    <tr>\n",
       "      <th>...</th>\n",
       "      <td>...</td>\n",
       "      <td>...</td>\n",
       "    </tr>\n",
       "    <tr>\n",
       "      <th>36425</th>\n",
       "      <td>C:\\Users\\NET_PC\\Desktop\\Adrenocortical carcion...</td>\n",
       "      <td>Kidney tumor JPG (Type 2)</td>\n",
       "    </tr>\n",
       "    <tr>\n",
       "      <th>36426</th>\n",
       "      <td>C:\\Users\\NET_PC\\Desktop\\Adrenocortical carcion...</td>\n",
       "      <td>Kidney tumor JPG (Type 2)</td>\n",
       "    </tr>\n",
       "    <tr>\n",
       "      <th>36427</th>\n",
       "      <td>C:\\Users\\NET_PC\\Desktop\\Adrenocortical carcion...</td>\n",
       "      <td>Kidney tumor JPG (Type 2)</td>\n",
       "    </tr>\n",
       "    <tr>\n",
       "      <th>36428</th>\n",
       "      <td>C:\\Users\\NET_PC\\Desktop\\Adrenocortical carcion...</td>\n",
       "      <td>Kidney tumor JPG (Type 2)</td>\n",
       "    </tr>\n",
       "    <tr>\n",
       "      <th>36429</th>\n",
       "      <td>C:\\Users\\NET_PC\\Desktop\\Adrenocortical carcion...</td>\n",
       "      <td>Kidney tumor JPG (Type 2)</td>\n",
       "    </tr>\n",
       "  </tbody>\n",
       "</table>\n",
       "<p>36430 rows × 2 columns</p>\n",
       "</div>"
      ],
      "text/plain": [
       "                                                Filepath  \\\n",
       "0      C:\\Users\\NET_PC\\Desktop\\Adrenocortical carcion...   \n",
       "1      C:\\Users\\NET_PC\\Desktop\\Adrenocortical carcion...   \n",
       "2      C:\\Users\\NET_PC\\Desktop\\Adrenocortical carcion...   \n",
       "3      C:\\Users\\NET_PC\\Desktop\\Adrenocortical carcion...   \n",
       "4      C:\\Users\\NET_PC\\Desktop\\Adrenocortical carcion...   \n",
       "...                                                  ...   \n",
       "36425  C:\\Users\\NET_PC\\Desktop\\Adrenocortical carcion...   \n",
       "36426  C:\\Users\\NET_PC\\Desktop\\Adrenocortical carcion...   \n",
       "36427  C:\\Users\\NET_PC\\Desktop\\Adrenocortical carcion...   \n",
       "36428  C:\\Users\\NET_PC\\Desktop\\Adrenocortical carcion...   \n",
       "36429  C:\\Users\\NET_PC\\Desktop\\Adrenocortical carcion...   \n",
       "\n",
       "                                       Label  \n",
       "0      Adrenocortical carcinoma JPG (Type 2)  \n",
       "1      Adrenocortical carcinoma JPG (Type 2)  \n",
       "2      Adrenocortical carcinoma JPG (Type 2)  \n",
       "3      Adrenocortical carcinoma JPG (Type 2)  \n",
       "4      Adrenocortical carcinoma JPG (Type 2)  \n",
       "...                                      ...  \n",
       "36425              Kidney tumor JPG (Type 2)  \n",
       "36426              Kidney tumor JPG (Type 2)  \n",
       "36427              Kidney tumor JPG (Type 2)  \n",
       "36428              Kidney tumor JPG (Type 2)  \n",
       "36429              Kidney tumor JPG (Type 2)  \n",
       "\n",
       "[36430 rows x 2 columns]"
      ]
     },
     "execution_count": 4,
     "metadata": {},
     "output_type": "execute_result"
    }
   ],
   "source": [
    "image_df"
   ]
  },
  {
   "cell_type": "code",
   "execution_count": 5,
   "id": "c1b8283b",
   "metadata": {},
   "outputs": [],
   "source": [
    "train_df, test_df = train_test_split(image_df, train_size=0.80, shuffle=True, random_state=1)"
   ]
  },
  {
   "cell_type": "code",
   "execution_count": 6,
   "id": "5ff66539",
   "metadata": {},
   "outputs": [],
   "source": [
    "from keras.preprocessing.image import ImageDataGenerator\n",
    "\n",
    "train_generator = tf.keras.preprocessing.image.ImageDataGenerator(rescale=1./255,\n",
    "                                                                  horizontal_flip=True,\n",
    "                                                                  width_shift_range=0.2,\n",
    "                                                                  height_shift_range=0.2,\n",
    "                                                                  validation_split=0.2)\n",
    "\n",
    "test_generator = tf.keras.preprocessing.image.ImageDataGenerator(rescale=1./255)"
   ]
  },
  {
   "cell_type": "code",
   "execution_count": 7,
   "id": "e48bd74a",
   "metadata": {},
   "outputs": [
    {
     "name": "stdout",
     "output_type": "stream",
     "text": [
      "Found 23316 validated image filenames belonging to 2 classes.\n",
      "Found 5828 validated image filenames belonging to 2 classes.\n",
      "Found 7286 validated image filenames belonging to 2 classes.\n"
     ]
    }
   ],
   "source": [
    "train_images = train_generator.flow_from_dataframe(dataframe=train_df,\n",
    "                                                   x_col='Filepath',\n",
    "                                                   y_col='Label',\n",
    "                                                   target_size=(64, 64),\n",
    "                                                   color_mode='rgb',\n",
    "                                                   class_mode='binary',\n",
    "                                                   batch_size=32,\n",
    "                                                   shuffle=True,\n",
    "                                                   seed=42,\n",
    "                                                   subset='training')\n",
    "\n",
    "val_images = train_generator.flow_from_dataframe(dataframe=train_df,\n",
    "                                                 x_col='Filepath',\n",
    "                                                 y_col='Label',\n",
    "                                                 target_size=(64, 64),\n",
    "                                                 color_mode='rgb',\n",
    "                                                 class_mode='binary',\n",
    "                                                 batch_size=32,\n",
    "                                                 shuffle=True,\n",
    "                                                 seed=42,\n",
    "                                                 subset='validation')\n",
    "\n",
    "test_images = test_generator.flow_from_dataframe(dataframe=test_df,\n",
    "                                                 x_col='Filepath',\n",
    "                                                 y_col='Label',\n",
    "                                                 target_size=(64, 64),\n",
    "                                                 color_mode='rgb',\n",
    "                                                 class_mode='binary',\n",
    "                                                 batch_size=32,\n",
    "                                                 shuffle=False)"
   ]
  },
  {
   "cell_type": "code",
   "execution_count": 8,
   "id": "f67d57aa",
   "metadata": {},
   "outputs": [],
   "source": [
    "import keras\n",
    "from keras.models import Sequential\n",
    "from keras.layers import Dense, Conv3D, MaxPool3D , Dropout, Flatten\n",
    "from tensorflow.keras.layers import Dropout\n",
    "\n",
    "from keras.applications.vgg19 import VGG19\n",
    "#from keras.applications.vgg16 import preprocess_input\n",
    "\n",
    "\n",
    "vgg = VGG19(input_shape= (64, 64, 3), weights='imagenet', include_top=False)\n",
    "vgg.trainable = False"
   ]
  },
  {
   "cell_type": "code",
   "execution_count": 9,
   "id": "37d4d907",
   "metadata": {},
   "outputs": [],
   "source": [
    "model = keras.Sequential([\n",
    "    vgg,\n",
    "    keras.layers.Flatten(),\n",
    "    keras.layers.Dropout(0.5),\n",
    "    keras.layers.Dense(units=32, activation='relu'),\n",
    "    keras.layers.Dropout(0.25),\n",
    "    keras.layers.Dense(units=1, activation='sigmoid'),\n",
    "])"
   ]
  },
  {
   "cell_type": "code",
   "execution_count": 10,
   "id": "7cf9b920",
   "metadata": {},
   "outputs": [],
   "source": [
    "model.compile(\n",
    "  loss='binary_crossentropy',\n",
    "  optimizer='adam',\n",
    "  metrics=['accuracy']\n",
    ")"
   ]
  },
  {
   "cell_type": "code",
   "execution_count": 11,
   "id": "bb684a15",
   "metadata": {},
   "outputs": [
    {
     "name": "stdout",
     "output_type": "stream",
     "text": [
      "Model: \"sequential\"\n",
      "_________________________________________________________________\n",
      " Layer (type)                Output Shape              Param #   \n",
      "=================================================================\n",
      " vgg19 (Functional)          (None, 2, 2, 512)         20024384  \n",
      "                                                                 \n",
      " flatten (Flatten)           (None, 2048)              0         \n",
      "                                                                 \n",
      " dropout (Dropout)           (None, 2048)              0         \n",
      "                                                                 \n",
      " dense (Dense)               (None, 32)                65568     \n",
      "                                                                 \n",
      " dropout_1 (Dropout)         (None, 32)                0         \n",
      "                                                                 \n",
      " dense_1 (Dense)             (None, 1)                 33        \n",
      "                                                                 \n",
      "=================================================================\n",
      "Total params: 20,089,985\n",
      "Trainable params: 65,601\n",
      "Non-trainable params: 20,024,384\n",
      "_________________________________________________________________\n"
     ]
    }
   ],
   "source": [
    "model.summary()"
   ]
  },
  {
   "cell_type": "code",
   "execution_count": 12,
   "id": "2509ae7a",
   "metadata": {},
   "outputs": [
    {
     "name": "stdout",
     "output_type": "stream",
     "text": [
      "<keras.engine.functional.Functional object at 0x0000027335A5E950> False\n",
      "<keras.layers.reshaping.flatten.Flatten object at 0x0000027335A5E1A0> True\n",
      "<keras.layers.regularization.dropout.Dropout object at 0x0000027335A5E140> True\n",
      "<keras.layers.core.dense.Dense object at 0x0000027335A5FCD0> True\n",
      "<keras.layers.regularization.dropout.Dropout object at 0x0000027335A5C970> True\n",
      "<keras.layers.core.dense.Dense object at 0x0000027334E02BF0> True\n"
     ]
    }
   ],
   "source": [
    "for layer in model.layers:\n",
    "    print(layer, layer.trainable)"
   ]
  },
  {
   "cell_type": "code",
   "execution_count": 13,
   "id": "02969de3",
   "metadata": {},
   "outputs": [
    {
     "name": "stdout",
     "output_type": "stream",
     "text": [
      "Epoch 1/50\n",
      "729/729 [==============================] - 445s 607ms/step - loss: 0.6323 - accuracy: 0.6384 - val_loss: 0.5591 - val_accuracy: 0.7227 - lr: 0.0010\n",
      "Epoch 2/50\n",
      "729/729 [==============================] - 684s 938ms/step - loss: 0.5907 - accuracy: 0.6811 - val_loss: 0.5355 - val_accuracy: 0.7392 - lr: 0.0010\n",
      "Epoch 3/50\n",
      "729/729 [==============================] - 663s 909ms/step - loss: 0.5691 - accuracy: 0.7023 - val_loss: 0.5292 - val_accuracy: 0.7560 - lr: 0.0010\n",
      "Epoch 4/50\n",
      "729/729 [==============================] - 653s 896ms/step - loss: 0.5556 - accuracy: 0.7146 - val_loss: 0.5079 - val_accuracy: 0.7656 - lr: 0.0010\n",
      "Epoch 5/50\n",
      "729/729 [==============================] - 470s 645ms/step - loss: 0.5465 - accuracy: 0.7221 - val_loss: 0.4898 - val_accuracy: 0.7672 - lr: 0.0010\n",
      "Epoch 6/50\n",
      "729/729 [==============================] - 466s 639ms/step - loss: 0.5414 - accuracy: 0.7233 - val_loss: 0.4934 - val_accuracy: 0.7716 - lr: 0.0010\n",
      "Epoch 7/50\n",
      "729/729 [==============================] - 495s 679ms/step - loss: 0.5333 - accuracy: 0.7301 - val_loss: 0.4831 - val_accuracy: 0.7699 - lr: 0.0010\n",
      "Epoch 8/50\n",
      "729/729 [==============================] - 423s 580ms/step - loss: 0.5320 - accuracy: 0.7290 - val_loss: 0.4724 - val_accuracy: 0.7840 - lr: 0.0010\n",
      "Epoch 9/50\n",
      "729/729 [==============================] - 397s 545ms/step - loss: 0.5289 - accuracy: 0.7339 - val_loss: 0.4800 - val_accuracy: 0.7821 - lr: 0.0010\n",
      "Epoch 10/50\n",
      "729/729 [==============================] - 399s 547ms/step - loss: 0.5212 - accuracy: 0.7403 - val_loss: 0.4623 - val_accuracy: 0.7819 - lr: 0.0010\n",
      "Epoch 11/50\n",
      "729/729 [==============================] - 403s 552ms/step - loss: 0.5145 - accuracy: 0.7428 - val_loss: 0.4566 - val_accuracy: 0.7950 - lr: 0.0010\n",
      "Epoch 12/50\n",
      "729/729 [==============================] - 421s 578ms/step - loss: 0.5121 - accuracy: 0.7438 - val_loss: 0.4550 - val_accuracy: 0.7931 - lr: 0.0010\n",
      "Epoch 13/50\n",
      "729/729 [==============================] - 411s 564ms/step - loss: 0.5116 - accuracy: 0.7450 - val_loss: 0.4505 - val_accuracy: 0.7972 - lr: 0.0010\n",
      "Epoch 14/50\n",
      "729/729 [==============================] - 411s 563ms/step - loss: 0.5069 - accuracy: 0.7509 - val_loss: 0.4441 - val_accuracy: 0.7967 - lr: 0.0010\n",
      "Epoch 15/50\n",
      "729/729 [==============================] - 394s 540ms/step - loss: 0.5078 - accuracy: 0.7457 - val_loss: 0.4529 - val_accuracy: 0.7994 - lr: 0.0010\n",
      "Epoch 16/50\n",
      "729/729 [==============================] - 393s 539ms/step - loss: 0.5034 - accuracy: 0.7511 - val_loss: 0.4466 - val_accuracy: 0.7987 - lr: 0.0010\n",
      "Epoch 17/50\n",
      "729/729 [==============================] - 407s 559ms/step - loss: 0.5062 - accuracy: 0.7473 - val_loss: 0.4418 - val_accuracy: 0.8078 - lr: 0.0010\n",
      "Epoch 18/50\n",
      "729/729 [==============================] - 408s 559ms/step - loss: 0.5036 - accuracy: 0.7510 - val_loss: 0.4386 - val_accuracy: 0.8042 - lr: 0.0010\n",
      "Epoch 19/50\n",
      "729/729 [==============================] - 402s 552ms/step - loss: 0.4974 - accuracy: 0.7528 - val_loss: 0.4354 - val_accuracy: 0.8058 - lr: 0.0010\n",
      "Epoch 20/50\n",
      "729/729 [==============================] - 404s 554ms/step - loss: 0.4974 - accuracy: 0.7564 - val_loss: 0.4398 - val_accuracy: 0.8022 - lr: 0.0010\n",
      "Epoch 21/50\n",
      "729/729 [==============================] - 402s 551ms/step - loss: 0.4949 - accuracy: 0.7571 - val_loss: 0.4416 - val_accuracy: 0.7998 - lr: 0.0010\n",
      "Epoch 22/50\n",
      "729/729 [==============================] - 362s 496ms/step - loss: 0.4917 - accuracy: 0.7588 - val_loss: 0.4351 - val_accuracy: 0.8092 - lr: 0.0010\n",
      "Epoch 23/50\n",
      "729/729 [==============================] - 369s 506ms/step - loss: 0.4927 - accuracy: 0.7579 - val_loss: 0.4197 - val_accuracy: 0.8147 - lr: 0.0010\n",
      "Epoch 24/50\n",
      "729/729 [==============================] - 317s 435ms/step - loss: 0.4903 - accuracy: 0.7582 - val_loss: 0.4171 - val_accuracy: 0.8104 - lr: 0.0010\n",
      "Epoch 25/50\n",
      "729/729 [==============================] - 278s 382ms/step - loss: 0.4857 - accuracy: 0.7617 - val_loss: 0.4148 - val_accuracy: 0.8107 - lr: 0.0010\n",
      "Epoch 26/50\n",
      "729/729 [==============================] - 248s 341ms/step - loss: 0.4893 - accuracy: 0.7575 - val_loss: 0.4262 - val_accuracy: 0.8075 - lr: 0.0010\n",
      "Epoch 27/50\n",
      "729/729 [==============================] - 283s 388ms/step - loss: 0.4926 - accuracy: 0.7574 - val_loss: 0.4278 - val_accuracy: 0.8077 - lr: 0.0010\n",
      "Epoch 28/50\n",
      "729/729 [==============================] - 275s 377ms/step - loss: 0.4888 - accuracy: 0.7599 - val_loss: 0.4171 - val_accuracy: 0.8149 - lr: 0.0010\n",
      "Epoch 29/50\n",
      "729/729 [==============================] - 282s 387ms/step - loss: 0.4803 - accuracy: 0.7702 - val_loss: 0.4130 - val_accuracy: 0.8226 - lr: 1.0000e-04\n",
      "Epoch 30/50\n",
      "729/729 [==============================] - 279s 382ms/step - loss: 0.4757 - accuracy: 0.7706 - val_loss: 0.4111 - val_accuracy: 0.8231 - lr: 1.0000e-04\n",
      "Epoch 31/50\n",
      "729/729 [==============================] - 280s 384ms/step - loss: 0.4755 - accuracy: 0.7726 - val_loss: 0.4107 - val_accuracy: 0.8185 - lr: 1.0000e-04\n",
      "Epoch 32/50\n",
      "729/729 [==============================] - 278s 382ms/step - loss: 0.4812 - accuracy: 0.7621 - val_loss: 0.4131 - val_accuracy: 0.8260 - lr: 1.0000e-04\n",
      "Epoch 33/50\n",
      "729/729 [==============================] - 273s 374ms/step - loss: 0.4771 - accuracy: 0.7701 - val_loss: 0.4074 - val_accuracy: 0.8234 - lr: 1.0000e-04\n",
      "Epoch 34/50\n",
      "729/729 [==============================] - 278s 381ms/step - loss: 0.4784 - accuracy: 0.7696 - val_loss: 0.4091 - val_accuracy: 0.8250 - lr: 1.0000e-04\n",
      "Epoch 35/50\n",
      "729/729 [==============================] - 288s 395ms/step - loss: 0.4758 - accuracy: 0.7684 - val_loss: 0.4109 - val_accuracy: 0.8234 - lr: 1.0000e-04\n",
      "Epoch 36/50\n",
      "729/729 [==============================] - 288s 395ms/step - loss: 0.4730 - accuracy: 0.7704 - val_loss: 0.4067 - val_accuracy: 0.8183 - lr: 1.0000e-04\n",
      "Epoch 37/50\n",
      "729/729 [==============================] - 184s 252ms/step - loss: 0.4727 - accuracy: 0.7726 - val_loss: 0.4062 - val_accuracy: 0.8257 - lr: 1.0000e-04\n",
      "Epoch 38/50\n",
      "729/729 [==============================] - 190s 260ms/step - loss: 0.4699 - accuracy: 0.7728 - val_loss: 0.4059 - val_accuracy: 0.8258 - lr: 1.0000e-04\n",
      "Epoch 39/50\n",
      "729/729 [==============================] - 182s 250ms/step - loss: 0.4780 - accuracy: 0.7681 - val_loss: 0.4013 - val_accuracy: 0.8245 - lr: 1.0000e-04\n",
      "Epoch 40/50\n",
      "729/729 [==============================] - 181s 248ms/step - loss: 0.4750 - accuracy: 0.7710 - val_loss: 0.4033 - val_accuracy: 0.8272 - lr: 1.0000e-04\n",
      "Epoch 41/50\n",
      "729/729 [==============================] - 183s 251ms/step - loss: 0.4733 - accuracy: 0.7711 - val_loss: 0.4037 - val_accuracy: 0.8217 - lr: 1.0000e-04\n",
      "Epoch 42/50\n",
      "729/729 [==============================] - 183s 251ms/step - loss: 0.4703 - accuracy: 0.7732 - val_loss: 0.4030 - val_accuracy: 0.8262 - lr: 1.0000e-04\n",
      "Epoch 43/50\n",
      "729/729 [==============================] - 184s 252ms/step - loss: 0.4715 - accuracy: 0.7734 - val_loss: 0.4086 - val_accuracy: 0.8186 - lr: 1.0000e-05\n",
      "Epoch 44/50\n",
      "729/729 [==============================] - 184s 252ms/step - loss: 0.4722 - accuracy: 0.7726 - val_loss: 0.4064 - val_accuracy: 0.8228 - lr: 1.0000e-05\n"
     ]
    }
   ],
   "source": [
    "history = model.fit(\n",
    "    train_images,\n",
    "    validation_data=val_images,\n",
    "    epochs=50,\n",
    "    callbacks=[\n",
    "        tf.keras.callbacks.EarlyStopping(\n",
    "            monitor='val_loss',\n",
    "            patience=5,\n",
    "            restore_best_weights=True\n",
    "        ),\n",
    "        tf.keras.callbacks.ReduceLROnPlateau(\n",
    "            monitor='val_loss',\n",
    "            patience=3\n",
    "        )\n",
    "    ]\n",
    ")"
   ]
  },
  {
   "cell_type": "code",
   "execution_count": 14,
   "id": "e18715e0",
   "metadata": {},
   "outputs": [
    {
     "data": {
      "image/png": "[encoded data removed]",
      "text/plain": [
       "<Figure size 432x288 with 1 Axes>"
      ]
     },
     "metadata": {
      "needs_background": "light"
     },
     "output_type": "display_data"
    }
   ],
   "source": [
    "import matplotlib.pyplot as plt\n",
    "\n",
    "plt.plot(history.history['accuracy'])\n",
    "plt.plot(history.history['val_accuracy'])\n",
    "\n",
    "plt.title('Custom Model Accuracy')\n",
    "plt.ylabel('Accuracy')\n",
    "plt.xlabel('Epoch')\n",
    "plt.legend(['Accuracy', 'Validation Accuracy', 'loss', 'Validation Loss'])\n",
    "plt.show()"
   ]
  },
  {
   "cell_type": "code",
   "execution_count": 15,
   "id": "f237a5bb",
   "metadata": {},
   "outputs": [
    {
     "data": {
      "image/png": "[encoded data removed]",
      "text/plain": [
       "<Figure size 432x288 with 1 Axes>"
      ]
     },
     "metadata": {
      "needs_background": "light"
     },
     "output_type": "display_data"
    }
   ],
   "source": [
    "import matplotlib.pyplot as plt\n",
    "\n",
    "plt.plot(history.history['loss'])\n",
    "plt.plot(history.history['val_loss'])\n",
    "plt.title('Custom Model Loss')\n",
    "plt.ylabel('loss')\n",
    "plt.xlabel('epoch')\n",
    "plt.legend(['Loss', 'Validation Loss'], loc='upper right')\n",
    "plt.show()"
   ]
  },
  {
   "cell_type": "code",
   "execution_count": 16,
   "id": "779d472f",
   "metadata": {},
   "outputs": [
    {
     "name": "stdout",
     "output_type": "stream",
     "text": [
      "    Test Loss: 0.42361\n",
      "Test Accuracy: 80.26%\n"
     ]
    }
   ],
   "source": [
    "results = model.evaluate(test_images, verbose=0)\n",
    "\n",
    "print(\"    Test Loss: {:.5f}\".format(results[0]))\n",
    "print(\"Test Accuracy: {:.2f}%\".format(results[1] * 100))"
   ]
  },
  {
   "cell_type": "code",
   "execution_count": 17,
   "id": "40ab97c9",
   "metadata": {},
   "outputs": [
    {
     "name": "stdout",
     "output_type": "stream",
     "text": [
      "228/228 [==============================] - 43s 186ms/step\n"
     ]
    },
    {
     "data": {
      "image/png": "[encoded data removed]",
      "text/plain": [
       "<Figure size 432x432 with 1 Axes>"
      ]
     },
     "metadata": {
      "needs_background": "light"
     },
     "output_type": "display_data"
    },
    {
     "name": "stdout",
     "output_type": "stream",
     "text": [
      "Classification Report:\n",
      "----------------------\n",
      "               precision    recall  f1-score   support\n",
      "\n",
      "         ACC       0.85      0.73      0.79      3648\n",
      "Kidney tumor       0.76      0.87      0.82      3638\n",
      "\n",
      "    accuracy                           0.80      7286\n",
      "   macro avg       0.81      0.80      0.80      7286\n",
      "weighted avg       0.81      0.80      0.80      7286\n",
      "\n"
     ]
    }
   ],
   "source": [
    "predictions = (model.predict(test_images) >= 0.5).astype(int)\n",
    "\n",
    "cm = confusion_matrix(test_images.labels, predictions, labels=[0, 1])\n",
    "clr = classification_report(test_images.labels, predictions, labels=[0, 1], target_names=[\"ACC\", \"Kidney tumor\"])\n",
    "\n",
    "plt.figure(figsize=(6, 6))\n",
    "sns.heatmap(cm, annot=True, fmt='g', vmin=0, cmap='Blues', cbar=False)\n",
    "plt.xticks(ticks=[0.5, 1.5], labels=[\"ACC\", \"Kidney tumor\"])\n",
    "plt.yticks(ticks=[0.5, 1.5], labels=[\"ACC\", \"Kidney tumor\"])\n",
    "plt.xlabel(\"Predicted\")\n",
    "plt.ylabel(\"Actual\")\n",
    "plt.title(\"Confusion Matrix of VGG19 Model\")\n",
    "plt.show()\n",
    "\n",
    "print(\"Classification Report:\\n----------------------\\n\", clr)"
   ]
  },
  {
   "cell_type": "code",
   "execution_count": 18,
   "id": "728833dd",
   "metadata": {},
   "outputs": [
    {
     "name": "stdout",
     "output_type": "stream",
     "text": [
      "228/228 [==============================] - 43s 189ms/step\n",
      "AUC ROC: 0.88959\n"
     ]
    },
    {
     "data": {
      "image/png": "[encoded data removed]",
      "text/plain": [
       "<Figure size 432x288 with 1 Axes>"
      ]
     },
     "metadata": {
      "needs_background": "light"
     },
     "output_type": "display_data"
    }
   ],
   "source": [
    "# Obtain predicted probabilities\n",
    "from sklearn.metrics import roc_auc_score, roc_curve\n",
    "\n",
    "predicted_probabilities = model.predict(test_images)\n",
    "\n",
    "# Compute AUC ROC\n",
    "auc_roc = roc_auc_score(test_images.labels, predicted_probabilities)\n",
    "\n",
    "print(\"AUC ROC: {:.5f}\".format(auc_roc))\n",
    "\n",
    "# Plot ROC curve\n",
    "fpr, tpr, thresholds = roc_curve(test_images.labels, predicted_probabilities)\n",
    "\n",
    "plt.figure()\n",
    "plt.plot(fpr, tpr, label='ROC curve (area = {:.2f})'.format(auc_roc))\n",
    "plt.plot([0, 1], [0, 1], 'k--')\n",
    "plt.xlim([0.0, 1.0])\n",
    "plt.ylim([0.0, 1.05])\n",
    "plt.xlabel('False Positive Rate')\n",
    "plt.ylabel('True Positive Rate')\n",
    "plt.title('Receiver Operating Characteristic (ROC) Curve')\n",
    "plt.legend(loc='lower right')\n",
    "plt.show()"
   ]
  },
  {
   "cell_type": "code",
   "execution_count": 19,
   "id": "c3580228",
   "metadata": {},
   "outputs": [],
   "source": [
    "# save the model to a file\n",
    "model.save('VGG19- ACC vs Kidney tumor .h5')"
   ]
  },
  {
   "cell_type": "code",
   "execution_count": null,
   "id": "0c727bfd",
   "metadata": {},
   "outputs": [],
   "source": []
  }
 ],
 "metadata": {
  "kernelspec": {
   "display_name": "Python 3 (ipykernel)",
   "language": "python",
   "name": "python3"
  },
  "language_info": {
   "codemirror_mode": {
    "name": "ipython",
    "version": 3
   },
   "file_extension": ".py",
   "mimetype": "text/x-python",
   "name": "python",
   "nbconvert_exporter": "python",
   "pygments_lexer": "ipython3",
   "version": "3.10.4"
  }
 },
 "nbformat": 4,
 "nbformat_minor": 5
}
