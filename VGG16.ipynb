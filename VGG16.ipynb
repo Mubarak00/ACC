{
 "cells": [
  {
   "cell_type": "code",
   "execution_count": 1,
   "id": "a055de6b",
   "metadata": {},
   "outputs": [],
   "source": [
    "import numpy as np\n",
    "import pandas as pd\n",
    "from pathlib import Path\n",
    "import os.path\n",
    "\n",
    "import matplotlib.pyplot as plt\n",
    "import seaborn as sns\n",
    "\n",
    "from sklearn.model_selection import train_test_split\n",
    "\n",
    "import tensorflow as tf\n",
    "\n",
    "from sklearn.metrics import confusion_matrix, classification_report"
   ]
  },
  {
   "cell_type": "code",
   "execution_count": 2,
   "id": "fec2ba69",
   "metadata": {},
   "outputs": [],
   "source": [
    "image_dir = Path(\"C:/Users/NET_PC/Desktop/Adrenocortical carcionoma project/JPG 2 Data\")"
   ]
  },
  {
   "cell_type": "code",
   "execution_count": 3,
   "id": "891cf49c",
   "metadata": {},
   "outputs": [],
   "source": [
    "filepaths = list(image_dir.glob(r'**/*.JPG'))\n",
    "labels = list(map(lambda x: os.path.split(os.path.split(x)[0])[1], filepaths))\n",
    "\n",
    "filepaths = pd.Series(filepaths, name='Filepath').astype(str)\n",
    "labels = pd.Series(labels, name='Label')\n",
    "\n",
    "image_df = pd.concat([filepaths, labels], axis=1)"
   ]
  },
  {
   "cell_type": "code",
   "execution_count": 4,
   "id": "d46cbff1",
   "metadata": {},
   "outputs": [
    {
     "data": {
      "text/html": [
       "<div>\n",
       "<style scoped>\n",
       "    .dataframe tbody tr th:only-of-type {\n",
       "        vertical-align: middle;\n",
       "    }\n",
       "\n",
       "    .dataframe tbody tr th {\n",
       "        vertical-align: top;\n",
       "    }\n",
       "\n",
       "    .dataframe thead th {\n",
       "        text-align: right;\n",
       "    }\n",
       "</style>\n",
       "<table border=\"1\" class=\"dataframe\">\n",
       "  <thead>\n",
       "    <tr style=\"text-align: right;\">\n",
       "      <th></th>\n",
       "      <th>Filepath</th>\n",
       "      <th>Label</th>\n",
       "    </tr>\n",
       "  </thead>\n",
       "  <tbody>\n",
       "    <tr>\n",
       "      <th>0</th>\n",
       "      <td>C:\\Users\\NET_PC\\Desktop\\Adrenocortical carcion...</td>\n",
       "      <td>Adrenocortical carcinoma JPG (Type 2)</td>\n",
       "    </tr>\n",
       "    <tr>\n",
       "      <th>1</th>\n",
       "      <td>C:\\Users\\NET_PC\\Desktop\\Adrenocortical carcion...</td>\n",
       "      <td>Adrenocortical carcinoma JPG (Type 2)</td>\n",
       "    </tr>\n",
       "    <tr>\n",
       "      <th>2</th>\n",
       "      <td>C:\\Users\\NET_PC\\Desktop\\Adrenocortical carcion...</td>\n",
       "      <td>Adrenocortical carcinoma JPG (Type 2)</td>\n",
       "    </tr>\n",
       "    <tr>\n",
       "      <th>3</th>\n",
       "      <td>C:\\Users\\NET_PC\\Desktop\\Adrenocortical carcion...</td>\n",
       "      <td>Adrenocortical carcinoma JPG (Type 2)</td>\n",
       "    </tr>\n",
       "    <tr>\n",
       "      <th>4</th>\n",
       "      <td>C:\\Users\\NET_PC\\Desktop\\Adrenocortical carcion...</td>\n",
       "      <td>Adrenocortical carcinoma JPG (Type 2)</td>\n",
       "    </tr>\n",
       "    <tr>\n",
       "      <th>...</th>\n",
       "      <td>...</td>\n",
       "      <td>...</td>\n",
       "    </tr>\n",
       "    <tr>\n",
       "      <th>36425</th>\n",
       "      <td>C:\\Users\\NET_PC\\Desktop\\Adrenocortical carcion...</td>\n",
       "      <td>Kidney tumor JPG (Type 2)</td>\n",
       "    </tr>\n",
       "    <tr>\n",
       "      <th>36426</th>\n",
       "      <td>C:\\Users\\NET_PC\\Desktop\\Adrenocortical carcion...</td>\n",
       "      <td>Kidney tumor JPG (Type 2)</td>\n",
       "    </tr>\n",
       "    <tr>\n",
       "      <th>36427</th>\n",
       "      <td>C:\\Users\\NET_PC\\Desktop\\Adrenocortical carcion...</td>\n",
       "      <td>Kidney tumor JPG (Type 2)</td>\n",
       "    </tr>\n",
       "    <tr>\n",
       "      <th>36428</th>\n",
       "      <td>C:\\Users\\NET_PC\\Desktop\\Adrenocortical carcion...</td>\n",
       "      <td>Kidney tumor JPG (Type 2)</td>\n",
       "    </tr>\n",
       "    <tr>\n",
       "      <th>36429</th>\n",
       "      <td>C:\\Users\\NET_PC\\Desktop\\Adrenocortical carcion...</td>\n",
       "      <td>Kidney tumor JPG (Type 2)</td>\n",
       "    </tr>\n",
       "  </tbody>\n",
       "</table>\n",
       "<p>36430 rows × 2 columns</p>\n",
       "</div>"
      ],
      "text/plain": [
       "                                                Filepath  \\\n",
       "0      C:\\Users\\NET_PC\\Desktop\\Adrenocortical carcion...   \n",
       "1      C:\\Users\\NET_PC\\Desktop\\Adrenocortical carcion...   \n",
       "2      C:\\Users\\NET_PC\\Desktop\\Adrenocortical carcion...   \n",
       "3      C:\\Users\\NET_PC\\Desktop\\Adrenocortical carcion...   \n",
       "4      C:\\Users\\NET_PC\\Desktop\\Adrenocortical carcion...   \n",
       "...                                                  ...   \n",
       "36425  C:\\Users\\NET_PC\\Desktop\\Adrenocortical carcion...   \n",
       "36426  C:\\Users\\NET_PC\\Desktop\\Adrenocortical carcion...   \n",
       "36427  C:\\Users\\NET_PC\\Desktop\\Adrenocortical carcion...   \n",
       "36428  C:\\Users\\NET_PC\\Desktop\\Adrenocortical carcion...   \n",
       "36429  C:\\Users\\NET_PC\\Desktop\\Adrenocortical carcion...   \n",
       "\n",
       "                                       Label  \n",
       "0      Adrenocortical carcinoma JPG (Type 2)  \n",
       "1      Adrenocortical carcinoma JPG (Type 2)  \n",
       "2      Adrenocortical carcinoma JPG (Type 2)  \n",
       "3      Adrenocortical carcinoma JPG (Type 2)  \n",
       "4      Adrenocortical carcinoma JPG (Type 2)  \n",
       "...                                      ...  \n",
       "36425              Kidney tumor JPG (Type 2)  \n",
       "36426              Kidney tumor JPG (Type 2)  \n",
       "36427              Kidney tumor JPG (Type 2)  \n",
       "36428              Kidney tumor JPG (Type 2)  \n",
       "36429              Kidney tumor JPG (Type 2)  \n",
       "\n",
       "[36430 rows x 2 columns]"
      ]
     },
     "execution_count": 4,
     "metadata": {},
     "output_type": "execute_result"
    }
   ],
   "source": [
    "image_df"
   ]
  },
  {
   "cell_type": "code",
   "execution_count": 5,
   "id": "c34e9e7b",
   "metadata": {},
   "outputs": [],
   "source": [
    "train_df, test_df = train_test_split(image_df, train_size=0.80, shuffle=True, random_state=1)"
   ]
  },
  {
   "cell_type": "code",
   "execution_count": 6,
   "id": "71448e5d",
   "metadata": {},
   "outputs": [],
   "source": [
    "from keras.preprocessing.image import ImageDataGenerator\n",
    "\n",
    "train_generator = tf.keras.preprocessing.image.ImageDataGenerator(rescale=1./255,\n",
    "                                                                  horizontal_flip=True,\n",
    "                                                                  width_shift_range=0.2,\n",
    "                                                                  height_shift_range=0.2,\n",
    "                                                                  validation_split=0.2)\n",
    "\n",
    "test_generator = tf.keras.preprocessing.image.ImageDataGenerator(rescale=1./255)"
   ]
  },
  {
   "cell_type": "code",
   "execution_count": 7,
   "id": "5bbfb9fb",
   "metadata": {},
   "outputs": [
    {
     "name": "stdout",
     "output_type": "stream",
     "text": [
      "Found 23316 validated image filenames belonging to 2 classes.\n",
      "Found 5828 validated image filenames belonging to 2 classes.\n",
      "Found 7286 validated image filenames belonging to 2 classes.\n"
     ]
    }
   ],
   "source": [
    "train_images = train_generator.flow_from_dataframe(dataframe=train_df,\n",
    "                                                   x_col='Filepath',\n",
    "                                                   y_col='Label',\n",
    "                                                   target_size=(64, 64),\n",
    "                                                   color_mode='rgb',\n",
    "                                                   class_mode='binary',\n",
    "                                                   batch_size=32,\n",
    "                                                   shuffle=True,\n",
    "                                                   seed=42,\n",
    "                                                   subset='training')\n",
    "\n",
    "val_images = train_generator.flow_from_dataframe(dataframe=train_df,\n",
    "                                                 x_col='Filepath',\n",
    "                                                 y_col='Label',\n",
    "                                                 target_size=(64, 64),\n",
    "                                                 color_mode='rgb',\n",
    "                                                 class_mode='binary',\n",
    "                                                 batch_size=32,\n",
    "                                                 shuffle=True,\n",
    "                                                 seed=42,\n",
    "                                                 subset='validation')\n",
    "\n",
    "test_images = test_generator.flow_from_dataframe(dataframe=test_df,\n",
    "                                                 x_col='Filepath',\n",
    "                                                 y_col='Label',\n",
    "                                                 target_size=(64, 64),\n",
    "                                                 color_mode='rgb',\n",
    "                                                 class_mode='binary',\n",
    "                                                 batch_size=32,\n",
    "                                                 shuffle=False)"
   ]
  },
  {
   "cell_type": "code",
   "execution_count": 8,
   "id": "c6162884",
   "metadata": {},
   "outputs": [],
   "source": [
    "import keras\n",
    "from keras.models import Sequential\n",
    "from keras.layers import Dense, Conv3D, MaxPool3D , Dropout, Flatten\n",
    "from tensorflow.keras.layers import Dropout\n",
    "\n",
    "from keras.applications.vgg16 import VGG16\n",
    "#from keras.applications.vgg16 import preprocess_input\n",
    "\n",
    "\n",
    "vgg = VGG16(input_shape= (64, 64, 3), weights='imagenet', include_top=False)\n",
    "vgg.trainable = False"
   ]
  },
  {
   "cell_type": "code",
   "execution_count": 9,
   "id": "ba4d5476",
   "metadata": {},
   "outputs": [],
   "source": [
    "model = keras.Sequential([\n",
    "    vgg,\n",
    "    keras.layers.Flatten(),\n",
    "    keras.layers.Dropout(0.5),\n",
    "    keras.layers.Dense(units=32, activation='relu'),\n",
    "    keras.layers.Dropout(0.25),\n",
    "    keras.layers.Dense(units=1, activation='sigmoid'),\n",
    "])"
   ]
  },
  {
   "cell_type": "code",
   "execution_count": 10,
   "id": "f56c3f7b",
   "metadata": {},
   "outputs": [],
   "source": [
    "model.compile(\n",
    "  loss='binary_crossentropy',\n",
    "  optimizer='adam',\n",
    "  metrics=['accuracy']\n",
    ")"
   ]
  },
  {
   "cell_type": "code",
   "execution_count": 11,
   "id": "01a24b7f",
   "metadata": {},
   "outputs": [
    {
     "name": "stdout",
     "output_type": "stream",
     "text": [
      "Model: \"sequential\"\n",
      "_________________________________________________________________\n",
      " Layer (type)                Output Shape              Param #   \n",
      "=================================================================\n",
      " vgg16 (Functional)          (None, 2, 2, 512)         14714688  \n",
      "                                                                 \n",
      " flatten (Flatten)           (None, 2048)              0         \n",
      "                                                                 \n",
      " dropout (Dropout)           (None, 2048)              0         \n",
      "                                                                 \n",
      " dense (Dense)               (None, 32)                65568     \n",
      "                                                                 \n",
      " dropout_1 (Dropout)         (None, 32)                0         \n",
      "                                                                 \n",
      " dense_1 (Dense)             (None, 1)                 33        \n",
      "                                                                 \n",
      "=================================================================\n",
      "Total params: 14,780,289\n",
      "Trainable params: 65,601\n",
      "Non-trainable params: 14,714,688\n",
      "_________________________________________________________________\n"
     ]
    }
   ],
   "source": [
    "model.summary()"
   ]
  },
  {
   "cell_type": "code",
   "execution_count": 12,
   "id": "d9509c90",
   "metadata": {},
   "outputs": [
    {
     "name": "stdout",
     "output_type": "stream",
     "text": [
      "<keras.engine.functional.Functional object at 0x000001D2CC94D810> False\n",
      "<keras.layers.reshaping.flatten.Flatten object at 0x000001D2CBFCCC70> True\n",
      "<keras.layers.regularization.dropout.Dropout object at 0x000001D2CBFCF850> True\n",
      "<keras.layers.core.dense.Dense object at 0x000001D2CBFA8310> True\n",
      "<keras.layers.regularization.dropout.Dropout object at 0x000001D2CBFAA170> True\n",
      "<keras.layers.core.dense.Dense object at 0x000001D2CC94F310> True\n"
     ]
    }
   ],
   "source": [
    "for layer in model.layers:\n",
    "    print(layer, layer.trainable)"
   ]
  },
  {
   "cell_type": "code",
   "execution_count": 13,
   "id": "18ee6332",
   "metadata": {},
   "outputs": [
    {
     "name": "stdout",
     "output_type": "stream",
     "text": [
      "Epoch 1/50\n",
      "729/729 [==============================] - 422s 578ms/step - loss: 0.6301 - accuracy: 0.6485 - val_loss: 0.5594 - val_accuracy: 0.7237 - lr: 0.0010\n",
      "Epoch 2/50\n",
      "729/729 [==============================] - 690s 946ms/step - loss: 0.5882 - accuracy: 0.6878 - val_loss: 0.5328 - val_accuracy: 0.7368 - lr: 0.0010\n",
      "Epoch 3/50\n",
      "729/729 [==============================] - 684s 939ms/step - loss: 0.5656 - accuracy: 0.7044 - val_loss: 0.5128 - val_accuracy: 0.7466 - lr: 0.0010\n",
      "Epoch 4/50\n",
      "729/729 [==============================] - 657s 901ms/step - loss: 0.5553 - accuracy: 0.7114 - val_loss: 0.5143 - val_accuracy: 0.7598 - lr: 0.0010\n",
      "Epoch 5/50\n",
      "729/729 [==============================] - 480s 658ms/step - loss: 0.5453 - accuracy: 0.7199 - val_loss: 0.4972 - val_accuracy: 0.7685 - lr: 0.0010\n",
      "Epoch 6/50\n",
      "729/729 [==============================] - 479s 657ms/step - loss: 0.5358 - accuracy: 0.7237 - val_loss: 0.4800 - val_accuracy: 0.7613 - lr: 0.0010\n",
      "Epoch 7/50\n",
      "729/729 [==============================] - 488s 669ms/step - loss: 0.5305 - accuracy: 0.7295 - val_loss: 0.4754 - val_accuracy: 0.7718 - lr: 0.0010\n",
      "Epoch 8/50\n",
      "729/729 [==============================] - 431s 591ms/step - loss: 0.5255 - accuracy: 0.7371 - val_loss: 0.4722 - val_accuracy: 0.7807 - lr: 0.0010\n",
      "Epoch 9/50\n",
      "729/729 [==============================] - 417s 572ms/step - loss: 0.5232 - accuracy: 0.7370 - val_loss: 0.4700 - val_accuracy: 0.7845 - lr: 0.0010\n",
      "Epoch 10/50\n",
      "729/729 [==============================] - 414s 568ms/step - loss: 0.5148 - accuracy: 0.7395 - val_loss: 0.4638 - val_accuracy: 0.7879 - lr: 0.0010\n",
      "Epoch 11/50\n",
      "729/729 [==============================] - 418s 573ms/step - loss: 0.5114 - accuracy: 0.7392 - val_loss: 0.4429 - val_accuracy: 0.7953 - lr: 0.0010\n",
      "Epoch 12/50\n",
      "729/729 [==============================] - 419s 575ms/step - loss: 0.5063 - accuracy: 0.7488 - val_loss: 0.4514 - val_accuracy: 0.7891 - lr: 0.0010\n",
      "Epoch 13/50\n",
      "729/729 [==============================] - 405s 555ms/step - loss: 0.5049 - accuracy: 0.7451 - val_loss: 0.4512 - val_accuracy: 0.7891 - lr: 0.0010\n",
      "Epoch 14/50\n",
      "729/729 [==============================] - 423s 580ms/step - loss: 0.5021 - accuracy: 0.7488 - val_loss: 0.4400 - val_accuracy: 0.7980 - lr: 0.0010\n",
      "Epoch 15/50\n",
      "729/729 [==============================] - 417s 572ms/step - loss: 0.4968 - accuracy: 0.7536 - val_loss: 0.4597 - val_accuracy: 0.7926 - lr: 0.0010\n",
      "Epoch 16/50\n",
      "729/729 [==============================] - 413s 566ms/step - loss: 0.5045 - accuracy: 0.7470 - val_loss: 0.4487 - val_accuracy: 0.7944 - lr: 0.0010\n",
      "Epoch 17/50\n",
      "729/729 [==============================] - 420s 577ms/step - loss: 0.5014 - accuracy: 0.7463 - val_loss: 0.4258 - val_accuracy: 0.8104 - lr: 0.0010\n",
      "Epoch 18/50\n",
      "729/729 [==============================] - 420s 575ms/step - loss: 0.4977 - accuracy: 0.7510 - val_loss: 0.4158 - val_accuracy: 0.8049 - lr: 0.0010\n",
      "Epoch 19/50\n",
      "729/729 [==============================] - 418s 573ms/step - loss: 0.4884 - accuracy: 0.7549 - val_loss: 0.4221 - val_accuracy: 0.7972 - lr: 0.0010\n",
      "Epoch 20/50\n",
      "729/729 [==============================] - 406s 557ms/step - loss: 0.4908 - accuracy: 0.7569 - val_loss: 0.4306 - val_accuracy: 0.7972 - lr: 0.0010\n",
      "Epoch 21/50\n",
      "729/729 [==============================] - 410s 563ms/step - loss: 0.4889 - accuracy: 0.7518 - val_loss: 0.4295 - val_accuracy: 0.7963 - lr: 0.0010\n",
      "Epoch 22/50\n",
      "729/729 [==============================] - 365s 501ms/step - loss: 0.4819 - accuracy: 0.7583 - val_loss: 0.4140 - val_accuracy: 0.8095 - lr: 1.0000e-04\n",
      "Epoch 23/50\n",
      "729/729 [==============================] - 366s 502ms/step - loss: 0.4851 - accuracy: 0.7574 - val_loss: 0.4118 - val_accuracy: 0.8145 - lr: 1.0000e-04\n",
      "Epoch 24/50\n",
      "729/729 [==============================] - 274s 375ms/step - loss: 0.4779 - accuracy: 0.7588 - val_loss: 0.4157 - val_accuracy: 0.8111 - lr: 1.0000e-04\n",
      "Epoch 25/50\n",
      "729/729 [==============================] - 273s 374ms/step - loss: 0.4745 - accuracy: 0.7630 - val_loss: 0.4071 - val_accuracy: 0.8147 - lr: 1.0000e-04\n",
      "Epoch 26/50\n",
      "729/729 [==============================] - 268s 368ms/step - loss: 0.4796 - accuracy: 0.7615 - val_loss: 0.4130 - val_accuracy: 0.8107 - lr: 1.0000e-04\n",
      "Epoch 27/50\n",
      "729/729 [==============================] - 273s 374ms/step - loss: 0.4768 - accuracy: 0.7650 - val_loss: 0.4058 - val_accuracy: 0.8212 - lr: 1.0000e-04\n",
      "Epoch 28/50\n",
      "729/729 [==============================] - 274s 376ms/step - loss: 0.4804 - accuracy: 0.7606 - val_loss: 0.4101 - val_accuracy: 0.8138 - lr: 1.0000e-04\n",
      "Epoch 29/50\n",
      "729/729 [==============================] - 264s 362ms/step - loss: 0.4760 - accuracy: 0.7601 - val_loss: 0.4161 - val_accuracy: 0.8101 - lr: 1.0000e-04\n",
      "Epoch 30/50\n",
      "729/729 [==============================] - 271s 372ms/step - loss: 0.4699 - accuracy: 0.7647 - val_loss: 0.4041 - val_accuracy: 0.8191 - lr: 1.0000e-04\n",
      "Epoch 31/50\n",
      "729/729 [==============================] - 264s 361ms/step - loss: 0.4737 - accuracy: 0.7627 - val_loss: 0.4100 - val_accuracy: 0.8082 - lr: 1.0000e-04\n",
      "Epoch 32/50\n",
      "729/729 [==============================] - 275s 377ms/step - loss: 0.4792 - accuracy: 0.7630 - val_loss: 0.4091 - val_accuracy: 0.8104 - lr: 1.0000e-04\n",
      "Epoch 33/50\n",
      "729/729 [==============================] - 274s 375ms/step - loss: 0.4764 - accuracy: 0.7626 - val_loss: 0.4056 - val_accuracy: 0.8202 - lr: 1.0000e-04\n",
      "Epoch 34/50\n",
      "729/729 [==============================] - 272s 373ms/step - loss: 0.4740 - accuracy: 0.7630 - val_loss: 0.4051 - val_accuracy: 0.8193 - lr: 1.0000e-05\n",
      "Epoch 35/50\n",
      "729/729 [==============================] - 271s 371ms/step - loss: 0.4756 - accuracy: 0.7615 - val_loss: 0.4094 - val_accuracy: 0.8118 - lr: 1.0000e-05\n"
     ]
    }
   ],
   "source": [
    "history = model.fit(\n",
    "    train_images,\n",
    "    validation_data=val_images,\n",
    "    epochs=50,\n",
    "    callbacks=[\n",
    "        tf.keras.callbacks.EarlyStopping(\n",
    "            monitor='val_loss',\n",
    "            patience=5,\n",
    "            restore_best_weights=True\n",
    "        ),\n",
    "        tf.keras.callbacks.ReduceLROnPlateau(\n",
    "            monitor='val_loss',\n",
    "            patience=3\n",
    "        )\n",
    "    ]\n",
    ")"
   ]
  },
  {
   "cell_type": "code",
   "execution_count": 14,
   "id": "07a079c9",
   "metadata": {},
   "outputs": [
    {
     "data": {
      "image/png": "[encoded data removed]",
      "text/plain": [
       "<Figure size 432x288 with 1 Axes>"
      ]
     },
     "metadata": {
      "needs_background": "light"
     },
     "output_type": "display_data"
    }
   ],
   "source": [
    "import matplotlib.pyplot as plt\n",
    "\n",
    "#plt.figure(figsize=(14, 10))\n",
    "plt.plot(history.history['accuracy'])\n",
    "plt.plot(history.history['val_accuracy'])\n",
    "plt.title('VGG16 Model Accuracy')\n",
    "plt.ylabel('Accuracy')\n",
    "plt.xlabel('Epoch')\n",
    "plt.legend(['Accuracy', 'Validation Accuracy', 'loss', 'Validation Loss'])\n",
    "plt.show()"
   ]
  },
  {
   "cell_type": "code",
   "execution_count": 15,
   "id": "29f508db",
   "metadata": {},
   "outputs": [
    {
     "data": {
      "image/png": "[encoded data removed]",
      "text/plain": [
       "<Figure size 432x288 with 1 Axes>"
      ]
     },
     "metadata": {
      "needs_background": "light"
     },
     "output_type": "display_data"
    }
   ],
   "source": [
    "import matplotlib.pyplot as plt\n",
    "\n",
    "#plt.figure(figsize=(14, 10))\n",
    "plt.plot(history.history['loss'])\n",
    "plt.plot(history.history['val_loss'])\n",
    "plt.title('VGG16 Model Loss')\n",
    "plt.ylabel('Loss')\n",
    "plt.xlabel('Epoch')\n",
    "plt.legend(['Train', 'Test'], loc='upper right')\n",
    "plt.show()"
   ]
  },
  {
   "cell_type": "code",
   "execution_count": 16,
   "id": "459d74db",
   "metadata": {},
   "outputs": [
    {
     "name": "stdout",
     "output_type": "stream",
     "text": [
      "    Test Loss: 0.42434\n",
      "Test Accuracy: 80.65%\n"
     ]
    }
   ],
   "source": [
    "results = model.evaluate(test_images, verbose=0)\n",
    "\n",
    "print(\"    Test Loss: {:.5f}\".format(results[0]))\n",
    "print(\"Test Accuracy: {:.2f}%\".format(results[1] * 100))"
   ]
  },
  {
   "cell_type": "code",
   "execution_count": 17,
   "id": "33eeb3d7",
   "metadata": {
    "scrolled": false
   },
   "outputs": [
    {
     "name": "stdout",
     "output_type": "stream",
     "text": [
      "228/228 [==============================] - 53s 229ms/step\n"
     ]
    },
    {
     "data": {
      "image/png": "[encoded data removed]",
      "text/plain": [
       "<Figure size 432x432 with 1 Axes>"
      ]
     },
     "metadata": {
      "needs_background": "light"
     },
     "output_type": "display_data"
    },
    {
     "name": "stdout",
     "output_type": "stream",
     "text": [
      "Classification Report:\n",
      "----------------------\n",
      "               precision    recall  f1-score   support\n",
      "\n",
      "         ACC       0.82      0.79      0.80      3648\n",
      "Kidney tumor       0.79      0.83      0.81      3638\n",
      "\n",
      "    accuracy                           0.81      7286\n",
      "   macro avg       0.81      0.81      0.81      7286\n",
      "weighted avg       0.81      0.81      0.81      7286\n",
      "\n"
     ]
    }
   ],
   "source": [
    "predictions = (model.predict(test_images) >= 0.5).astype(int)\n",
    "\n",
    "cm = confusion_matrix(test_images.labels, predictions, labels=[0, 1])\n",
    "clr = classification_report(test_images.labels, predictions, labels=[0, 1], target_names=[\"ACC\", \"Kidney tumor\"])\n",
    "\n",
    "plt.figure(figsize=(6, 6))\n",
    "sns.heatmap(cm, annot=True, fmt='g', vmin=0, cmap='Blues', cbar=False)\n",
    "plt.xticks(ticks=[0.5, 1.5], labels=[\"ACC\", \"Kidney tumor\"])\n",
    "plt.yticks(ticks=[0.5, 1.5], labels=[\"ACC\", \"Kidney tumor\"])\n",
    "plt.xlabel(\"Predicted\")\n",
    "plt.ylabel(\"Actual\")\n",
    "plt.title(\"Confusion Matrix for VGG16 Model\")\n",
    "plt.show()\n",
    "\n",
    "print(\"Classification Report:\\n----------------------\\n\", clr)"
   ]
  },
  {
   "cell_type": "code",
   "execution_count": 18,
   "id": "a1b61c81",
   "metadata": {},
   "outputs": [
    {
     "name": "stdout",
     "output_type": "stream",
     "text": [
      "228/228 [==============================] - 51s 224ms/step\n",
      "AUC ROC: 0.89537\n"
     ]
    },
    {
     "data": {
      "image/png": "[encoded data removed]",
      "text/plain": [
       "<Figure size 432x288 with 1 Axes>"
      ]
     },
     "metadata": {
      "needs_background": "light"
     },
     "output_type": "display_data"
    }
   ],
   "source": [
    "# Obtain predicted probabilities\n",
    "from sklearn.metrics import roc_auc_score, roc_curve\n",
    "\n",
    "predicted_probabilities = model.predict(test_images)\n",
    "\n",
    "# Compute AUC ROC\n",
    "auc_roc = roc_auc_score(test_images.labels, predicted_probabilities)\n",
    "\n",
    "print(\"AUC ROC: {:.5f}\".format(auc_roc))\n",
    "\n",
    "# Plot ROC curve\n",
    "fpr, tpr, thresholds = roc_curve(test_images.labels, predicted_probabilities)\n",
    "\n",
    "plt.figure()\n",
    "plt.plot(fpr, tpr, label='ROC curve (area = {:.2f})'.format(auc_roc))\n",
    "plt.plot([0, 1], [0, 1], 'k--')\n",
    "plt.xlim([0.0, 1.0])\n",
    "plt.ylim([0.0, 1.05])\n",
    "plt.xlabel('False Positive Rate')\n",
    "plt.ylabel('True Positive Rate')\n",
    "plt.title('Receiver Operating Characteristic (ROC) Curve')\n",
    "plt.legend(loc='lower right')\n",
    "plt.show()"
   ]
  },
  {
   "cell_type": "code",
   "execution_count": 19,
   "id": "4020629c",
   "metadata": {},
   "outputs": [],
   "source": [
    "# save the model to a file\n",
    "model.save('VGG16-ACC vs Kidney tumor .h5')"
   ]
  },
  {
   "cell_type": "code",
   "execution_count": null,
   "id": "06d358b3",
   "metadata": {},
   "outputs": [],
   "source": []
  }
 ],
 "metadata": {
  "kernelspec": {
   "display_name": "Python 3 (ipykernel)",
   "language": "python",
   "name": "python3"
  },
  "language_info": {
   "codemirror_mode": {
    "name": "ipython",
    "version": 3
   },
   "file_extension": ".py",
   "mimetype": "text/x-python",
   "name": "python",
   "nbconvert_exporter": "python",
   "pygments_lexer": "ipython3",
   "version": "3.10.4"
  }
 },
 "nbformat": 4,
 "nbformat_minor": 5
}
