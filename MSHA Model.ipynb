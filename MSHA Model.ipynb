{
 "cells": [
  {
   "cell_type": "code",
   "execution_count": 1,
   "id": "72f1fa9a",
   "metadata": {},
   "outputs": [],
   "source": [
    "import numpy as np\n",
    "import pandas as pd\n",
    "from pathlib import Path\n",
    "import os.path\n",
    "import matplotlib.pyplot as plt\n",
    "import seaborn as sns\n",
    "from sklearn.model_selection import train_test_split\n",
    "import tensorflow as tf\n",
    "from sklearn.metrics import confusion_matrix, classification_report\n",
    "from tensorflow.keras.models import Sequential\n",
    "from tensorflow.keras.layers import Conv2D, MaxPooling2D, Flatten, Dense, Dropout"
   ]
  },
  {
   "cell_type": "code",
   "execution_count": 2,
   "id": "9f83c24b",
   "metadata": {},
   "outputs": [],
   "source": [
    "image_dir = Path(\"C:/Users/NET_PC/Desktop/Adrenocortical carcionoma project/JPG 2 Data\")"
   ]
  },
  {
   "cell_type": "code",
   "execution_count": 3,
   "id": "ec732bdd",
   "metadata": {},
   "outputs": [],
   "source": [
    "filepaths = list(image_dir.glob(r'**/*.JPG'))\n",
    "labels = list(map(lambda x: os.path.split(os.path.split(x)[0])[1], filepaths))\n",
    "\n",
    "filepaths = pd.Series(filepaths, name='Filepath').astype(str)\n",
    "labels = pd.Series(labels, name='Label')\n",
    "\n",
    "image_df = pd.concat([filepaths, labels], axis=1)"
   ]
  },
  {
   "cell_type": "code",
   "execution_count": 4,
   "id": "ee5610c4",
   "metadata": {},
   "outputs": [
    {
     "data": {
      "text/html": [
       "<div>\n",
       "<style scoped>\n",
       "    .dataframe tbody tr th:only-of-type {\n",
       "        vertical-align: middle;\n",
       "    }\n",
       "\n",
       "    .dataframe tbody tr th {\n",
       "        vertical-align: top;\n",
       "    }\n",
       "\n",
       "    .dataframe thead th {\n",
       "        text-align: right;\n",
       "    }\n",
       "</style>\n",
       "<table border=\"1\" class=\"dataframe\">\n",
       "  <thead>\n",
       "    <tr style=\"text-align: right;\">\n",
       "      <th></th>\n",
       "      <th>Filepath</th>\n",
       "      <th>Label</th>\n",
       "    </tr>\n",
       "  </thead>\n",
       "  <tbody>\n",
       "    <tr>\n",
       "      <th>0</th>\n",
       "      <td>C:\\Users\\NET_PC\\Desktop\\Adrenocortical carcion...</td>\n",
       "      <td>Adrenocortical carcinoma JPG (Type 2)</td>\n",
       "    </tr>\n",
       "    <tr>\n",
       "      <th>1</th>\n",
       "      <td>C:\\Users\\NET_PC\\Desktop\\Adrenocortical carcion...</td>\n",
       "      <td>Adrenocortical carcinoma JPG (Type 2)</td>\n",
       "    </tr>\n",
       "    <tr>\n",
       "      <th>2</th>\n",
       "      <td>C:\\Users\\NET_PC\\Desktop\\Adrenocortical carcion...</td>\n",
       "      <td>Adrenocortical carcinoma JPG (Type 2)</td>\n",
       "    </tr>\n",
       "    <tr>\n",
       "      <th>3</th>\n",
       "      <td>C:\\Users\\NET_PC\\Desktop\\Adrenocortical carcion...</td>\n",
       "      <td>Adrenocortical carcinoma JPG (Type 2)</td>\n",
       "    </tr>\n",
       "    <tr>\n",
       "      <th>4</th>\n",
       "      <td>C:\\Users\\NET_PC\\Desktop\\Adrenocortical carcion...</td>\n",
       "      <td>Adrenocortical carcinoma JPG (Type 2)</td>\n",
       "    </tr>\n",
       "    <tr>\n",
       "      <th>...</th>\n",
       "      <td>...</td>\n",
       "      <td>...</td>\n",
       "    </tr>\n",
       "    <tr>\n",
       "      <th>36425</th>\n",
       "      <td>C:\\Users\\NET_PC\\Desktop\\Adrenocortical carcion...</td>\n",
       "      <td>Kidney tumor JPG (Type 2)</td>\n",
       "    </tr>\n",
       "    <tr>\n",
       "      <th>36426</th>\n",
       "      <td>C:\\Users\\NET_PC\\Desktop\\Adrenocortical carcion...</td>\n",
       "      <td>Kidney tumor JPG (Type 2)</td>\n",
       "    </tr>\n",
       "    <tr>\n",
       "      <th>36427</th>\n",
       "      <td>C:\\Users\\NET_PC\\Desktop\\Adrenocortical carcion...</td>\n",
       "      <td>Kidney tumor JPG (Type 2)</td>\n",
       "    </tr>\n",
       "    <tr>\n",
       "      <th>36428</th>\n",
       "      <td>C:\\Users\\NET_PC\\Desktop\\Adrenocortical carcion...</td>\n",
       "      <td>Kidney tumor JPG (Type 2)</td>\n",
       "    </tr>\n",
       "    <tr>\n",
       "      <th>36429</th>\n",
       "      <td>C:\\Users\\NET_PC\\Desktop\\Adrenocortical carcion...</td>\n",
       "      <td>Kidney tumor JPG (Type 2)</td>\n",
       "    </tr>\n",
       "  </tbody>\n",
       "</table>\n",
       "<p>36430 rows × 2 columns</p>\n",
       "</div>"
      ],
      "text/plain": [
       "                                                Filepath  \\\n",
       "0      C:\\Users\\NET_PC\\Desktop\\Adrenocortical carcion...   \n",
       "1      C:\\Users\\NET_PC\\Desktop\\Adrenocortical carcion...   \n",
       "2      C:\\Users\\NET_PC\\Desktop\\Adrenocortical carcion...   \n",
       "3      C:\\Users\\NET_PC\\Desktop\\Adrenocortical carcion...   \n",
       "4      C:\\Users\\NET_PC\\Desktop\\Adrenocortical carcion...   \n",
       "...                                                  ...   \n",
       "36425  C:\\Users\\NET_PC\\Desktop\\Adrenocortical carcion...   \n",
       "36426  C:\\Users\\NET_PC\\Desktop\\Adrenocortical carcion...   \n",
       "36427  C:\\Users\\NET_PC\\Desktop\\Adrenocortical carcion...   \n",
       "36428  C:\\Users\\NET_PC\\Desktop\\Adrenocortical carcion...   \n",
       "36429  C:\\Users\\NET_PC\\Desktop\\Adrenocortical carcion...   \n",
       "\n",
       "                                       Label  \n",
       "0      Adrenocortical carcinoma JPG (Type 2)  \n",
       "1      Adrenocortical carcinoma JPG (Type 2)  \n",
       "2      Adrenocortical carcinoma JPG (Type 2)  \n",
       "3      Adrenocortical carcinoma JPG (Type 2)  \n",
       "4      Adrenocortical carcinoma JPG (Type 2)  \n",
       "...                                      ...  \n",
       "36425              Kidney tumor JPG (Type 2)  \n",
       "36426              Kidney tumor JPG (Type 2)  \n",
       "36427              Kidney tumor JPG (Type 2)  \n",
       "36428              Kidney tumor JPG (Type 2)  \n",
       "36429              Kidney tumor JPG (Type 2)  \n",
       "\n",
       "[36430 rows x 2 columns]"
      ]
     },
     "execution_count": 4,
     "metadata": {},
     "output_type": "execute_result"
    }
   ],
   "source": [
    "image_df"
   ]
  },
  {
   "cell_type": "code",
   "execution_count": 5,
   "id": "f5a27eb5",
   "metadata": {},
   "outputs": [],
   "source": [
    "train_df, test_df = train_test_split(image_df, train_size=0.80, shuffle=True, random_state=1)"
   ]
  },
  {
   "cell_type": "code",
   "execution_count": 6,
   "id": "56d3eaf4",
   "metadata": {},
   "outputs": [],
   "source": [
    "from keras.preprocessing.image import ImageDataGenerator\n",
    "\n",
    "train_generator = tf.keras.preprocessing.image.ImageDataGenerator(rescale=1./255,\n",
    "                                                                  horizontal_flip=True,\n",
    "                                                                  width_shift_range=0.2,\n",
    "                                                                  height_shift_range=0.2,\n",
    "                                                                  validation_split=0.2)\n",
    "\n",
    "test_generator = tf.keras.preprocessing.image.ImageDataGenerator(rescale=1./255)"
   ]
  },
  {
   "cell_type": "code",
   "execution_count": 7,
   "id": "e705b2c7",
   "metadata": {},
   "outputs": [
    {
     "name": "stdout",
     "output_type": "stream",
     "text": [
      "Found 23316 validated image filenames belonging to 2 classes.\n",
      "Found 5828 validated image filenames belonging to 2 classes.\n",
      "Found 7286 validated image filenames belonging to 2 classes.\n"
     ]
    }
   ],
   "source": [
    "train_images = train_generator.flow_from_dataframe(dataframe=train_df,\n",
    "                                                   x_col='Filepath',\n",
    "                                                   y_col='Label',\n",
    "                                                   target_size=(64, 64),\n",
    "                                                   color_mode='rgb',\n",
    "                                                   class_mode='binary',\n",
    "                                                   batch_size=32,\n",
    "                                                   shuffle=True,\n",
    "                                                   seed=42,\n",
    "                                                   subset='training')\n",
    "\n",
    "val_images = train_generator.flow_from_dataframe(dataframe=train_df,\n",
    "                                                 x_col='Filepath',\n",
    "                                                 y_col='Label',\n",
    "                                                 target_size=(64, 64),\n",
    "                                                 color_mode='rgb',\n",
    "                                                 class_mode='binary',\n",
    "                                                 batch_size=32,\n",
    "                                                 shuffle=True,\n",
    "                                                 seed=42,\n",
    "                                                 subset='validation')\n",
    "\n",
    "test_images = test_generator.flow_from_dataframe(dataframe=test_df,\n",
    "                                                 x_col='Filepath',\n",
    "                                                 y_col='Label',\n",
    "                                                 target_size=(64, 64),\n",
    "                                                 color_mode='rgb',\n",
    "                                                 class_mode='binary',\n",
    "                                                 batch_size=32,\n",
    "                                                 shuffle=False)"
   ]
  },
  {
   "cell_type": "code",
   "execution_count": 8,
   "id": "8ce6c73d",
   "metadata": {},
   "outputs": [],
   "source": [
    "from tensorflow.keras.models import Sequential\n",
    "from tensorflow.keras.layers import Dense, Conv2D, MaxPool2D, Dropout, Flatten\n",
    "\n",
    "def create_model(input_shape, num_classes):\n",
    "    model = Sequential()\n",
    "\n",
    "    # Mixed-Scale Dense Convolution Layer\n",
    "    model.add(Conv2D(input_shape=(64,64,3), filters=16, kernel_size=(3, 3), activation=\"relu\"))\n",
    "    model.add(Conv2D(filters=32, kernel_size=(3, 3), activation=\"relu\"))\n",
    "    model.add(MaxPool2D(pool_size=(2, 2)))\n",
    "\n",
    "    # Self-Attention Mechanism\n",
    "    model.add(Conv2D(filters=64, kernel_size=(3, 3), activation=\"relu\"))\n",
    "    model.add(MaxPool2D(pool_size=(2, 2)))\n",
    "\n",
    "    # Hierarchical Feature Fusion\n",
    "    model.add(Conv2D(filters=128, kernel_size=(3, 3), activation=\"relu\"))\n",
    "    model.add(MaxPool2D(pool_size=(2, 2)))\n",
    "    model.add(Dropout(0.25))\n",
    "\n",
    "    # Attention-Based Contextual Information\n",
    "    model.add(Flatten())\n",
    "    model.add(Dense(units=64, activation=\"relu\"))\n",
    "    model.add(Dropout(0.25))\n",
    "    \n",
    "    # Additional Fully Connected Layers\n",
    "    model.add(Dense(units=128, activation=\"relu\"))\n",
    "    model.add(Dropout(0.25))\n",
    "    model.add(Dense(units=64, activation=\"relu\"))\n",
    "    model.add(Dropout(0.25))\n",
    "    model.add(Dense(units=32, activation=\"relu\"))\n",
    "    model.add(Dropout(0.25))\n",
    "    model.add(Dense(units=16, activation=\"relu\"))\n",
    "    model.add(Dropout(0.25))\n",
    "\n",
    "    # Output layer\n",
    "    model.add(Dense(units=1, activation=\"sigmoid\"))\n",
    "\n",
    "    return model"
   ]
  },
  {
   "cell_type": "code",
   "execution_count": 9,
   "id": "a42c3495",
   "metadata": {},
   "outputs": [],
   "source": [
    "# Create the model\n",
    "model = create_model((64,64,3), 1)"
   ]
  },
  {
   "cell_type": "code",
   "execution_count": 10,
   "id": "52cca51a",
   "metadata": {},
   "outputs": [
    {
     "name": "stdout",
     "output_type": "stream",
     "text": [
      "Model: \"sequential\"\n",
      "_________________________________________________________________\n",
      " Layer (type)                Output Shape              Param #   \n",
      "=================================================================\n",
      " conv2d (Conv2D)             (None, 62, 62, 16)        448       \n",
      "                                                                 \n",
      " conv2d_1 (Conv2D)           (None, 60, 60, 32)        4640      \n",
      "                                                                 \n",
      " max_pooling2d (MaxPooling2D  (None, 30, 30, 32)       0         \n",
      " )                                                               \n",
      "                                                                 \n",
      " conv2d_2 (Conv2D)           (None, 28, 28, 64)        18496     \n",
      "                                                                 \n",
      " max_pooling2d_1 (MaxPooling  (None, 14, 14, 64)       0         \n",
      " 2D)                                                             \n",
      "                                                                 \n",
      " conv2d_3 (Conv2D)           (None, 12, 12, 128)       73856     \n",
      "                                                                 \n",
      " max_pooling2d_2 (MaxPooling  (None, 6, 6, 128)        0         \n",
      " 2D)                                                             \n",
      "                                                                 \n",
      " dropout (Dropout)           (None, 6, 6, 128)         0         \n",
      "                                                                 \n",
      " flatten (Flatten)           (None, 4608)              0         \n",
      "                                                                 \n",
      " dense (Dense)               (None, 64)                294976    \n",
      "                                                                 \n",
      " dropout_1 (Dropout)         (None, 64)                0         \n",
      "                                                                 \n",
      " dense_1 (Dense)             (None, 128)               8320      \n",
      "                                                                 \n",
      " dropout_2 (Dropout)         (None, 128)               0         \n",
      "                                                                 \n",
      " dense_2 (Dense)             (None, 64)                8256      \n",
      "                                                                 \n",
      " dropout_3 (Dropout)         (None, 64)                0         \n",
      "                                                                 \n",
      " dense_3 (Dense)             (None, 32)                2080      \n",
      "                                                                 \n",
      " dropout_4 (Dropout)         (None, 32)                0         \n",
      "                                                                 \n",
      " dense_4 (Dense)             (None, 16)                528       \n",
      "                                                                 \n",
      " dropout_5 (Dropout)         (None, 16)                0         \n",
      "                                                                 \n",
      " dense_5 (Dense)             (None, 1)                 17        \n",
      "                                                                 \n",
      "=================================================================\n",
      "Total params: 411,617\n",
      "Trainable params: 411,617\n",
      "Non-trainable params: 0\n",
      "_________________________________________________________________\n"
     ]
    }
   ],
   "source": [
    "model.summary()"
   ]
  },
  {
   "cell_type": "code",
   "execution_count": 11,
   "id": "93057724",
   "metadata": {},
   "outputs": [],
   "source": [
    "# Compile the model\n",
    "from tensorflow.keras.optimizers import Adam\n",
    "model.compile(optimizer=Adam(learning_rate=0.0001), \n",
    "              loss='binary_crossentropy', \n",
    "              metrics=['accuracy'])"
   ]
  },
  {
   "cell_type": "code",
   "execution_count": 12,
   "id": "912a021f",
   "metadata": {
    "scrolled": false
   },
   "outputs": [
    {
     "name": "stdout",
     "output_type": "stream",
     "text": [
      "Epoch 1/50\n",
      "729/729 [==============================] - 374s 512ms/step - loss: 0.6919 - accuracy: 0.5157 - val_loss: 0.6797 - val_accuracy: 0.5944 - lr: 1.0000e-04\n",
      "Epoch 2/50\n",
      "729/729 [==============================] - 689s 945ms/step - loss: 0.6715 - accuracy: 0.5971 - val_loss: 0.6400 - val_accuracy: 0.6568 - lr: 1.0000e-04\n",
      "Epoch 3/50\n",
      "729/729 [==============================] - 713s 979ms/step - loss: 0.6432 - accuracy: 0.6398 - val_loss: 0.5928 - val_accuracy: 0.6941 - lr: 1.0000e-04\n",
      "Epoch 4/50\n",
      "729/729 [==============================] - 692s 949ms/step - loss: 0.6046 - accuracy: 0.6826 - val_loss: 0.5614 - val_accuracy: 0.7083 - lr: 1.0000e-04\n",
      "Epoch 5/50\n",
      "729/729 [==============================] - 490s 672ms/step - loss: 0.5660 - accuracy: 0.7189 - val_loss: 0.5261 - val_accuracy: 0.7394 - lr: 1.0000e-04\n",
      "Epoch 6/50\n",
      "729/729 [==============================] - 499s 685ms/step - loss: 0.5412 - accuracy: 0.7369 - val_loss: 0.4991 - val_accuracy: 0.7577 - lr: 1.0000e-04\n",
      "Epoch 7/50\n",
      "729/729 [==============================] - 503s 690ms/step - loss: 0.5215 - accuracy: 0.7522 - val_loss: 0.4787 - val_accuracy: 0.7805 - lr: 1.0000e-04\n",
      "Epoch 8/50\n",
      "729/729 [==============================] - 443s 608ms/step - loss: 0.4998 - accuracy: 0.7681 - val_loss: 0.4563 - val_accuracy: 0.7920 - lr: 1.0000e-04\n",
      "Epoch 9/50\n",
      "729/729 [==============================] - 426s 585ms/step - loss: 0.4863 - accuracy: 0.7733 - val_loss: 0.4370 - val_accuracy: 0.8003 - lr: 1.0000e-04\n",
      "Epoch 10/50\n",
      "729/729 [==============================] - 428s 587ms/step - loss: 0.4675 - accuracy: 0.7861 - val_loss: 0.4264 - val_accuracy: 0.8023 - lr: 1.0000e-04\n",
      "Epoch 11/50\n",
      "729/729 [==============================] - 441s 605ms/step - loss: 0.4570 - accuracy: 0.7898 - val_loss: 0.4215 - val_accuracy: 0.8209 - lr: 1.0000e-04\n",
      "Epoch 12/50\n",
      "729/729 [==============================] - 440s 604ms/step - loss: 0.4413 - accuracy: 0.8005 - val_loss: 0.4060 - val_accuracy: 0.8202 - lr: 1.0000e-04\n",
      "Epoch 13/50\n",
      "729/729 [==============================] - 441s 604ms/step - loss: 0.4303 - accuracy: 0.8100 - val_loss: 0.3770 - val_accuracy: 0.8274 - lr: 1.0000e-04\n",
      "Epoch 14/50\n",
      "729/729 [==============================] - 448s 615ms/step - loss: 0.4207 - accuracy: 0.8123 - val_loss: 0.3787 - val_accuracy: 0.8330 - lr: 1.0000e-04\n",
      "Epoch 15/50\n",
      "729/729 [==============================] - 438s 602ms/step - loss: 0.4082 - accuracy: 0.8192 - val_loss: 0.3712 - val_accuracy: 0.8391 - lr: 1.0000e-04\n",
      "Epoch 16/50\n",
      "729/729 [==============================] - 438s 602ms/step - loss: 0.3961 - accuracy: 0.8264 - val_loss: 0.3372 - val_accuracy: 0.8514 - lr: 1.0000e-04\n",
      "Epoch 17/50\n",
      "729/729 [==============================] - 434s 595ms/step - loss: 0.3864 - accuracy: 0.8324 - val_loss: 0.3773 - val_accuracy: 0.8341 - lr: 1.0000e-04\n",
      "Epoch 18/50\n",
      "729/729 [==============================] - 438s 601ms/step - loss: 0.3711 - accuracy: 0.8387 - val_loss: 0.3174 - val_accuracy: 0.8620 - lr: 1.0000e-04\n",
      "Epoch 19/50\n",
      "729/729 [==============================] - 437s 599ms/step - loss: 0.3665 - accuracy: 0.8417 - val_loss: 0.3171 - val_accuracy: 0.8715 - lr: 1.0000e-04\n",
      "Epoch 20/50\n",
      "729/729 [==============================] - 428s 587ms/step - loss: 0.3582 - accuracy: 0.8445 - val_loss: 0.3200 - val_accuracy: 0.8626 - lr: 1.0000e-04\n",
      "Epoch 21/50\n",
      "729/729 [==============================] - 382s 525ms/step - loss: 0.3558 - accuracy: 0.8464 - val_loss: 0.2930 - val_accuracy: 0.8744 - lr: 1.0000e-04\n",
      "Epoch 22/50\n",
      "729/729 [==============================] - 402s 551ms/step - loss: 0.3384 - accuracy: 0.8540 - val_loss: 0.2831 - val_accuracy: 0.8814 - lr: 1.0000e-04\n",
      "Epoch 23/50\n",
      "729/729 [==============================] - 301s 413ms/step - loss: 0.3320 - accuracy: 0.8578 - val_loss: 0.2858 - val_accuracy: 0.8794 - lr: 1.0000e-04\n",
      "Epoch 24/50\n",
      "729/729 [==============================] - 285s 391ms/step - loss: 0.3187 - accuracy: 0.8627 - val_loss: 0.2677 - val_accuracy: 0.8873 - lr: 1.0000e-04\n",
      "Epoch 25/50\n",
      "729/729 [==============================] - 254s 349ms/step - loss: 0.3137 - accuracy: 0.8663 - val_loss: 0.2518 - val_accuracy: 0.8972 - lr: 1.0000e-04\n",
      "Epoch 26/50\n",
      "729/729 [==============================] - 276s 379ms/step - loss: 0.3062 - accuracy: 0.8691 - val_loss: 0.2650 - val_accuracy: 0.8928 - lr: 1.0000e-04\n",
      "Epoch 27/50\n",
      "729/729 [==============================] - 269s 369ms/step - loss: 0.2992 - accuracy: 0.8753 - val_loss: 0.2476 - val_accuracy: 0.8995 - lr: 1.0000e-04\n",
      "Epoch 28/50\n",
      "729/729 [==============================] - 286s 392ms/step - loss: 0.2912 - accuracy: 0.8776 - val_loss: 0.2522 - val_accuracy: 0.8958 - lr: 1.0000e-04\n",
      "Epoch 29/50\n",
      "729/729 [==============================] - 293s 401ms/step - loss: 0.2896 - accuracy: 0.8810 - val_loss: 0.2410 - val_accuracy: 0.9032 - lr: 1.0000e-04\n",
      "Epoch 30/50\n",
      "729/729 [==============================] - 294s 403ms/step - loss: 0.2793 - accuracy: 0.8827 - val_loss: 0.2493 - val_accuracy: 0.8909 - lr: 1.0000e-04\n",
      "Epoch 31/50\n",
      "729/729 [==============================] - 282s 387ms/step - loss: 0.2677 - accuracy: 0.8875 - val_loss: 0.2197 - val_accuracy: 0.9068 - lr: 1.0000e-04\n",
      "Epoch 32/50\n",
      "729/729 [==============================] - 286s 392ms/step - loss: 0.2611 - accuracy: 0.8904 - val_loss: 0.2036 - val_accuracy: 0.9187 - lr: 1.0000e-04\n",
      "Epoch 33/50\n",
      "729/729 [==============================] - 282s 387ms/step - loss: 0.2613 - accuracy: 0.8926 - val_loss: 0.2037 - val_accuracy: 0.9209 - lr: 1.0000e-04\n",
      "Epoch 34/50\n",
      "729/729 [==============================] - 282s 387ms/step - loss: 0.2545 - accuracy: 0.8958 - val_loss: 0.1982 - val_accuracy: 0.9209 - lr: 1.0000e-04\n",
      "Epoch 35/50\n",
      "729/729 [==============================] - 239s 328ms/step - loss: 0.2533 - accuracy: 0.8969 - val_loss: 0.2038 - val_accuracy: 0.9243 - lr: 1.0000e-04\n",
      "Epoch 36/50\n",
      "729/729 [==============================] - 171s 235ms/step - loss: 0.2432 - accuracy: 0.9004 - val_loss: 0.2031 - val_accuracy: 0.9200 - lr: 1.0000e-04\n",
      "Epoch 37/50\n",
      "729/729 [==============================] - 173s 237ms/step - loss: 0.2376 - accuracy: 0.9021 - val_loss: 0.1783 - val_accuracy: 0.9303 - lr: 1.0000e-04\n",
      "Epoch 38/50\n",
      "729/729 [==============================] - 168s 230ms/step - loss: 0.2318 - accuracy: 0.9079 - val_loss: 0.1793 - val_accuracy: 0.9295 - lr: 1.0000e-04\n",
      "Epoch 39/50\n",
      "729/729 [==============================] - 166s 228ms/step - loss: 0.2248 - accuracy: 0.9071 - val_loss: 0.1799 - val_accuracy: 0.9247 - lr: 1.0000e-04\n",
      "Epoch 40/50\n",
      "729/729 [==============================] - 166s 227ms/step - loss: 0.2230 - accuracy: 0.9094 - val_loss: 0.1666 - val_accuracy: 0.9331 - lr: 1.0000e-04\n",
      "Epoch 41/50\n",
      "729/729 [==============================] - 168s 230ms/step - loss: 0.2227 - accuracy: 0.9077 - val_loss: 0.1668 - val_accuracy: 0.9345 - lr: 1.0000e-04\n",
      "Epoch 42/50\n",
      "729/729 [==============================] - 169s 232ms/step - loss: 0.2171 - accuracy: 0.9109 - val_loss: 0.1821 - val_accuracy: 0.9271 - lr: 1.0000e-04\n",
      "Epoch 43/50\n",
      "729/729 [==============================] - 169s 232ms/step - loss: 0.2169 - accuracy: 0.9107 - val_loss: 0.1710 - val_accuracy: 0.9321 - lr: 1.0000e-04\n",
      "Epoch 44/50\n",
      "729/729 [==============================] - 157s 215ms/step - loss: 0.1945 - accuracy: 0.9208 - val_loss: 0.1462 - val_accuracy: 0.9418 - lr: 1.0000e-05\n",
      "Epoch 45/50\n",
      "729/729 [==============================] - 106s 145ms/step - loss: 0.1832 - accuracy: 0.9262 - val_loss: 0.1399 - val_accuracy: 0.9472 - lr: 1.0000e-05\n",
      "Epoch 46/50\n",
      "729/729 [==============================] - 81s 111ms/step - loss: 0.1827 - accuracy: 0.9248 - val_loss: 0.1366 - val_accuracy: 0.9463 - lr: 1.0000e-05\n",
      "Epoch 47/50\n",
      "729/729 [==============================] - 81s 111ms/step - loss: 0.1818 - accuracy: 0.9284 - val_loss: 0.1387 - val_accuracy: 0.9458 - lr: 1.0000e-05\n",
      "Epoch 48/50\n",
      "729/729 [==============================] - 82s 112ms/step - loss: 0.1723 - accuracy: 0.9315 - val_loss: 0.1368 - val_accuracy: 0.9453 - lr: 1.0000e-05\n",
      "Epoch 49/50\n",
      "729/729 [==============================] - 81s 111ms/step - loss: 0.1773 - accuracy: 0.9295 - val_loss: 0.1328 - val_accuracy: 0.9473 - lr: 1.0000e-05\n",
      "Epoch 50/50\n",
      "729/729 [==============================] - 81s 112ms/step - loss: 0.1805 - accuracy: 0.9278 - val_loss: 0.1334 - val_accuracy: 0.9473 - lr: 1.0000e-05\n"
     ]
    }
   ],
   "source": [
    "history = model.fit(\n",
    "    train_images,\n",
    "    validation_data=val_images,\n",
    "    epochs=50,\n",
    "    callbacks=[\n",
    "        tf.keras.callbacks.EarlyStopping(\n",
    "            monitor='val_loss',\n",
    "            patience=5,\n",
    "            restore_best_weights=True\n",
    "        ),\n",
    "        tf.keras.callbacks.ReduceLROnPlateau(\n",
    "            monitor='val_loss',\n",
    "            patience=3\n",
    "        )\n",
    "    ]\n",
    ")"
   ]
  },
  {
   "cell_type": "code",
   "execution_count": 13,
   "id": "30f4102f",
   "metadata": {},
   "outputs": [
    {
     "data": {
      "image/png": "[encoded data removed]",
      "text/plain": [
       "<Figure size 432x288 with 1 Axes>"
      ]
     },
     "metadata": {
      "needs_background": "light"
     },
     "output_type": "display_data"
    }
   ],
   "source": [
    "import matplotlib.pyplot as plt\n",
    "\n",
    "plt.plot(history.history['accuracy'])\n",
    "plt.plot(history.history['val_accuracy'])\n",
    "\n",
    "plt.title('MSHA Model Accuracy')\n",
    "plt.ylabel('Accuracy')\n",
    "plt.xlabel('Epoch')\n",
    "plt.legend(['Accuracy', 'Validation Accuracy', 'loss', 'Validation Loss'])\n",
    "plt.show()"
   ]
  },
  {
   "cell_type": "code",
   "execution_count": 14,
   "id": "04abb6c9",
   "metadata": {},
   "outputs": [
    {
     "data": {
      "image/png": "[encoded data removed]",
      "text/plain": [
       "<Figure size 432x288 with 1 Axes>"
      ]
     },
     "metadata": {
      "needs_background": "light"
     },
     "output_type": "display_data"
    }
   ],
   "source": [
    "import matplotlib.pyplot as plt\n",
    "\n",
    "plt.plot(history.history['loss'])\n",
    "plt.plot(history.history['val_loss'])\n",
    "plt.title('MSHA Model Loss')\n",
    "plt.ylabel('Loss')\n",
    "plt.xlabel('Epoch')\n",
    "plt.legend(['Loss', 'Validation Loss'], loc='upper right')\n",
    "plt.show()"
   ]
  },
  {
   "cell_type": "code",
   "execution_count": 15,
   "id": "54a67afb",
   "metadata": {},
   "outputs": [
    {
     "name": "stdout",
     "output_type": "stream",
     "text": [
      "    Test Loss: 0.10799\n",
      "Test Accuracy: 95.65%\n"
     ]
    }
   ],
   "source": [
    "results = model.evaluate(test_images, verbose=0)\n",
    "\n",
    "print(\"    Test Loss: {:.5f}\".format(results[0]))\n",
    "print(\"Test Accuracy: {:.2f}%\".format(results[1] * 100))"
   ]
  },
  {
   "cell_type": "code",
   "execution_count": 16,
   "id": "c6e023b2",
   "metadata": {
    "scrolled": false
   },
   "outputs": [
    {
     "name": "stdout",
     "output_type": "stream",
     "text": [
      "228/228 [==============================] - 10s 42ms/step\n"
     ]
    },
    {
     "data": {
      "image/png": "[encoded data removed]",
      "text/plain": [
       "<Figure size 432x432 with 1 Axes>"
      ]
     },
     "metadata": {
      "needs_background": "light"
     },
     "output_type": "display_data"
    },
    {
     "name": "stdout",
     "output_type": "stream",
     "text": [
      "Classification Report:\n",
      "----------------------\n",
      "               precision    recall  f1-score   support\n",
      "\n",
      "         ACC       0.97      0.94      0.96      3648\n",
      "Kidney tumor       0.95      0.97      0.96      3638\n",
      "\n",
      "    accuracy                           0.96      7286\n",
      "   macro avg       0.96      0.96      0.96      7286\n",
      "weighted avg       0.96      0.96      0.96      7286\n",
      "\n"
     ]
    }
   ],
   "source": [
    "predictions = (model.predict(test_images) >= 0.5).astype(int)\n",
    "\n",
    "cm = confusion_matrix(test_images.labels, predictions, labels=[0, 1])\n",
    "clr = classification_report(test_images.labels, predictions, labels=[0, 1], target_names=[\"ACC\", \"Kidney tumor\"])\n",
    "\n",
    "plt.figure(figsize=(6, 6))\n",
    "sns.heatmap(cm, annot=True, fmt='g', vmin=0, cmap='Blues', cbar=False)\n",
    "plt.xticks(ticks=[0.5, 1.5], labels=[\"ACC\", \"Kidney tumor\"])\n",
    "plt.yticks(ticks=[0.5, 1.5], labels=[\"ACC\", \"Kidney tumor\"])\n",
    "plt.xlabel(\"Predicted\")\n",
    "plt.ylabel(\"Actual\")\n",
    "plt.title(\"Confusion Matrix of the MSHA Model\")\n",
    "plt.show()\n",
    "\n",
    "print(\"Classification Report:\\n----------------------\\n\", clr)"
   ]
  },
  {
   "cell_type": "code",
   "execution_count": 17,
   "id": "8dd651e0",
   "metadata": {},
   "outputs": [
    {
     "name": "stdout",
     "output_type": "stream",
     "text": [
      "228/228 [==============================] - 9s 41ms/step\n",
      "AUC ROC: 0.99324\n"
     ]
    },
    {
     "data": {
      "image/png": "[encoded data removed]",
      "text/plain": [
       "<Figure size 432x288 with 1 Axes>"
      ]
     },
     "metadata": {
      "needs_background": "light"
     },
     "output_type": "display_data"
    }
   ],
   "source": [
    "# Obtain predicted probabilities\n",
    "from sklearn.metrics import roc_auc_score, roc_curve\n",
    "\n",
    "predicted_probabilities = model.predict(test_images)\n",
    "\n",
    "# Compute AUC ROC\n",
    "auc_roc = roc_auc_score(test_images.labels, predicted_probabilities)\n",
    "\n",
    "print(\"AUC ROC: {:.5f}\".format(auc_roc))\n",
    "\n",
    "# Plot ROC curve\n",
    "fpr, tpr, thresholds = roc_curve(test_images.labels, predicted_probabilities)\n",
    "\n",
    "plt.figure()\n",
    "plt.plot(fpr, tpr, label='ROC curve (area = {:.2f})'.format(auc_roc))\n",
    "plt.plot([0, 1], [0, 1], 'k--')\n",
    "plt.xlim([0.0, 1.0])\n",
    "plt.ylim([0.0, 1.05])\n",
    "plt.xlabel('False Positive Rate')\n",
    "plt.ylabel('True Positive Rate')\n",
    "plt.title('Receiver Operating Characteristic (ROC) Curve')\n",
    "plt.legend(loc='lower right')\n",
    "plt.show()"
   ]
  },
  {
   "cell_type": "code",
   "execution_count": 18,
   "id": "abe55cc0",
   "metadata": {},
   "outputs": [],
   "source": [
    "# save the model to a file\n",
    "model.save('MSHA Model-ACC vs Kidney tumor .h5')"
   ]
  },
  {
   "cell_type": "code",
   "execution_count": 2,
   "id": "3787d716",
   "metadata": {},
   "outputs": [],
   "source": [
    "from keras.models import load_model\n",
    "\n",
    "# Load the model\n",
    "loaded_model = load_model('MSHA Model-ACC vs Kidney tumor .h5')\n",
    "\n",
    "# Now you can use the loaded_model for predictions"
   ]
  },
  {
   "cell_type": "code",
   "execution_count": 6,
   "id": "8fbd3def",
   "metadata": {},
   "outputs": [],
   "source": [
    "#Create a Flask App\n",
    "#1. Create a New Directory\n",
    "import os\n",
    "\n",
    "# Specify the name of your new directory\n",
    "new_directory = 'model_deployment'\n",
    "\n",
    "# Create the directory if it doesn't exist\n",
    "if not os.path.exists(new_directory):\n",
    "    os.makedirs(new_directory)\n",
    "\n",
    "# Move into the new directory\n",
    "os.chdir(new_directory)"
   ]
  },
  {
   "cell_type": "code",
   "execution_count": null,
   "id": "a4e5bde5",
   "metadata": {},
   "outputs": [],
   "source": []
  },
  {
   "cell_type": "code",
   "execution_count": null,
   "id": "4eae9bd3",
   "metadata": {},
   "outputs": [],
   "source": []
  }
 ],
 "metadata": {
  "kernelspec": {
   "display_name": "Python 3 (ipykernel)",
   "language": "python",
   "name": "python3"
  },
  "language_info": {
   "codemirror_mode": {
    "name": "ipython",
    "version": 3
   },
   "file_extension": ".py",
   "mimetype": "text/x-python",
   "name": "python",
   "nbconvert_exporter": "python",
   "pygments_lexer": "ipython3",
   "version": "3.10.4"
  }
 },
 "nbformat": 4,
 "nbformat_minor": 5
}
