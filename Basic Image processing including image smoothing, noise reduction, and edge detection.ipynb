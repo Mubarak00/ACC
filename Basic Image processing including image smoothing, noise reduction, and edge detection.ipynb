{
 "cells": [
  {
   "cell_type": "code",
   "execution_count": 2,
   "id": "92b1fba0",
   "metadata": {},
   "outputs": [],
   "source": [
    "import cv2\n",
    "import os\n",
    "\n",
    "# Define path to input and output directories\n",
    "input_dir = \"C:/Users/NET_PC/Desktop/Adrenocortical carcionoma project/JPG data/Kidney tumor JPG\"\n",
    "output_dir = \"C:/Users/NET_PC/Desktop/Adrenocortical carcionoma project/Pre-processed image/Kidney tumor\"\n",
    "\n",
    "# Define function to preprocess image\n",
    "def preprocess_image(image_path):\n",
    "    # Load image\n",
    "    image = cv2.imread(image_path)\n",
    "\n",
    "    # Apply Gaussian blur with kernel size 5x5\n",
    "    blurred_image = cv2.GaussianBlur(image, (5, 5), 0)\n",
    "\n",
    "    # Apply median filter with kernel size 3x3\n",
    "    median_image = cv2.medianBlur(blurred_image, 3)\n",
    "\n",
    "    # Convert the image to grayscale\n",
    "    gray_image = cv2.cvtColor(median_image, cv2.COLOR_BGR2GRAY)\n",
    "\n",
    "    # Apply Canny edge detector with low and high thresholds\n",
    "    edges_image = cv2.Canny(gray_image, 50, 150)\n",
    "\n",
    "    # Return preprocessed image\n",
    "    return edges_image\n",
    "\n",
    "# Loop through all images in input directory\n",
    "for filename in os.listdir(input_dir):\n",
    "    # Check if file is an image\n",
    "    if filename.endswith(\".jpg\") or filename.endswith(\".png\"):\n",
    "        # Get full path to image\n",
    "        image_path = os.path.join(input_dir, filename)\n",
    "\n",
    "        # Preprocess image\n",
    "        preprocessed_image = preprocess_image(image_path)\n",
    "\n",
    "        # Save preprocessed image in output directory with same filename\n",
    "        cv2.imwrite(os.path.join(output_dir, filename), preprocessed_image)\n"
   ]
  }
 ],
 "metadata": {
  "kernelspec": {
   "display_name": "Python 3 (ipykernel)",
   "language": "python",
   "name": "python3"
  },
  "language_info": {
   "codemirror_mode": {
    "name": "ipython",
    "version": 3
   },
   "file_extension": ".py",
   "mimetype": "text/x-python",
   "name": "python",
   "nbconvert_exporter": "python",
   "pygments_lexer": "ipython3",
   "version": "3.10.4"
  }
 },
 "nbformat": 4,
 "nbformat_minor": 5
}
