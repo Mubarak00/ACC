{
 "cells": [
  {
   "cell_type": "code",
   "execution_count": 1,
   "id": "1b408a74",
   "metadata": {},
   "outputs": [],
   "source": [
    "import numpy as np\n",
    "import pandas as pd\n",
    "from pathlib import Path\n",
    "import os.path\n",
    "\n",
    "import matplotlib.pyplot as plt\n",
    "import seaborn as sns\n",
    "\n",
    "from sklearn.model_selection import train_test_split\n",
    "\n",
    "import tensorflow as tf\n",
    "\n",
    "from sklearn.metrics import confusion_matrix, classification_report"
   ]
  },
  {
   "cell_type": "code",
   "execution_count": 2,
   "id": "7cbdcebf",
   "metadata": {},
   "outputs": [],
   "source": [
    "image_dir = Path('PetImages')"
   ]
  },
  {
   "cell_type": "code",
   "execution_count": 3,
   "id": "90c58dc3",
   "metadata": {},
   "outputs": [],
   "source": [
    "filepaths = list(image_dir.glob(r'**/*.PNG'))\n",
    "labels = list(map(lambda x: os.path.split(os.path.split(x)[0])[1], filepaths))\n",
    "\n",
    "filepaths = pd.Series(filepaths, name='Filepath').astype(str)\n",
    "labels = pd.Series(labels, name='Label')\n",
    "\n",
    "image_df = pd.concat([filepaths, labels], axis=1)"
   ]
  },
  {
   "cell_type": "code",
   "execution_count": 4,
   "id": "17c384c8",
   "metadata": {},
   "outputs": [
    {
     "data": {
      "text/html": [
       "<div>\n",
       "<style scoped>\n",
       "    .dataframe tbody tr th:only-of-type {\n",
       "        vertical-align: middle;\n",
       "    }\n",
       "\n",
       "    .dataframe tbody tr th {\n",
       "        vertical-align: top;\n",
       "    }\n",
       "\n",
       "    .dataframe thead th {\n",
       "        text-align: right;\n",
       "    }\n",
       "</style>\n",
       "<table border=\"1\" class=\"dataframe\">\n",
       "  <thead>\n",
       "    <tr style=\"text-align: right;\">\n",
       "      <th></th>\n",
       "      <th>Filepath</th>\n",
       "      <th>Label</th>\n",
       "    </tr>\n",
       "  </thead>\n",
       "  <tbody>\n",
       "    <tr>\n",
       "      <th>0</th>\n",
       "      <td>PetImages\\Cat\\100.png</td>\n",
       "      <td>Cat</td>\n",
       "    </tr>\n",
       "    <tr>\n",
       "      <th>1</th>\n",
       "      <td>PetImages\\Cat\\1000.png</td>\n",
       "      <td>Cat</td>\n",
       "    </tr>\n",
       "    <tr>\n",
       "      <th>2</th>\n",
       "      <td>PetImages\\Cat\\10000.png</td>\n",
       "      <td>Cat</td>\n",
       "    </tr>\n",
       "    <tr>\n",
       "      <th>3</th>\n",
       "      <td>PetImages\\Cat\\10001.png</td>\n",
       "      <td>Cat</td>\n",
       "    </tr>\n",
       "    <tr>\n",
       "      <th>4</th>\n",
       "      <td>PetImages\\Cat\\10002.png</td>\n",
       "      <td>Cat</td>\n",
       "    </tr>\n",
       "    <tr>\n",
       "      <th>...</th>\n",
       "      <td>...</td>\n",
       "      <td>...</td>\n",
       "    </tr>\n",
       "    <tr>\n",
       "      <th>24933</th>\n",
       "      <td>PetImages\\Dog\\9995.png</td>\n",
       "      <td>Dog</td>\n",
       "    </tr>\n",
       "    <tr>\n",
       "      <th>24934</th>\n",
       "      <td>PetImages\\Dog\\9996.png</td>\n",
       "      <td>Dog</td>\n",
       "    </tr>\n",
       "    <tr>\n",
       "      <th>24935</th>\n",
       "      <td>PetImages\\Dog\\9997.png</td>\n",
       "      <td>Dog</td>\n",
       "    </tr>\n",
       "    <tr>\n",
       "      <th>24936</th>\n",
       "      <td>PetImages\\Dog\\9998.png</td>\n",
       "      <td>Dog</td>\n",
       "    </tr>\n",
       "    <tr>\n",
       "      <th>24937</th>\n",
       "      <td>PetImages\\Dog\\9999.png</td>\n",
       "      <td>Dog</td>\n",
       "    </tr>\n",
       "  </tbody>\n",
       "</table>\n",
       "<p>24938 rows × 2 columns</p>\n",
       "</div>"
      ],
      "text/plain": [
       "                      Filepath Label\n",
       "0        PetImages\\Cat\\100.png   Cat\n",
       "1       PetImages\\Cat\\1000.png   Cat\n",
       "2      PetImages\\Cat\\10000.png   Cat\n",
       "3      PetImages\\Cat\\10001.png   Cat\n",
       "4      PetImages\\Cat\\10002.png   Cat\n",
       "...                        ...   ...\n",
       "24933   PetImages\\Dog\\9995.png   Dog\n",
       "24934   PetImages\\Dog\\9996.png   Dog\n",
       "24935   PetImages\\Dog\\9997.png   Dog\n",
       "24936   PetImages\\Dog\\9998.png   Dog\n",
       "24937   PetImages\\Dog\\9999.png   Dog\n",
       "\n",
       "[24938 rows x 2 columns]"
      ]
     },
     "execution_count": 4,
     "metadata": {},
     "output_type": "execute_result"
    }
   ],
   "source": [
    "image_df"
   ]
  },
  {
   "cell_type": "code",
   "execution_count": 5,
   "id": "b9e1e14c",
   "metadata": {},
   "outputs": [],
   "source": [
    "train_df, test_df = train_test_split(image_df, train_size=0.80, shuffle=True, random_state=1)"
   ]
  },
  {
   "cell_type": "code",
   "execution_count": 6,
   "id": "35a515f9",
   "metadata": {},
   "outputs": [],
   "source": [
    "from keras.preprocessing.image import ImageDataGenerator\n",
    "\n",
    "train_generator = tf.keras.preprocessing.image.ImageDataGenerator(rescale=1./255,\n",
    "                                                                  horizontal_flip=True,\n",
    "                                                                  width_shift_range=0.2,\n",
    "                                                                  height_shift_range=0.2,\n",
    "                                                                  validation_split=0.2)\n",
    "\n",
    "test_generator = tf.keras.preprocessing.image.ImageDataGenerator(rescale=1./255)"
   ]
  },
  {
   "cell_type": "code",
   "execution_count": 7,
   "id": "df81ca79",
   "metadata": {},
   "outputs": [
    {
     "name": "stdout",
     "output_type": "stream",
     "text": [
      "Found 15960 validated image filenames belonging to 2 classes.\n",
      "Found 3990 validated image filenames belonging to 2 classes.\n",
      "Found 4988 validated image filenames belonging to 2 classes.\n"
     ]
    }
   ],
   "source": [
    "train_images = train_generator.flow_from_dataframe(dataframe=train_df,\n",
    "                                                   x_col='Filepath',\n",
    "                                                   y_col='Label',\n",
    "                                                   target_size=(64, 64),\n",
    "                                                   color_mode='rgb',\n",
    "                                                   class_mode='binary',\n",
    "                                                   batch_size=32,\n",
    "                                                   shuffle=True,\n",
    "                                                   seed=42,\n",
    "                                                   subset='training')\n",
    "\n",
    "val_images = train_generator.flow_from_dataframe(dataframe=train_df,\n",
    "                                                 x_col='Filepath',\n",
    "                                                 y_col='Label',\n",
    "                                                 target_size=(64, 64),\n",
    "                                                 color_mode='rgb',\n",
    "                                                 class_mode='binary',\n",
    "                                                 batch_size=32,\n",
    "                                                 shuffle=True,\n",
    "                                                 seed=42,\n",
    "                                                 subset='validation')\n",
    "\n",
    "test_images = test_generator.flow_from_dataframe(dataframe=test_df,\n",
    "                                                 x_col='Filepath',\n",
    "                                                 y_col='Label',\n",
    "                                                 target_size=(64, 64),\n",
    "                                                 color_mode='rgb',\n",
    "                                                 class_mode='binary',\n",
    "                                                 batch_size=32,\n",
    "                                                 shuffle=False)"
   ]
  },
  {
   "cell_type": "code",
   "execution_count": 8,
   "id": "89475e22",
   "metadata": {},
   "outputs": [],
   "source": [
    "from tensorflow.keras.models import Sequential\n",
    "from tensorflow.keras.layers import Dense, Conv2D, MaxPool2D, Dropout, Flatten\n",
    "\n",
    "def create_model(input_shape, num_classes):\n",
    "    model = Sequential()\n",
    "\n",
    "    # Mixed-Scale Dense Convolution Layer\n",
    "    model.add(Conv2D(input_shape=(64,64,3), filters=16, kernel_size=(3, 3), activation=\"relu\"))\n",
    "    model.add(Conv2D(filters=32, kernel_size=(3, 3), activation=\"relu\"))\n",
    "    model.add(MaxPool2D(pool_size=(2, 2)))\n",
    "\n",
    "    # Self-Attention Mechanism\n",
    "    model.add(Conv2D(filters=64, kernel_size=(3, 3), activation=\"relu\"))\n",
    "    model.add(MaxPool2D(pool_size=(2, 2)))\n",
    "\n",
    "    # Hierarchical Feature Fusion\n",
    "    model.add(Conv2D(filters=128, kernel_size=(3, 3), activation=\"relu\"))\n",
    "    model.add(MaxPool2D(pool_size=(2, 2)))\n",
    "    model.add(Dropout(0.25))\n",
    "\n",
    "    # Attention-Based Contextual Information\n",
    "    model.add(Flatten())\n",
    "    model.add(Dense(units=64, activation=\"relu\"))\n",
    "    model.add(Dropout(0.25))\n",
    "\n",
    "    # Output layer\n",
    "    model.add(Dense(units=1, activation=\"sigmoid\"))\n",
    "\n",
    "    return model"
   ]
  },
  {
   "cell_type": "code",
   "execution_count": 9,
   "id": "56febdac",
   "metadata": {},
   "outputs": [],
   "source": [
    "# Create the model\n",
    "model = create_model((64,64,3), 1)"
   ]
  },
  {
   "cell_type": "code",
   "execution_count": null,
   "id": "331bdedb",
   "metadata": {},
   "outputs": [],
   "source": [
    "#model.summary()"
   ]
  },
  {
   "cell_type": "code",
   "execution_count": 10,
   "id": "33b14470",
   "metadata": {},
   "outputs": [],
   "source": [
    "#Our Compiler\n",
    "model.compile(optimizer = 'SGD',\n",
    "           loss = 'binary_crossentropy',\n",
    "           metrics = ['accuracy'])"
   ]
  },
  {
   "cell_type": "code",
   "execution_count": 11,
   "id": "d43d8df5",
   "metadata": {},
   "outputs": [
    {
     "name": "stdout",
     "output_type": "stream",
     "text": [
      "Epoch 1/50\n",
      "499/499 [==============================] - 147s 294ms/step - loss: 0.6923 - accuracy: 0.5156 - val_loss: 0.6913 - val_accuracy: 0.4982 - lr: 0.0100\n",
      "Epoch 2/50\n",
      "499/499 [==============================] - 95s 191ms/step - loss: 0.6890 - accuracy: 0.5469 - val_loss: 0.6876 - val_accuracy: 0.5404 - lr: 0.0100\n",
      "Epoch 3/50\n",
      "499/499 [==============================] - 95s 191ms/step - loss: 0.6845 - accuracy: 0.5712 - val_loss: 0.6819 - val_accuracy: 0.5406 - lr: 0.0100\n",
      "Epoch 4/50\n",
      "499/499 [==============================] - 96s 193ms/step - loss: 0.6760 - accuracy: 0.5859 - val_loss: 0.6650 - val_accuracy: 0.6241 - lr: 0.0100\n",
      "Epoch 5/50\n",
      "499/499 [==============================] - 96s 192ms/step - loss: 0.6659 - accuracy: 0.5994 - val_loss: 0.6566 - val_accuracy: 0.6261 - lr: 0.0100\n",
      "Epoch 6/50\n",
      "499/499 [==============================] - 96s 192ms/step - loss: 0.6579 - accuracy: 0.6075 - val_loss: 0.6524 - val_accuracy: 0.6085 - lr: 0.0100\n",
      "Epoch 7/50\n",
      "499/499 [==============================] - 99s 198ms/step - loss: 0.6484 - accuracy: 0.6164 - val_loss: 0.6438 - val_accuracy: 0.6236 - lr: 0.0100\n",
      "Epoch 8/50\n",
      "499/499 [==============================] - 96s 192ms/step - loss: 0.6426 - accuracy: 0.6301 - val_loss: 0.6360 - val_accuracy: 0.6358 - lr: 0.0100\n",
      "Epoch 9/50\n",
      "499/499 [==============================] - 95s 191ms/step - loss: 0.6353 - accuracy: 0.6309 - val_loss: 0.6251 - val_accuracy: 0.6439 - lr: 0.0100\n",
      "Epoch 10/50\n",
      "499/499 [==============================] - 97s 194ms/step - loss: 0.6266 - accuracy: 0.6443 - val_loss: 0.6166 - val_accuracy: 0.6604 - lr: 0.0100\n",
      "Epoch 11/50\n",
      "499/499 [==============================] - 100s 200ms/step - loss: 0.6181 - accuracy: 0.6521 - val_loss: 0.6124 - val_accuracy: 0.6591 - lr: 0.0100\n",
      "Epoch 12/50\n",
      "499/499 [==============================] - 100s 200ms/step - loss: 0.6103 - accuracy: 0.6654 - val_loss: 0.6154 - val_accuracy: 0.6476 - lr: 0.0100\n",
      "Epoch 13/50\n",
      "499/499 [==============================] - 101s 202ms/step - loss: 0.6024 - accuracy: 0.6769 - val_loss: 0.6154 - val_accuracy: 0.6614 - lr: 0.0100\n",
      "Epoch 14/50\n",
      "499/499 [==============================] - 100s 200ms/step - loss: 0.6010 - accuracy: 0.6753 - val_loss: 0.5921 - val_accuracy: 0.6830 - lr: 0.0100\n",
      "Epoch 15/50\n",
      "499/499 [==============================] - 99s 199ms/step - loss: 0.5864 - accuracy: 0.6910 - val_loss: 0.5691 - val_accuracy: 0.7058 - lr: 0.0100\n",
      "Epoch 16/50\n",
      "499/499 [==============================] - 100s 200ms/step - loss: 0.5782 - accuracy: 0.6966 - val_loss: 0.5729 - val_accuracy: 0.6955 - lr: 0.0100\n",
      "Epoch 17/50\n",
      "499/499 [==============================] - 99s 198ms/step - loss: 0.5733 - accuracy: 0.6992 - val_loss: 0.5568 - val_accuracy: 0.7206 - lr: 0.0100\n",
      "Epoch 18/50\n",
      "499/499 [==============================] - 102s 204ms/step - loss: 0.5672 - accuracy: 0.7084 - val_loss: 0.5744 - val_accuracy: 0.6990 - lr: 0.0100\n",
      "Epoch 19/50\n",
      "499/499 [==============================] - 99s 199ms/step - loss: 0.5631 - accuracy: 0.7095 - val_loss: 0.5476 - val_accuracy: 0.7216 - lr: 0.0100\n",
      "Epoch 20/50\n",
      "499/499 [==============================] - 100s 200ms/step - loss: 0.5565 - accuracy: 0.7150 - val_loss: 0.5641 - val_accuracy: 0.7020 - lr: 0.0100\n",
      "Epoch 21/50\n",
      "499/499 [==============================] - 95s 190ms/step - loss: 0.5477 - accuracy: 0.7208 - val_loss: 0.5377 - val_accuracy: 0.7268 - lr: 0.0100\n",
      "Epoch 22/50\n",
      "499/499 [==============================] - 91s 182ms/step - loss: 0.5430 - accuracy: 0.7249 - val_loss: 0.5214 - val_accuracy: 0.7388 - lr: 0.0100\n",
      "Epoch 23/50\n",
      "499/499 [==============================] - 91s 182ms/step - loss: 0.5355 - accuracy: 0.7305 - val_loss: 0.5127 - val_accuracy: 0.7496 - lr: 0.0100\n",
      "Epoch 24/50\n",
      "499/499 [==============================] - 90s 181ms/step - loss: 0.5283 - accuracy: 0.7342 - val_loss: 0.5062 - val_accuracy: 0.7559 - lr: 0.0100\n",
      "Epoch 25/50\n",
      "499/499 [==============================] - 90s 181ms/step - loss: 0.5223 - accuracy: 0.7415 - val_loss: 0.5053 - val_accuracy: 0.7491 - lr: 0.0100\n",
      "Epoch 26/50\n",
      "499/499 [==============================] - 90s 181ms/step - loss: 0.5240 - accuracy: 0.7405 - val_loss: 0.5098 - val_accuracy: 0.7464 - lr: 0.0100\n",
      "Epoch 27/50\n",
      "499/499 [==============================] - 90s 181ms/step - loss: 0.5128 - accuracy: 0.7481 - val_loss: 0.4958 - val_accuracy: 0.7644 - lr: 0.0100\n",
      "Epoch 28/50\n",
      "499/499 [==============================] - 90s 181ms/step - loss: 0.5097 - accuracy: 0.7489 - val_loss: 0.4948 - val_accuracy: 0.7654 - lr: 0.0100\n",
      "Epoch 29/50\n",
      "499/499 [==============================] - 90s 181ms/step - loss: 0.5009 - accuracy: 0.7569 - val_loss: 0.4950 - val_accuracy: 0.7659 - lr: 0.0100\n",
      "Epoch 30/50\n",
      "499/499 [==============================] - 90s 181ms/step - loss: 0.4973 - accuracy: 0.7624 - val_loss: 0.4842 - val_accuracy: 0.7684 - lr: 0.0100\n",
      "Epoch 31/50\n",
      "499/499 [==============================] - 90s 181ms/step - loss: 0.4970 - accuracy: 0.7625 - val_loss: 0.4834 - val_accuracy: 0.7629 - lr: 0.0100\n",
      "Epoch 32/50\n",
      "499/499 [==============================] - 90s 180ms/step - loss: 0.4949 - accuracy: 0.7593 - val_loss: 0.4768 - val_accuracy: 0.7754 - lr: 0.0100\n",
      "Epoch 33/50\n",
      "499/499 [==============================] - 90s 181ms/step - loss: 0.4868 - accuracy: 0.7666 - val_loss: 0.4832 - val_accuracy: 0.7647 - lr: 0.0100\n",
      "Epoch 34/50\n",
      "499/499 [==============================] - 61505s 124s/step - loss: 0.4820 - accuracy: 0.7659 - val_loss: 0.4856 - val_accuracy: 0.7722 - lr: 0.0100\n",
      "Epoch 35/50\n",
      "499/499 [==============================] - 96s 193ms/step - loss: 0.4801 - accuracy: 0.7707 - val_loss: 0.5028 - val_accuracy: 0.7544 - lr: 0.0100\n",
      "Epoch 36/50\n",
      "499/499 [==============================] - 94s 188ms/step - loss: 0.4597 - accuracy: 0.7825 - val_loss: 0.4601 - val_accuracy: 0.7810 - lr: 1.0000e-03\n",
      "Epoch 37/50\n",
      "499/499 [==============================] - 93s 186ms/step - loss: 0.4533 - accuracy: 0.7879 - val_loss: 0.4513 - val_accuracy: 0.7860 - lr: 1.0000e-03\n",
      "Epoch 38/50\n",
      "499/499 [==============================] - 93s 186ms/step - loss: 0.4516 - accuracy: 0.7887 - val_loss: 0.4525 - val_accuracy: 0.7857 - lr: 1.0000e-03\n",
      "Epoch 39/50\n",
      "499/499 [==============================] - 92s 184ms/step - loss: 0.4496 - accuracy: 0.7912 - val_loss: 0.4500 - val_accuracy: 0.7872 - lr: 1.0000e-03\n",
      "Epoch 40/50\n",
      "499/499 [==============================] - 92s 185ms/step - loss: 0.4518 - accuracy: 0.7850 - val_loss: 0.4433 - val_accuracy: 0.7975 - lr: 1.0000e-03\n",
      "Epoch 41/50\n",
      "499/499 [==============================] - 92s 183ms/step - loss: 0.4540 - accuracy: 0.7895 - val_loss: 0.4447 - val_accuracy: 0.7940 - lr: 1.0000e-03\n",
      "Epoch 42/50\n",
      "499/499 [==============================] - 91s 182ms/step - loss: 0.4504 - accuracy: 0.7917 - val_loss: 0.4469 - val_accuracy: 0.7857 - lr: 1.0000e-03\n",
      "Epoch 43/50\n",
      "499/499 [==============================] - 92s 184ms/step - loss: 0.4423 - accuracy: 0.7937 - val_loss: 0.4475 - val_accuracy: 0.7840 - lr: 1.0000e-03\n",
      "Epoch 44/50\n",
      "499/499 [==============================] - 93s 186ms/step - loss: 0.4465 - accuracy: 0.7941 - val_loss: 0.4397 - val_accuracy: 0.7885 - lr: 1.0000e-04\n",
      "Epoch 45/50\n",
      "499/499 [==============================] - 92s 185ms/step - loss: 0.4478 - accuracy: 0.7931 - val_loss: 0.4505 - val_accuracy: 0.7877 - lr: 1.0000e-04\n",
      "Epoch 46/50\n",
      "499/499 [==============================] - 92s 185ms/step - loss: 0.4472 - accuracy: 0.7910 - val_loss: 0.4395 - val_accuracy: 0.7945 - lr: 1.0000e-04\n",
      "Epoch 47/50\n",
      "499/499 [==============================] - 91s 183ms/step - loss: 0.4475 - accuracy: 0.7902 - val_loss: 0.4465 - val_accuracy: 0.7947 - lr: 1.0000e-04\n",
      "Epoch 48/50\n",
      "499/499 [==============================] - 91s 181ms/step - loss: 0.4404 - accuracy: 0.7942 - val_loss: 0.4416 - val_accuracy: 0.7945 - lr: 1.0000e-04\n",
      "Epoch 49/50\n",
      "499/499 [==============================] - 92s 185ms/step - loss: 0.4429 - accuracy: 0.7933 - val_loss: 0.4483 - val_accuracy: 0.7877 - lr: 1.0000e-04\n",
      "Epoch 50/50\n",
      "499/499 [==============================] - 92s 184ms/step - loss: 0.4397 - accuracy: 0.7956 - val_loss: 0.4446 - val_accuracy: 0.7970 - lr: 1.0000e-05\n"
     ]
    }
   ],
   "source": [
    "history = model.fit(\n",
    "    train_images,\n",
    "    validation_data=val_images,\n",
    "    epochs=50,\n",
    "    callbacks=[\n",
    "        tf.keras.callbacks.EarlyStopping(\n",
    "            monitor='val_loss',\n",
    "            patience=5,\n",
    "            restore_best_weights=True\n",
    "        ),\n",
    "        tf.keras.callbacks.ReduceLROnPlateau(\n",
    "            monitor='val_loss',\n",
    "            patience=3\n",
    "        )\n",
    "    ]\n",
    ")"
   ]
  },
  {
   "cell_type": "code",
   "execution_count": null,
   "id": "c935c6d6",
   "metadata": {},
   "outputs": [],
   "source": [
    "#test_images = test_generator.flow_from_directory(\"New folder/Test\",\n",
    "#                                                 target_size=(64, 64),\n",
    "#                                                 color_mode='rgb',\n",
    "#                                                 class_mode='binary',\n",
    "#                                                 batch_size=32,\n",
    "#                                                 shuffle=False)"
   ]
  },
  {
   "cell_type": "code",
   "execution_count": 12,
   "id": "41425771",
   "metadata": {},
   "outputs": [
    {
     "data": {
      "image/png": "[encoded data removed]",
      "text/plain": [
       "<Figure size 432x288 with 1 Axes>"
      ]
     },
     "metadata": {
      "needs_background": "light"
     },
     "output_type": "display_data"
    }
   ],
   "source": [
    "import matplotlib.pyplot as plt\n",
    "\n",
    "plt.plot(history.history['accuracy'])\n",
    "plt.plot(history.history['val_accuracy'])\n",
    "\n",
    "plt.title('model accuracy')\n",
    "plt.ylabel('Accuracy')\n",
    "plt.xlabel('Epoch')\n",
    "plt.legend(['Accuracy', 'Validation Accuracy', 'loss', 'Validation Loss'])\n",
    "plt.show()"
   ]
  },
  {
   "cell_type": "code",
   "execution_count": 13,
   "id": "12e148f2",
   "metadata": {},
   "outputs": [
    {
     "data": {
      "image/png": "[encoded data removed]",
      "text/plain": [
       "<Figure size 432x288 with 1 Axes>"
      ]
     },
     "metadata": {
      "needs_background": "light"
     },
     "output_type": "display_data"
    }
   ],
   "source": [
    "import matplotlib.pyplot as plt\n",
    "\n",
    "plt.plot(history.history['loss'])\n",
    "plt.plot(history.history['val_loss'])\n",
    "plt.title('model loss')\n",
    "plt.ylabel('loss')\n",
    "plt.xlabel('epoch')\n",
    "plt.legend(['train', 'test'], loc='upper left')\n",
    "plt.show()"
   ]
  },
  {
   "cell_type": "code",
   "execution_count": 14,
   "id": "4548d04f",
   "metadata": {},
   "outputs": [
    {
     "name": "stdout",
     "output_type": "stream",
     "text": [
      "    Test Loss: 0.40105\n",
      "Test Accuracy: 82.42%\n"
     ]
    }
   ],
   "source": [
    "results = model.evaluate(test_images, verbose=0)\n",
    "\n",
    "print(\"    Test Loss: {:.5f}\".format(results[0]))\n",
    "print(\"Test Accuracy: {:.2f}%\".format(results[1] * 100))"
   ]
  },
  {
   "cell_type": "code",
   "execution_count": 15,
   "id": "c40a1127",
   "metadata": {},
   "outputs": [
    {
     "name": "stdout",
     "output_type": "stream",
     "text": [
      "156/156 [==============================] - 17s 106ms/step\n"
     ]
    },
    {
     "data": {
      "image/png": "[encoded data removed]",
      "text/plain": [
       "<Figure size 432x432 with 1 Axes>"
      ]
     },
     "metadata": {
      "needs_background": "light"
     },
     "output_type": "display_data"
    },
    {
     "name": "stdout",
     "output_type": "stream",
     "text": [
      "Classification Report:\n",
      "----------------------\n",
      "               precision    recall  f1-score   support\n",
      "\n",
      "  CHICKENPOX       0.88      0.76      0.81      2505\n",
      "   MONKEYPOX       0.78      0.89      0.83      2483\n",
      "\n",
      "    accuracy                           0.82      4988\n",
      "   macro avg       0.83      0.82      0.82      4988\n",
      "weighted avg       0.83      0.82      0.82      4988\n",
      "\n"
     ]
    }
   ],
   "source": [
    "predictions = (model.predict(test_images) >= 0.5).astype(int)\n",
    "\n",
    "cm = confusion_matrix(test_images.labels, predictions, labels=[0, 1])\n",
    "clr = classification_report(test_images.labels, predictions, labels=[0, 1], target_names=[\"CHICKENPOX\", \"MONKEYPOX\"])\n",
    "\n",
    "plt.figure(figsize=(6, 6))\n",
    "sns.heatmap(cm, annot=True, fmt='g', vmin=0, cmap='Blues', cbar=False)\n",
    "plt.xticks(ticks=[0.5, 1.5], labels=[\"CAT\", \"DOG\"])\n",
    "plt.yticks(ticks=[0.5, 1.5], labels=[\"CAT\", \"DOG\"])\n",
    "plt.xlabel(\"Predicted\")\n",
    "plt.ylabel(\"Actual\")\n",
    "plt.title(\"Confusion Matrix\")\n",
    "plt.show()\n",
    "\n",
    "print(\"Classification Report:\\n----------------------\\n\", clr)"
   ]
  },
  {
   "cell_type": "code",
   "execution_count": null,
   "id": "83c9d203",
   "metadata": {},
   "outputs": [],
   "source": []
  },
  {
   "cell_type": "code",
   "execution_count": null,
   "id": "d66a8350",
   "metadata": {},
   "outputs": [],
   "source": []
  },
  {
   "cell_type": "code",
   "execution_count": null,
   "id": "dfbdbef4",
   "metadata": {},
   "outputs": [],
   "source": []
  },
  {
   "cell_type": "code",
   "execution_count": null,
   "id": "500188dd",
   "metadata": {},
   "outputs": [],
   "source": []
  },
  {
   "cell_type": "code",
   "execution_count": null,
   "id": "09bf9240",
   "metadata": {},
   "outputs": [],
   "source": []
  },
  {
   "cell_type": "code",
   "execution_count": null,
   "id": "62b5524e",
   "metadata": {},
   "outputs": [],
   "source": []
  }
 ],
 "metadata": {
  "kernelspec": {
   "display_name": "Python 3 (ipykernel)",
   "language": "python",
   "name": "python3"
  },
  "language_info": {
   "codemirror_mode": {
    "name": "ipython",
    "version": 3
   },
   "file_extension": ".py",
   "mimetype": "text/x-python",
   "name": "python",
   "nbconvert_exporter": "python",
   "pygments_lexer": "ipython3",
   "version": "3.10.4"
  }
 },
 "nbformat": 4,
 "nbformat_minor": 5
}
