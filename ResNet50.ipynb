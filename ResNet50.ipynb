{
 "cells": [
  {
   "cell_type": "code",
   "execution_count": 1,
   "id": "0b5138ee",
   "metadata": {},
   "outputs": [],
   "source": [
    "import numpy as np\n",
    "import pandas as pd\n",
    "from pathlib import Path\n",
    "import os.path\n",
    "\n",
    "import matplotlib.pyplot as plt\n",
    "import seaborn as sns\n",
    "\n",
    "from sklearn.model_selection import train_test_split\n",
    "\n",
    "import tensorflow as tf\n",
    "\n",
    "from sklearn.metrics import confusion_matrix, classification_report"
   ]
  },
  {
   "cell_type": "code",
   "execution_count": 2,
   "id": "41246c6c",
   "metadata": {},
   "outputs": [],
   "source": [
    "image_dir = Path(\"C:/Users/NET_PC/Desktop/Adrenocortical carcionoma project/JPG 2 Data\")"
   ]
  },
  {
   "cell_type": "code",
   "execution_count": 3,
   "id": "b46aa908",
   "metadata": {},
   "outputs": [],
   "source": [
    "filepaths = list(image_dir.glob(r'**/*.JPG'))\n",
    "labels = list(map(lambda x: os.path.split(os.path.split(x)[0])[1], filepaths))\n",
    "\n",
    "filepaths = pd.Series(filepaths, name='Filepath').astype(str)\n",
    "labels = pd.Series(labels, name='Label')\n",
    "\n",
    "image_df = pd.concat([filepaths, labels], axis=1)"
   ]
  },
  {
   "cell_type": "code",
   "execution_count": 4,
   "id": "7e15a0a1",
   "metadata": {},
   "outputs": [
    {
     "data": {
      "text/html": [
       "<div>\n",
       "<style scoped>\n",
       "    .dataframe tbody tr th:only-of-type {\n",
       "        vertical-align: middle;\n",
       "    }\n",
       "\n",
       "    .dataframe tbody tr th {\n",
       "        vertical-align: top;\n",
       "    }\n",
       "\n",
       "    .dataframe thead th {\n",
       "        text-align: right;\n",
       "    }\n",
       "</style>\n",
       "<table border=\"1\" class=\"dataframe\">\n",
       "  <thead>\n",
       "    <tr style=\"text-align: right;\">\n",
       "      <th></th>\n",
       "      <th>Filepath</th>\n",
       "      <th>Label</th>\n",
       "    </tr>\n",
       "  </thead>\n",
       "  <tbody>\n",
       "    <tr>\n",
       "      <th>0</th>\n",
       "      <td>C:\\Users\\NET_PC\\Desktop\\Adrenocortical carcion...</td>\n",
       "      <td>Adrenocortical carcinoma JPG (Type 2)</td>\n",
       "    </tr>\n",
       "    <tr>\n",
       "      <th>1</th>\n",
       "      <td>C:\\Users\\NET_PC\\Desktop\\Adrenocortical carcion...</td>\n",
       "      <td>Adrenocortical carcinoma JPG (Type 2)</td>\n",
       "    </tr>\n",
       "    <tr>\n",
       "      <th>2</th>\n",
       "      <td>C:\\Users\\NET_PC\\Desktop\\Adrenocortical carcion...</td>\n",
       "      <td>Adrenocortical carcinoma JPG (Type 2)</td>\n",
       "    </tr>\n",
       "    <tr>\n",
       "      <th>3</th>\n",
       "      <td>C:\\Users\\NET_PC\\Desktop\\Adrenocortical carcion...</td>\n",
       "      <td>Adrenocortical carcinoma JPG (Type 2)</td>\n",
       "    </tr>\n",
       "    <tr>\n",
       "      <th>4</th>\n",
       "      <td>C:\\Users\\NET_PC\\Desktop\\Adrenocortical carcion...</td>\n",
       "      <td>Adrenocortical carcinoma JPG (Type 2)</td>\n",
       "    </tr>\n",
       "    <tr>\n",
       "      <th>...</th>\n",
       "      <td>...</td>\n",
       "      <td>...</td>\n",
       "    </tr>\n",
       "    <tr>\n",
       "      <th>36425</th>\n",
       "      <td>C:\\Users\\NET_PC\\Desktop\\Adrenocortical carcion...</td>\n",
       "      <td>Kidney tumor JPG (Type 2)</td>\n",
       "    </tr>\n",
       "    <tr>\n",
       "      <th>36426</th>\n",
       "      <td>C:\\Users\\NET_PC\\Desktop\\Adrenocortical carcion...</td>\n",
       "      <td>Kidney tumor JPG (Type 2)</td>\n",
       "    </tr>\n",
       "    <tr>\n",
       "      <th>36427</th>\n",
       "      <td>C:\\Users\\NET_PC\\Desktop\\Adrenocortical carcion...</td>\n",
       "      <td>Kidney tumor JPG (Type 2)</td>\n",
       "    </tr>\n",
       "    <tr>\n",
       "      <th>36428</th>\n",
       "      <td>C:\\Users\\NET_PC\\Desktop\\Adrenocortical carcion...</td>\n",
       "      <td>Kidney tumor JPG (Type 2)</td>\n",
       "    </tr>\n",
       "    <tr>\n",
       "      <th>36429</th>\n",
       "      <td>C:\\Users\\NET_PC\\Desktop\\Adrenocortical carcion...</td>\n",
       "      <td>Kidney tumor JPG (Type 2)</td>\n",
       "    </tr>\n",
       "  </tbody>\n",
       "</table>\n",
       "<p>36430 rows × 2 columns</p>\n",
       "</div>"
      ],
      "text/plain": [
       "                                                Filepath  \\\n",
       "0      C:\\Users\\NET_PC\\Desktop\\Adrenocortical carcion...   \n",
       "1      C:\\Users\\NET_PC\\Desktop\\Adrenocortical carcion...   \n",
       "2      C:\\Users\\NET_PC\\Desktop\\Adrenocortical carcion...   \n",
       "3      C:\\Users\\NET_PC\\Desktop\\Adrenocortical carcion...   \n",
       "4      C:\\Users\\NET_PC\\Desktop\\Adrenocortical carcion...   \n",
       "...                                                  ...   \n",
       "36425  C:\\Users\\NET_PC\\Desktop\\Adrenocortical carcion...   \n",
       "36426  C:\\Users\\NET_PC\\Desktop\\Adrenocortical carcion...   \n",
       "36427  C:\\Users\\NET_PC\\Desktop\\Adrenocortical carcion...   \n",
       "36428  C:\\Users\\NET_PC\\Desktop\\Adrenocortical carcion...   \n",
       "36429  C:\\Users\\NET_PC\\Desktop\\Adrenocortical carcion...   \n",
       "\n",
       "                                       Label  \n",
       "0      Adrenocortical carcinoma JPG (Type 2)  \n",
       "1      Adrenocortical carcinoma JPG (Type 2)  \n",
       "2      Adrenocortical carcinoma JPG (Type 2)  \n",
       "3      Adrenocortical carcinoma JPG (Type 2)  \n",
       "4      Adrenocortical carcinoma JPG (Type 2)  \n",
       "...                                      ...  \n",
       "36425              Kidney tumor JPG (Type 2)  \n",
       "36426              Kidney tumor JPG (Type 2)  \n",
       "36427              Kidney tumor JPG (Type 2)  \n",
       "36428              Kidney tumor JPG (Type 2)  \n",
       "36429              Kidney tumor JPG (Type 2)  \n",
       "\n",
       "[36430 rows x 2 columns]"
      ]
     },
     "execution_count": 4,
     "metadata": {},
     "output_type": "execute_result"
    }
   ],
   "source": [
    "image_df"
   ]
  },
  {
   "cell_type": "code",
   "execution_count": 5,
   "id": "d3558137",
   "metadata": {},
   "outputs": [],
   "source": [
    "train_df, test_df = train_test_split(image_df, train_size=0.80, shuffle=True, random_state=1)"
   ]
  },
  {
   "cell_type": "code",
   "execution_count": 6,
   "id": "8a242c63",
   "metadata": {},
   "outputs": [],
   "source": [
    "from keras.preprocessing.image import ImageDataGenerator\n",
    "\n",
    "train_generator = tf.keras.preprocessing.image.ImageDataGenerator(rescale=1./255,\n",
    "                                                                  horizontal_flip=True,\n",
    "                                                                  width_shift_range=0.2,\n",
    "                                                                  height_shift_range=0.2,\n",
    "                                                                  validation_split=0.2)\n",
    "\n",
    "test_generator = tf.keras.preprocessing.image.ImageDataGenerator(rescale=1./255)"
   ]
  },
  {
   "cell_type": "code",
   "execution_count": 7,
   "id": "b2a37731",
   "metadata": {},
   "outputs": [
    {
     "name": "stdout",
     "output_type": "stream",
     "text": [
      "Found 23316 validated image filenames belonging to 2 classes.\n",
      "Found 5828 validated image filenames belonging to 2 classes.\n",
      "Found 7286 validated image filenames belonging to 2 classes.\n"
     ]
    }
   ],
   "source": [
    "train_images = train_generator.flow_from_dataframe(dataframe=train_df,\n",
    "                                                   x_col='Filepath',\n",
    "                                                   y_col='Label',\n",
    "                                                   target_size=(64, 64),\n",
    "                                                   color_mode='rgb',\n",
    "                                                   class_mode='binary',\n",
    "                                                   batch_size=32,\n",
    "                                                   shuffle=True,\n",
    "                                                   seed=42,\n",
    "                                                   subset='training')\n",
    "\n",
    "val_images = train_generator.flow_from_dataframe(dataframe=train_df,\n",
    "                                                 x_col='Filepath',\n",
    "                                                 y_col='Label',\n",
    "                                                 target_size=(64, 64),\n",
    "                                                 color_mode='rgb',\n",
    "                                                 class_mode='binary',\n",
    "                                                 batch_size=32,\n",
    "                                                 shuffle=True,\n",
    "                                                 seed=42,\n",
    "                                                 subset='validation')\n",
    "\n",
    "test_images = test_generator.flow_from_dataframe(dataframe=test_df,\n",
    "                                                 x_col='Filepath',\n",
    "                                                 y_col='Label',\n",
    "                                                 target_size=(64, 64),\n",
    "                                                 color_mode='rgb',\n",
    "                                                 class_mode='binary',\n",
    "                                                 batch_size=32,\n",
    "                                                 shuffle=False)"
   ]
  },
  {
   "cell_type": "code",
   "execution_count": 8,
   "id": "0be9f662",
   "metadata": {},
   "outputs": [],
   "source": [
    "import keras\n",
    "from keras.models import Sequential\n",
    "from keras.layers import Dense, Conv3D, MaxPool3D , Dropout, Flatten\n",
    "from tensorflow.keras.layers import Dropout\n",
    "\n",
    "ResNet = tf.keras.applications.resnet50.ResNet50(\n",
    "    include_top=False,\n",
    "    weights='imagenet',\n",
    "    input_shape=(64, 64, 3))\n",
    "\n",
    "\n",
    "#ResNet = ResNet50(input_shape= (64, 64, 3), weights='imagenet', include_top=False)\n",
    "ResNet.trainable = False"
   ]
  },
  {
   "cell_type": "code",
   "execution_count": 9,
   "id": "348976de",
   "metadata": {},
   "outputs": [],
   "source": [
    "model = keras.Sequential([\n",
    "    ResNet,\n",
    "    keras.layers.Flatten(),\n",
    "#    keras.layers.Dropout(0.5),\n",
    "#    keras.layers.Dense(units=32, activation='relu'),\n",
    "#    keras.layers.Dropout(0.25),\n",
    "    keras.layers.Dense(units=1, activation='sigmoid'),\n",
    "])"
   ]
  },
  {
   "cell_type": "code",
   "execution_count": 10,
   "id": "5f52fedc",
   "metadata": {},
   "outputs": [],
   "source": [
    "model.compile(\n",
    "  loss='binary_crossentropy',\n",
    "  optimizer='adam',\n",
    "  metrics=['accuracy']\n",
    ")"
   ]
  },
  {
   "cell_type": "code",
   "execution_count": 11,
   "id": "fe67c854",
   "metadata": {},
   "outputs": [
    {
     "name": "stdout",
     "output_type": "stream",
     "text": [
      "Model: \"sequential\"\n",
      "_________________________________________________________________\n",
      " Layer (type)                Output Shape              Param #   \n",
      "=================================================================\n",
      " resnet50 (Functional)       (None, 2, 2, 2048)        23587712  \n",
      "                                                                 \n",
      " flatten (Flatten)           (None, 8192)              0         \n",
      "                                                                 \n",
      " dense (Dense)               (None, 1)                 8193      \n",
      "                                                                 \n",
      "=================================================================\n",
      "Total params: 23,595,905\n",
      "Trainable params: 8,193\n",
      "Non-trainable params: 23,587,712\n",
      "_________________________________________________________________\n"
     ]
    }
   ],
   "source": [
    "model.summary()"
   ]
  },
  {
   "cell_type": "code",
   "execution_count": 12,
   "id": "dfa027e1",
   "metadata": {},
   "outputs": [
    {
     "name": "stdout",
     "output_type": "stream",
     "text": [
      "<keras.engine.functional.Functional object at 0x000001BADDC33010> False\n",
      "<keras.layers.reshaping.flatten.Flatten object at 0x000001BADDC33A60> True\n",
      "<keras.layers.core.dense.Dense object at 0x000001BADCD35C30> True\n"
     ]
    }
   ],
   "source": [
    "for layer in model.layers:\n",
    "    print(layer, layer.trainable)"
   ]
  },
  {
   "cell_type": "code",
   "execution_count": 13,
   "id": "9ffe53a7",
   "metadata": {},
   "outputs": [
    {
     "name": "stdout",
     "output_type": "stream",
     "text": [
      "Epoch 1/50\n",
      "729/729 [==============================] - 639s 818ms/step - loss: 0.6684 - accuracy: 0.5906 - val_loss: 0.6605 - val_accuracy: 0.5969 - lr: 0.0010\n",
      "Epoch 2/50\n",
      "729/729 [==============================] - 549s 752ms/step - loss: 0.6536 - accuracy: 0.6163 - val_loss: 0.6405 - val_accuracy: 0.6421 - lr: 0.0010\n",
      "Epoch 3/50\n",
      "729/729 [==============================] - 557s 763ms/step - loss: 0.6443 - accuracy: 0.6291 - val_loss: 0.6681 - val_accuracy: 0.5887 - lr: 0.0010\n",
      "Epoch 4/50\n",
      "729/729 [==============================] - 493s 676ms/step - loss: 0.6427 - accuracy: 0.6336 - val_loss: 0.6345 - val_accuracy: 0.6489 - lr: 0.0010\n",
      "Epoch 5/50\n",
      "729/729 [==============================] - 395s 541ms/step - loss: 0.6411 - accuracy: 0.6317 - val_loss: 0.6436 - val_accuracy: 0.6167 - lr: 0.0010\n",
      "Epoch 6/50\n",
      "729/729 [==============================] - 426s 584ms/step - loss: 0.6355 - accuracy: 0.6415 - val_loss: 0.6319 - val_accuracy: 0.6378 - lr: 0.0010\n",
      "Epoch 7/50\n",
      "729/729 [==============================] - 399s 547ms/step - loss: 0.6335 - accuracy: 0.6442 - val_loss: 0.6233 - val_accuracy: 0.6591 - lr: 0.0010\n",
      "Epoch 8/50\n",
      "729/729 [==============================] - 357s 489ms/step - loss: 0.6305 - accuracy: 0.6466 - val_loss: 0.6264 - val_accuracy: 0.6546 - lr: 0.0010\n",
      "Epoch 9/50\n",
      "729/729 [==============================] - 344s 472ms/step - loss: 0.6319 - accuracy: 0.6418 - val_loss: 0.6248 - val_accuracy: 0.6573 - lr: 0.0010\n",
      "Epoch 10/50\n",
      "729/729 [==============================] - 336s 460ms/step - loss: 0.6312 - accuracy: 0.6472 - val_loss: 0.6234 - val_accuracy: 0.6599 - lr: 0.0010\n",
      "Epoch 11/50\n",
      "729/729 [==============================] - 342s 469ms/step - loss: 0.6203 - accuracy: 0.6639 - val_loss: 0.6179 - val_accuracy: 0.6664 - lr: 1.0000e-04\n",
      "Epoch 12/50\n",
      "729/729 [==============================] - 346s 475ms/step - loss: 0.6210 - accuracy: 0.6603 - val_loss: 0.6206 - val_accuracy: 0.6620 - lr: 1.0000e-04\n",
      "Epoch 13/50\n",
      "729/729 [==============================] - 351s 482ms/step - loss: 0.6219 - accuracy: 0.6576 - val_loss: 0.6171 - val_accuracy: 0.6633 - lr: 1.0000e-04\n",
      "Epoch 14/50\n",
      "729/729 [==============================] - 339s 465ms/step - loss: 0.6206 - accuracy: 0.6596 - val_loss: 0.6182 - val_accuracy: 0.6709 - lr: 1.0000e-04\n",
      "Epoch 15/50\n",
      "729/729 [==============================] - 344s 471ms/step - loss: 0.6235 - accuracy: 0.6579 - val_loss: 0.6204 - val_accuracy: 0.6575 - lr: 1.0000e-04\n",
      "Epoch 16/50\n",
      "729/729 [==============================] - 360s 494ms/step - loss: 0.6226 - accuracy: 0.6577 - val_loss: 0.6153 - val_accuracy: 0.6642 - lr: 1.0000e-04\n",
      "Epoch 17/50\n",
      "729/729 [==============================] - 348s 478ms/step - loss: 0.6196 - accuracy: 0.6600 - val_loss: 0.6201 - val_accuracy: 0.6591 - lr: 1.0000e-04\n",
      "Epoch 18/50\n",
      "729/729 [==============================] - 331s 454ms/step - loss: 0.6199 - accuracy: 0.6614 - val_loss: 0.6214 - val_accuracy: 0.6573 - lr: 1.0000e-04\n",
      "Epoch 19/50\n",
      "729/729 [==============================] - 333s 457ms/step - loss: 0.6217 - accuracy: 0.6598 - val_loss: 0.6159 - val_accuracy: 0.6616 - lr: 1.0000e-04\n",
      "Epoch 20/50\n",
      "729/729 [==============================] - 347s 475ms/step - loss: 0.6215 - accuracy: 0.6622 - val_loss: 0.6176 - val_accuracy: 0.6663 - lr: 1.0000e-05\n",
      "Epoch 21/50\n",
      "729/729 [==============================] - 364s 499ms/step - loss: 0.6203 - accuracy: 0.6607 - val_loss: 0.6126 - val_accuracy: 0.6709 - lr: 1.0000e-05\n",
      "Epoch 22/50\n",
      "729/729 [==============================] - 338s 463ms/step - loss: 0.6200 - accuracy: 0.6613 - val_loss: 0.6197 - val_accuracy: 0.6584 - lr: 1.0000e-05\n",
      "Epoch 23/50\n",
      "729/729 [==============================] - 347s 476ms/step - loss: 0.6208 - accuracy: 0.6615 - val_loss: 0.6164 - val_accuracy: 0.6640 - lr: 1.0000e-05\n",
      "Epoch 24/50\n",
      "729/729 [==============================] - 325s 445ms/step - loss: 0.6198 - accuracy: 0.6586 - val_loss: 0.6215 - val_accuracy: 0.6555 - lr: 1.0000e-05\n",
      "Epoch 25/50\n",
      "729/729 [==============================] - 312s 428ms/step - loss: 0.6211 - accuracy: 0.6590 - val_loss: 0.6194 - val_accuracy: 0.6668 - lr: 1.0000e-06\n",
      "Epoch 26/50\n",
      "729/729 [==============================] - 329s 451ms/step - loss: 0.6185 - accuracy: 0.6626 - val_loss: 0.6158 - val_accuracy: 0.6625 - lr: 1.0000e-06\n"
     ]
    }
   ],
   "source": [
    "history = model.fit(\n",
    "    train_images,\n",
    "    validation_data=val_images,\n",
    "    epochs=50,\n",
    "    callbacks=[\n",
    "        tf.keras.callbacks.EarlyStopping(\n",
    "            monitor='val_loss',\n",
    "            patience=5,\n",
    "            restore_best_weights=True\n",
    "        ),\n",
    "        tf.keras.callbacks.ReduceLROnPlateau(\n",
    "            monitor='val_loss',\n",
    "            patience=3\n",
    "        )\n",
    "    ]\n",
    ")"
   ]
  },
  {
   "cell_type": "code",
   "execution_count": 14,
   "id": "53aa6b48",
   "metadata": {},
   "outputs": [
    {
     "data": {
      "image/png": "[encoded data removed]",
      "text/plain": [
       "<Figure size 432x288 with 1 Axes>"
      ]
     },
     "metadata": {
      "needs_background": "light"
     },
     "output_type": "display_data"
    }
   ],
   "source": [
    "import matplotlib.pyplot as plt\n",
    "\n",
    "#plt.figure(figsize=(14, 10))\n",
    "plt.plot(history.history['accuracy'])\n",
    "plt.plot(history.history['val_accuracy'])\n",
    "plt.title('VGG16 Model Accuracy')\n",
    "plt.ylabel('Accuracy')\n",
    "plt.xlabel('Epoch')\n",
    "plt.legend(['Accuracy', 'Validation Accuracy', 'loss', 'Validation Loss'])\n",
    "plt.show()"
   ]
  },
  {
   "cell_type": "code",
   "execution_count": 15,
   "id": "9f28dded",
   "metadata": {},
   "outputs": [
    {
     "data": {
      "image/png": "[encoded data removed]",
      "text/plain": [
       "<Figure size 432x288 with 1 Axes>"
      ]
     },
     "metadata": {
      "needs_background": "light"
     },
     "output_type": "display_data"
    }
   ],
   "source": [
    "import matplotlib.pyplot as plt\n",
    "\n",
    "#plt.figure(figsize=(14, 10))\n",
    "plt.plot(history.history['loss'])\n",
    "plt.plot(history.history['val_loss'])\n",
    "plt.title('VGG16 Model Loss')\n",
    "plt.ylabel('Loss')\n",
    "plt.xlabel('Epoch')\n",
    "plt.legend(['Train', 'Test'], loc='upper right')\n",
    "plt.show()"
   ]
  },
  {
   "cell_type": "code",
   "execution_count": 16,
   "id": "7a9514d1",
   "metadata": {},
   "outputs": [
    {
     "name": "stdout",
     "output_type": "stream",
     "text": [
      "    Test Loss: 0.61490\n",
      "Test Accuracy: 66.02%\n"
     ]
    }
   ],
   "source": [
    "results = model.evaluate(test_images, verbose=0)\n",
    "\n",
    "print(\"    Test Loss: {:.5f}\".format(results[0]))\n",
    "print(\"Test Accuracy: {:.2f}%\".format(results[1] * 100))"
   ]
  },
  {
   "cell_type": "code",
   "execution_count": 17,
   "id": "d2c8059b",
   "metadata": {
    "scrolled": false
   },
   "outputs": [
    {
     "name": "stdout",
     "output_type": "stream",
     "text": [
      "228/228 [==============================] - 60s 243ms/step\n"
     ]
    },
    {
     "data": {
      "image/png": "[encoded data removed]",
      "text/plain": [
       "<Figure size 432x432 with 1 Axes>"
      ]
     },
     "metadata": {
      "needs_background": "light"
     },
     "output_type": "display_data"
    },
    {
     "name": "stdout",
     "output_type": "stream",
     "text": [
      "Classification Report:\n",
      "----------------------\n",
      "               precision    recall  f1-score   support\n",
      "\n",
      "         ACC       0.66      0.68      0.67      3648\n",
      "Kidney tumor       0.67      0.64      0.65      3638\n",
      "\n",
      "    accuracy                           0.66      7286\n",
      "   macro avg       0.66      0.66      0.66      7286\n",
      "weighted avg       0.66      0.66      0.66      7286\n",
      "\n"
     ]
    }
   ],
   "source": [
    "predictions = (model.predict(test_images) >= 0.5).astype(int)\n",
    "\n",
    "cm = confusion_matrix(test_images.labels, predictions, labels=[0, 1])\n",
    "clr = classification_report(test_images.labels, predictions, labels=[0, 1], target_names=[\"ACC\", \"Kidney tumor\"])\n",
    "\n",
    "plt.figure(figsize=(6, 6))\n",
    "sns.heatmap(cm, annot=True, fmt='g', vmin=0, cmap='Blues', cbar=False)\n",
    "plt.xticks(ticks=[0.5, 1.5], labels=[\"ACC\", \"Kidney tumor\"])\n",
    "plt.yticks(ticks=[0.5, 1.5], labels=[\"ACC\", \"Kidney tumor\"])\n",
    "plt.xlabel(\"Predicted\")\n",
    "plt.ylabel(\"Actual\")\n",
    "plt.title(\"Confusion Matrix of VGG16 Model\")\n",
    "plt.show()\n",
    "\n",
    "print(\"Classification Report:\\n----------------------\\n\", clr)"
   ]
  },
  {
   "cell_type": "code",
   "execution_count": 18,
   "id": "5690f1cb",
   "metadata": {},
   "outputs": [
    {
     "name": "stdout",
     "output_type": "stream",
     "text": [
      "228/228 [==============================] - 60s 262ms/step\n",
      "AUC ROC: 0.72305\n"
     ]
    },
    {
     "data": {
      "image/png": "[encoded data removed]",
      "text/plain": [
       "<Figure size 432x288 with 1 Axes>"
      ]
     },
     "metadata": {
      "needs_background": "light"
     },
     "output_type": "display_data"
    }
   ],
   "source": [
    "# Obtain predicted probabilities\n",
    "from sklearn.metrics import roc_auc_score, roc_curve\n",
    "\n",
    "predicted_probabilities = model.predict(test_images)\n",
    "\n",
    "# Compute AUC ROC\n",
    "auc_roc = roc_auc_score(test_images.labels, predicted_probabilities)\n",
    "\n",
    "print(\"AUC ROC: {:.5f}\".format(auc_roc))\n",
    "\n",
    "# Plot ROC curve\n",
    "fpr, tpr, thresholds = roc_curve(test_images.labels, predicted_probabilities)\n",
    "\n",
    "plt.figure()\n",
    "plt.plot(fpr, tpr, label='ROC curve (area = {:.2f})'.format(auc_roc))\n",
    "plt.plot([0, 1], [0, 1], 'k--')\n",
    "plt.xlim([0.0, 1.0])\n",
    "plt.ylim([0.0, 1.05])\n",
    "plt.xlabel('False Positive Rate')\n",
    "plt.ylabel('True Positive Rate')\n",
    "plt.title('Receiver Operating Characteristic (ROC) Curve')\n",
    "plt.legend(loc='lower right')\n",
    "plt.show()"
   ]
  },
  {
   "cell_type": "code",
   "execution_count": 19,
   "id": "a062ca18",
   "metadata": {},
   "outputs": [],
   "source": [
    "# save the model to a file\n",
    "model.save('ResNet50-ACC vs Kidney tumor .h5')"
   ]
  },
  {
   "cell_type": "code",
   "execution_count": null,
   "id": "81cb249e",
   "metadata": {},
   "outputs": [],
   "source": []
  }
 ],
 "metadata": {
  "kernelspec": {
   "display_name": "Python 3 (ipykernel)",
   "language": "python",
   "name": "python3"
  },
  "language_info": {
   "codemirror_mode": {
    "name": "ipython",
    "version": 3
   },
   "file_extension": ".py",
   "mimetype": "text/x-python",
   "name": "python",
   "nbconvert_exporter": "python",
   "pygments_lexer": "ipython3",
   "version": "3.10.4"
  }
 },
 "nbformat": 4,
 "nbformat_minor": 5
}
