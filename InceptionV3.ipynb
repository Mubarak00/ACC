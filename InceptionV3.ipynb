{
 "cells": [
  {
   "cell_type": "code",
   "execution_count": 1,
   "id": "60114a8f",
   "metadata": {},
   "outputs": [],
   "source": [
    "import numpy as np\n",
    "import pandas as pd\n",
    "from pathlib import Path\n",
    "import os.path\n",
    "\n",
    "import matplotlib.pyplot as plt\n",
    "import seaborn as sns\n",
    "\n",
    "from sklearn.model_selection import train_test_split\n",
    "\n",
    "import tensorflow as tf\n",
    "\n",
    "from sklearn.metrics import confusion_matrix, classification_report"
   ]
  },
  {
   "cell_type": "code",
   "execution_count": 2,
   "id": "2585705a",
   "metadata": {},
   "outputs": [],
   "source": [
    "image_dir = Path(\"C:/Users/NET_PC/Desktop/Adrenocortical carcionoma project/JPG 2 Data\")"
   ]
  },
  {
   "cell_type": "code",
   "execution_count": 3,
   "id": "68d14ab1",
   "metadata": {},
   "outputs": [],
   "source": [
    "filepaths = list(image_dir.glob(r'**/*.JPG'))\n",
    "labels = list(map(lambda x: os.path.split(os.path.split(x)[0])[1], filepaths))\n",
    "\n",
    "filepaths = pd.Series(filepaths, name='Filepath').astype(str)\n",
    "labels = pd.Series(labels, name='Label')\n",
    "\n",
    "image_df = pd.concat([filepaths, labels], axis=1)"
   ]
  },
  {
   "cell_type": "code",
   "execution_count": 4,
   "id": "751b725c",
   "metadata": {},
   "outputs": [
    {
     "data": {
      "text/html": [
       "<div>\n",
       "<style scoped>\n",
       "    .dataframe tbody tr th:only-of-type {\n",
       "        vertical-align: middle;\n",
       "    }\n",
       "\n",
       "    .dataframe tbody tr th {\n",
       "        vertical-align: top;\n",
       "    }\n",
       "\n",
       "    .dataframe thead th {\n",
       "        text-align: right;\n",
       "    }\n",
       "</style>\n",
       "<table border=\"1\" class=\"dataframe\">\n",
       "  <thead>\n",
       "    <tr style=\"text-align: right;\">\n",
       "      <th></th>\n",
       "      <th>Filepath</th>\n",
       "      <th>Label</th>\n",
       "    </tr>\n",
       "  </thead>\n",
       "  <tbody>\n",
       "    <tr>\n",
       "      <th>0</th>\n",
       "      <td>C:\\Users\\NET_PC\\Desktop\\Adrenocortical carcion...</td>\n",
       "      <td>Adrenocortical carcinoma JPG (Type 2)</td>\n",
       "    </tr>\n",
       "    <tr>\n",
       "      <th>1</th>\n",
       "      <td>C:\\Users\\NET_PC\\Desktop\\Adrenocortical carcion...</td>\n",
       "      <td>Adrenocortical carcinoma JPG (Type 2)</td>\n",
       "    </tr>\n",
       "    <tr>\n",
       "      <th>2</th>\n",
       "      <td>C:\\Users\\NET_PC\\Desktop\\Adrenocortical carcion...</td>\n",
       "      <td>Adrenocortical carcinoma JPG (Type 2)</td>\n",
       "    </tr>\n",
       "    <tr>\n",
       "      <th>3</th>\n",
       "      <td>C:\\Users\\NET_PC\\Desktop\\Adrenocortical carcion...</td>\n",
       "      <td>Adrenocortical carcinoma JPG (Type 2)</td>\n",
       "    </tr>\n",
       "    <tr>\n",
       "      <th>4</th>\n",
       "      <td>C:\\Users\\NET_PC\\Desktop\\Adrenocortical carcion...</td>\n",
       "      <td>Adrenocortical carcinoma JPG (Type 2)</td>\n",
       "    </tr>\n",
       "    <tr>\n",
       "      <th>...</th>\n",
       "      <td>...</td>\n",
       "      <td>...</td>\n",
       "    </tr>\n",
       "    <tr>\n",
       "      <th>36425</th>\n",
       "      <td>C:\\Users\\NET_PC\\Desktop\\Adrenocortical carcion...</td>\n",
       "      <td>Kidney tumor JPG (Type 2)</td>\n",
       "    </tr>\n",
       "    <tr>\n",
       "      <th>36426</th>\n",
       "      <td>C:\\Users\\NET_PC\\Desktop\\Adrenocortical carcion...</td>\n",
       "      <td>Kidney tumor JPG (Type 2)</td>\n",
       "    </tr>\n",
       "    <tr>\n",
       "      <th>36427</th>\n",
       "      <td>C:\\Users\\NET_PC\\Desktop\\Adrenocortical carcion...</td>\n",
       "      <td>Kidney tumor JPG (Type 2)</td>\n",
       "    </tr>\n",
       "    <tr>\n",
       "      <th>36428</th>\n",
       "      <td>C:\\Users\\NET_PC\\Desktop\\Adrenocortical carcion...</td>\n",
       "      <td>Kidney tumor JPG (Type 2)</td>\n",
       "    </tr>\n",
       "    <tr>\n",
       "      <th>36429</th>\n",
       "      <td>C:\\Users\\NET_PC\\Desktop\\Adrenocortical carcion...</td>\n",
       "      <td>Kidney tumor JPG (Type 2)</td>\n",
       "    </tr>\n",
       "  </tbody>\n",
       "</table>\n",
       "<p>36430 rows × 2 columns</p>\n",
       "</div>"
      ],
      "text/plain": [
       "                                                Filepath  \\\n",
       "0      C:\\Users\\NET_PC\\Desktop\\Adrenocortical carcion...   \n",
       "1      C:\\Users\\NET_PC\\Desktop\\Adrenocortical carcion...   \n",
       "2      C:\\Users\\NET_PC\\Desktop\\Adrenocortical carcion...   \n",
       "3      C:\\Users\\NET_PC\\Desktop\\Adrenocortical carcion...   \n",
       "4      C:\\Users\\NET_PC\\Desktop\\Adrenocortical carcion...   \n",
       "...                                                  ...   \n",
       "36425  C:\\Users\\NET_PC\\Desktop\\Adrenocortical carcion...   \n",
       "36426  C:\\Users\\NET_PC\\Desktop\\Adrenocortical carcion...   \n",
       "36427  C:\\Users\\NET_PC\\Desktop\\Adrenocortical carcion...   \n",
       "36428  C:\\Users\\NET_PC\\Desktop\\Adrenocortical carcion...   \n",
       "36429  C:\\Users\\NET_PC\\Desktop\\Adrenocortical carcion...   \n",
       "\n",
       "                                       Label  \n",
       "0      Adrenocortical carcinoma JPG (Type 2)  \n",
       "1      Adrenocortical carcinoma JPG (Type 2)  \n",
       "2      Adrenocortical carcinoma JPG (Type 2)  \n",
       "3      Adrenocortical carcinoma JPG (Type 2)  \n",
       "4      Adrenocortical carcinoma JPG (Type 2)  \n",
       "...                                      ...  \n",
       "36425              Kidney tumor JPG (Type 2)  \n",
       "36426              Kidney tumor JPG (Type 2)  \n",
       "36427              Kidney tumor JPG (Type 2)  \n",
       "36428              Kidney tumor JPG (Type 2)  \n",
       "36429              Kidney tumor JPG (Type 2)  \n",
       "\n",
       "[36430 rows x 2 columns]"
      ]
     },
     "execution_count": 4,
     "metadata": {},
     "output_type": "execute_result"
    }
   ],
   "source": [
    "image_df"
   ]
  },
  {
   "cell_type": "code",
   "execution_count": 5,
   "id": "8178f82e",
   "metadata": {},
   "outputs": [],
   "source": [
    "train_df, test_df = train_test_split(image_df, train_size=0.80, shuffle=True, random_state=1)"
   ]
  },
  {
   "cell_type": "code",
   "execution_count": 6,
   "id": "04b66abb",
   "metadata": {},
   "outputs": [],
   "source": [
    "from keras.preprocessing.image import ImageDataGenerator\n",
    "\n",
    "train_generator = tf.keras.preprocessing.image.ImageDataGenerator(rescale=1./255,\n",
    "                                                                  horizontal_flip=True,\n",
    "                                                                  width_shift_range=0.2,\n",
    "                                                                  height_shift_range=0.2,\n",
    "                                                                  validation_split=0.2)\n",
    "\n",
    "test_generator = tf.keras.preprocessing.image.ImageDataGenerator(rescale=1./255)"
   ]
  },
  {
   "cell_type": "code",
   "execution_count": 7,
   "id": "e3182c4c",
   "metadata": {},
   "outputs": [
    {
     "name": "stdout",
     "output_type": "stream",
     "text": [
      "Found 23316 validated image filenames belonging to 2 classes.\n",
      "Found 5828 validated image filenames belonging to 2 classes.\n",
      "Found 7286 validated image filenames belonging to 2 classes.\n"
     ]
    }
   ],
   "source": [
    "train_images = train_generator.flow_from_dataframe(dataframe=train_df,\n",
    "                                                   x_col='Filepath',\n",
    "                                                   y_col='Label',\n",
    "                                                   target_size=(75, 75),\n",
    "                                                   color_mode='rgb',\n",
    "                                                   class_mode='binary',\n",
    "                                                   batch_size=32,\n",
    "                                                   shuffle=True,\n",
    "                                                   seed=42,\n",
    "                                                   subset='training')\n",
    "\n",
    "val_images = train_generator.flow_from_dataframe(dataframe=train_df,\n",
    "                                                 x_col='Filepath',\n",
    "                                                 y_col='Label',\n",
    "                                                 target_size=(75, 75),\n",
    "                                                 color_mode='rgb',\n",
    "                                                 class_mode='binary',\n",
    "                                                 batch_size=32,\n",
    "                                                 shuffle=True,\n",
    "                                                 seed=42,\n",
    "                                                 subset='validation')\n",
    "\n",
    "test_images = test_generator.flow_from_dataframe(dataframe=test_df,\n",
    "                                                 x_col='Filepath',\n",
    "                                                 y_col='Label',\n",
    "                                                 target_size=(75, 75),\n",
    "                                                 color_mode='rgb',\n",
    "                                                 class_mode='binary',\n",
    "                                                 batch_size=32,\n",
    "                                                 shuffle=False)"
   ]
  },
  {
   "cell_type": "code",
   "execution_count": 8,
   "id": "0b2b79ca",
   "metadata": {},
   "outputs": [],
   "source": [
    "import keras\n",
    "from keras.models import Sequential\n",
    "from keras.layers import Dense, Conv3D, MaxPool3D , Dropout, Flatten\n",
    "from tensorflow.keras.layers import Dropout\n",
    "\n",
    "InceptionV3 = tf.keras.applications.InceptionV3(\n",
    "    include_top=False,\n",
    "    weights=\"imagenet\",\n",
    "    input_shape=(75, 75, 3))\n",
    "\n",
    "\n",
    "InceptionV3.trainable = False"
   ]
  },
  {
   "cell_type": "code",
   "execution_count": 9,
   "id": "01186eee",
   "metadata": {},
   "outputs": [],
   "source": [
    "model = keras.Sequential([\n",
    "    InceptionV3,\n",
    "    keras.layers.Flatten(),\n",
    "    keras.layers.Dropout(0.5),\n",
    "    keras.layers.Dense(units=128, activation='relu'),\n",
    "    keras.layers.Dropout(0.5),\n",
    "    keras.layers.Dense(units=64, activation='relu'),\n",
    "    keras.layers.Dropout(0.5),\n",
    "    keras.layers.Dense(units=1, activation='sigmoid'),\n",
    "])"
   ]
  },
  {
   "cell_type": "code",
   "execution_count": 10,
   "id": "789c1ae1",
   "metadata": {},
   "outputs": [],
   "source": [
    "model.compile(\n",
    "  loss='binary_crossentropy',\n",
    "  optimizer='adam',\n",
    "  metrics=['accuracy']\n",
    ")"
   ]
  },
  {
   "cell_type": "code",
   "execution_count": 11,
   "id": "d72370d1",
   "metadata": {},
   "outputs": [
    {
     "name": "stdout",
     "output_type": "stream",
     "text": [
      "Model: \"sequential\"\n",
      "_________________________________________________________________\n",
      " Layer (type)                Output Shape              Param #   \n",
      "=================================================================\n",
      " inception_v3 (Functional)   (None, 1, 1, 2048)        21802784  \n",
      "                                                                 \n",
      " flatten (Flatten)           (None, 2048)              0         \n",
      "                                                                 \n",
      " dropout (Dropout)           (None, 2048)              0         \n",
      "                                                                 \n",
      " dense (Dense)               (None, 128)               262272    \n",
      "                                                                 \n",
      " dropout_1 (Dropout)         (None, 128)               0         \n",
      "                                                                 \n",
      " dense_1 (Dense)             (None, 64)                8256      \n",
      "                                                                 \n",
      " dropout_2 (Dropout)         (None, 64)                0         \n",
      "                                                                 \n",
      " dense_2 (Dense)             (None, 1)                 65        \n",
      "                                                                 \n",
      "=================================================================\n",
      "Total params: 22,073,377\n",
      "Trainable params: 270,593\n",
      "Non-trainable params: 21,802,784\n",
      "_________________________________________________________________\n"
     ]
    }
   ],
   "source": [
    "model.summary()"
   ]
  },
  {
   "cell_type": "code",
   "execution_count": 12,
   "id": "39c2168a",
   "metadata": {},
   "outputs": [
    {
     "name": "stdout",
     "output_type": "stream",
     "text": [
      "<keras.engine.functional.Functional object at 0x000001ED6D1998A0> False\n",
      "<keras.layers.reshaping.flatten.Flatten object at 0x000001ED6C03F640> True\n",
      "<keras.layers.regularization.dropout.Dropout object at 0x000001ED6D1BD270> True\n",
      "<keras.layers.core.dense.Dense object at 0x000001ED6D1BCEE0> True\n",
      "<keras.layers.regularization.dropout.Dropout object at 0x000001ED6D1BCD60> True\n",
      "<keras.layers.core.dense.Dense object at 0x000001ED6D1BD300> True\n",
      "<keras.layers.regularization.dropout.Dropout object at 0x000001ED6D1BDB10> True\n",
      "<keras.layers.core.dense.Dense object at 0x000001ED6D1BC6D0> True\n"
     ]
    }
   ],
   "source": [
    "for layer in model.layers:\n",
    "    print(layer, layer.trainable)"
   ]
  },
  {
   "cell_type": "code",
   "execution_count": 13,
   "id": "1692f332",
   "metadata": {},
   "outputs": [
    {
     "name": "stdout",
     "output_type": "stream",
     "text": [
      "Epoch 1/50\n",
      "729/729 [==============================] - 376s 510ms/step - loss: 0.7171 - accuracy: 0.5513 - val_loss: 0.6515 - val_accuracy: 0.6428 - lr: 0.0010\n",
      "Epoch 2/50\n",
      "729/729 [==============================] - 677s 929ms/step - loss: 0.6610 - accuracy: 0.5962 - val_loss: 0.6380 - val_accuracy: 0.6603 - lr: 0.0010\n",
      "Epoch 3/50\n",
      "729/729 [==============================] - 677s 929ms/step - loss: 0.6471 - accuracy: 0.6122 - val_loss: 0.6240 - val_accuracy: 0.6699 - lr: 0.0010\n",
      "Epoch 4/50\n",
      "729/729 [==============================] - 665s 913ms/step - loss: 0.6409 - accuracy: 0.6196 - val_loss: 0.6257 - val_accuracy: 0.6790 - lr: 0.0010\n",
      "Epoch 5/50\n",
      "729/729 [==============================] - 479s 656ms/step - loss: 0.6288 - accuracy: 0.6368 - val_loss: 0.6142 - val_accuracy: 0.6800 - lr: 0.0010\n",
      "Epoch 6/50\n",
      "729/729 [==============================] - 466s 640ms/step - loss: 0.6263 - accuracy: 0.6382 - val_loss: 0.6145 - val_accuracy: 0.6858 - lr: 0.0010\n",
      "Epoch 7/50\n",
      "729/729 [==============================] - 456s 626ms/step - loss: 0.6220 - accuracy: 0.6397 - val_loss: 0.6101 - val_accuracy: 0.6941 - lr: 0.0010\n",
      "Epoch 8/50\n",
      "729/729 [==============================] - 419s 574ms/step - loss: 0.6263 - accuracy: 0.6352 - val_loss: 0.5949 - val_accuracy: 0.6872 - lr: 0.0010\n",
      "Epoch 9/50\n",
      "729/729 [==============================] - 356s 487ms/step - loss: 0.6236 - accuracy: 0.6403 - val_loss: 0.6087 - val_accuracy: 0.6980 - lr: 0.0010\n",
      "Epoch 10/50\n",
      "729/729 [==============================] - 388s 532ms/step - loss: 0.6169 - accuracy: 0.6526 - val_loss: 0.6016 - val_accuracy: 0.6997 - lr: 0.0010\n",
      "Epoch 11/50\n",
      "729/729 [==============================] - 369s 507ms/step - loss: 0.6126 - accuracy: 0.6619 - val_loss: 0.5914 - val_accuracy: 0.7006 - lr: 0.0010\n",
      "Epoch 12/50\n",
      "729/729 [==============================] - 363s 498ms/step - loss: 0.6084 - accuracy: 0.6626 - val_loss: 0.6044 - val_accuracy: 0.7080 - lr: 0.0010\n",
      "Epoch 13/50\n",
      "729/729 [==============================] - 362s 497ms/step - loss: 0.6153 - accuracy: 0.6585 - val_loss: 0.5933 - val_accuracy: 0.7104 - lr: 0.0010\n",
      "Epoch 14/50\n",
      "729/729 [==============================] - 375s 514ms/step - loss: 0.6117 - accuracy: 0.6618 - val_loss: 0.5980 - val_accuracy: 0.7081 - lr: 0.0010\n",
      "Epoch 15/50\n",
      "729/729 [==============================] - 365s 500ms/step - loss: 0.6091 - accuracy: 0.6665 - val_loss: 0.5905 - val_accuracy: 0.7085 - lr: 1.0000e-04\n",
      "Epoch 16/50\n",
      "729/729 [==============================] - 355s 487ms/step - loss: 0.6009 - accuracy: 0.6752 - val_loss: 0.5805 - val_accuracy: 0.7111 - lr: 1.0000e-04\n",
      "Epoch 17/50\n",
      "729/729 [==============================] - 385s 528ms/step - loss: 0.5987 - accuracy: 0.6723 - val_loss: 0.5786 - val_accuracy: 0.7188 - lr: 1.0000e-04\n",
      "Epoch 18/50\n",
      "729/729 [==============================] - 358s 491ms/step - loss: 0.5999 - accuracy: 0.6752 - val_loss: 0.5810 - val_accuracy: 0.7176 - lr: 1.0000e-04\n",
      "Epoch 19/50\n",
      "729/729 [==============================] - 364s 498ms/step - loss: 0.6003 - accuracy: 0.6690 - val_loss: 0.5817 - val_accuracy: 0.7155 - lr: 1.0000e-04\n",
      "Epoch 20/50\n",
      "729/729 [==============================] - 380s 522ms/step - loss: 0.6022 - accuracy: 0.6687 - val_loss: 0.5845 - val_accuracy: 0.7085 - lr: 1.0000e-04\n",
      "Epoch 21/50\n",
      "729/729 [==============================] - 368s 505ms/step - loss: 0.5975 - accuracy: 0.6748 - val_loss: 0.5816 - val_accuracy: 0.7179 - lr: 1.0000e-05\n",
      "Epoch 22/50\n",
      "729/729 [==============================] - 384s 527ms/step - loss: 0.5947 - accuracy: 0.6755 - val_loss: 0.5853 - val_accuracy: 0.7090 - lr: 1.0000e-05\n"
     ]
    }
   ],
   "source": [
    "history = model.fit(\n",
    "    train_images,\n",
    "    validation_data=val_images,\n",
    "    epochs=50,\n",
    "    callbacks=[\n",
    "        tf.keras.callbacks.EarlyStopping(\n",
    "            monitor='val_loss',\n",
    "            patience=5,\n",
    "            restore_best_weights=True\n",
    "        ),\n",
    "        tf.keras.callbacks.ReduceLROnPlateau(\n",
    "            monitor='val_loss',\n",
    "            patience=3\n",
    "        )\n",
    "    ]\n",
    ")"
   ]
  },
  {
   "cell_type": "code",
   "execution_count": 14,
   "id": "91d3424f",
   "metadata": {},
   "outputs": [
    {
     "data": {
      "image/png": "[encoded data removed]",
      "text/plain": [
       "<Figure size 432x288 with 1 Axes>"
      ]
     },
     "metadata": {
      "needs_background": "light"
     },
     "output_type": "display_data"
    }
   ],
   "source": [
    "import matplotlib.pyplot as plt\n",
    "\n",
    "#plt.figure(figsize=(14, 10))\n",
    "plt.plot(history.history['accuracy'])\n",
    "plt.plot(history.history['val_accuracy'])\n",
    "plt.title('InceptionV3 Model Accuracy')\n",
    "plt.ylabel('Accuracy')\n",
    "plt.xlabel('Epoch')\n",
    "plt.legend(['Accuracy', 'Validation Accuracy', 'loss', 'Validation Loss'])\n",
    "plt.show()"
   ]
  },
  {
   "cell_type": "code",
   "execution_count": 15,
   "id": "1b2829fe",
   "metadata": {},
   "outputs": [
    {
     "data": {
      "image/png": "[encoded data removed]",
      "text/plain": [
       "<Figure size 432x288 with 1 Axes>"
      ]
     },
     "metadata": {
      "needs_background": "light"
     },
     "output_type": "display_data"
    }
   ],
   "source": [
    "import matplotlib.pyplot as plt\n",
    "\n",
    "#plt.figure(figsize=(14, 10))\n",
    "plt.plot(history.history['loss'])\n",
    "plt.plot(history.history['val_loss'])\n",
    "plt.title('InceptionV3 Model Loss')\n",
    "plt.ylabel('Loss')\n",
    "plt.xlabel('Epoch')\n",
    "plt.legend(['Train', 'Test'], loc='upper right')\n",
    "plt.show()"
   ]
  },
  {
   "cell_type": "code",
   "execution_count": 16,
   "id": "b6cd56ba",
   "metadata": {},
   "outputs": [
    {
     "name": "stdout",
     "output_type": "stream",
     "text": [
      "    Test Loss: 0.59217\n",
      "Test Accuracy: 71.40%\n"
     ]
    }
   ],
   "source": [
    "results = model.evaluate(test_images, verbose=0)\n",
    "\n",
    "print(\"    Test Loss: {:.5f}\".format(results[0]))\n",
    "print(\"Test Accuracy: {:.2f}%\".format(results[1] * 100))"
   ]
  },
  {
   "cell_type": "code",
   "execution_count": 17,
   "id": "04aea756",
   "metadata": {},
   "outputs": [
    {
     "name": "stdout",
     "output_type": "stream",
     "text": [
      "228/228 [==============================] - 60s 212ms/step\n"
     ]
    },
    {
     "data": {
      "image/png": "[encoded data removed]",
      "text/plain": [
       "<Figure size 432x432 with 1 Axes>"
      ]
     },
     "metadata": {
      "needs_background": "light"
     },
     "output_type": "display_data"
    },
    {
     "name": "stdout",
     "output_type": "stream",
     "text": [
      "Classification Report:\n",
      "----------------------\n",
      "               precision    recall  f1-score   support\n",
      "\n",
      "         ACC       0.68      0.79      0.74      3648\n",
      "Kidney tumor       0.75      0.63      0.69      3638\n",
      "\n",
      "    accuracy                           0.71      7286\n",
      "   macro avg       0.72      0.71      0.71      7286\n",
      "weighted avg       0.72      0.71      0.71      7286\n",
      "\n"
     ]
    }
   ],
   "source": [
    "predictions = (model.predict(test_images) >= 0.5).astype(int)\n",
    "\n",
    "cm = confusion_matrix(test_images.labels, predictions, labels=[0, 1])\n",
    "clr = classification_report(test_images.labels, predictions, labels=[0, 1], target_names=[\"ACC\", \"Kidney tumor\"])\n",
    "\n",
    "plt.figure(figsize=(6, 6))\n",
    "sns.heatmap(cm, annot=True, fmt='g', vmin=0, cmap='Blues', cbar=False)\n",
    "plt.xticks(ticks=[0.5, 1.5], labels=[\"ACC\", \"Kidney tumor\"])\n",
    "plt.yticks(ticks=[0.5, 1.5], labels=[\"ACC\", \"Kidney tumor\"])\n",
    "plt.xlabel(\"Predicted\")\n",
    "plt.ylabel(\"Actual\")\n",
    "plt.title(\"Confusion Matrix of InceptionV3 Model\")\n",
    "plt.show()\n",
    "\n",
    "print(\"Classification Report:\\n----------------------\\n\", clr)"
   ]
  },
  {
   "cell_type": "code",
   "execution_count": 18,
   "id": "35515a09",
   "metadata": {},
   "outputs": [
    {
     "name": "stdout",
     "output_type": "stream",
     "text": [
      "228/228 [==============================] - 46s 199ms/step\n",
      "AUC ROC: 0.79192\n"
     ]
    },
    {
     "data": {
      "image/png": "[encoded data removed]",
      "text/plain": [
       "<Figure size 432x288 with 1 Axes>"
      ]
     },
     "metadata": {
      "needs_background": "light"
     },
     "output_type": "display_data"
    }
   ],
   "source": [
    "# Obtain predicted probabilities\n",
    "from sklearn.metrics import roc_auc_score, roc_curve\n",
    "\n",
    "predicted_probabilities = model.predict(test_images)\n",
    "\n",
    "# Compute AUC ROC\n",
    "auc_roc = roc_auc_score(test_images.labels, predicted_probabilities)\n",
    "\n",
    "print(\"AUC ROC: {:.5f}\".format(auc_roc))\n",
    "\n",
    "# Plot ROC curve\n",
    "fpr, tpr, thresholds = roc_curve(test_images.labels, predicted_probabilities)\n",
    "\n",
    "plt.figure()\n",
    "plt.plot(fpr, tpr, label='ROC curve (area = {:.2f})'.format(auc_roc))\n",
    "plt.plot([0, 1], [0, 1], 'k--')\n",
    "plt.xlim([0.0, 1.0])\n",
    "plt.ylim([0.0, 1.05])\n",
    "plt.xlabel('False Positive Rate')\n",
    "plt.ylabel('True Positive Rate')\n",
    "plt.title('Receiver Operating Characteristic (ROC) Curve')\n",
    "plt.legend(loc='lower right')\n",
    "plt.show()"
   ]
  },
  {
   "cell_type": "code",
   "execution_count": 19,
   "id": "48f67acc",
   "metadata": {},
   "outputs": [],
   "source": [
    "# save the model to a file\n",
    "model.save('InceptionV3-ACC vs Kidney tumor .h5')"
   ]
  },
  {
   "cell_type": "code",
   "execution_count": null,
   "id": "0e0c79d3",
   "metadata": {},
   "outputs": [],
   "source": []
  }
 ],
 "metadata": {
  "kernelspec": {
   "display_name": "Python 3 (ipykernel)",
   "language": "python",
   "name": "python3"
  },
  "language_info": {
   "codemirror_mode": {
    "name": "ipython",
    "version": 3
   },
   "file_extension": ".py",
   "mimetype": "text/x-python",
   "name": "python",
   "nbconvert_exporter": "python",
   "pygments_lexer": "ipython3",
   "version": "3.10.4"
  }
 },
 "nbformat": 4,
 "nbformat_minor": 5
}
