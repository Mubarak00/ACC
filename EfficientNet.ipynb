{
 "cells": [
  {
   "cell_type": "code",
   "execution_count": 1,
   "id": "655ce856",
   "metadata": {},
   "outputs": [],
   "source": [
    "from sklearn.metrics import confusion_matrix, classification_report\n",
    "from tensorflow.keras.layers import Dense, GlobalAveragePooling2D\n",
    "from sklearn.model_selection import train_test_split\n",
    "from efficientnet.tfkeras import EfficientNetB0\n",
    "from tensorflow.keras.models import Sequential, Model\n",
    "import matplotlib.pyplot as plt\n",
    "from tensorflow.keras.optimizers import Adam\n",
    "from pathlib import Path\n",
    "import tensorflow as tf\n",
    "import seaborn as sns\n",
    "import pandas as pd\n",
    "import numpy as np\n",
    "import os.path"
   ]
  },
  {
   "cell_type": "code",
   "execution_count": 2,
   "id": "d6fd70fc",
   "metadata": {},
   "outputs": [],
   "source": [
    "image_dir = Path(\"C:/Users/NET_PC/Desktop/Adrenocortical carcionoma project/JPG 2 Data\")"
   ]
  },
  {
   "cell_type": "code",
   "execution_count": 3,
   "id": "a811e975",
   "metadata": {},
   "outputs": [],
   "source": [
    "filepaths = list(image_dir.glob(r'**/*.JPG'))\n",
    "labels = list(map(lambda x: os.path.split(os.path.split(x)[0])[1], filepaths))\n",
    "\n",
    "filepaths = pd.Series(filepaths, name='Filepath').astype(str)\n",
    "labels = pd.Series(labels, name='Label')\n",
    "\n",
    "image_df = pd.concat([filepaths, labels], axis=1)"
   ]
  },
  {
   "cell_type": "code",
   "execution_count": 4,
   "id": "9d7e6be6",
   "metadata": {},
   "outputs": [
    {
     "data": {
      "text/html": [
       "<div>\n",
       "<style scoped>\n",
       "    .dataframe tbody tr th:only-of-type {\n",
       "        vertical-align: middle;\n",
       "    }\n",
       "\n",
       "    .dataframe tbody tr th {\n",
       "        vertical-align: top;\n",
       "    }\n",
       "\n",
       "    .dataframe thead th {\n",
       "        text-align: right;\n",
       "    }\n",
       "</style>\n",
       "<table border=\"1\" class=\"dataframe\">\n",
       "  <thead>\n",
       "    <tr style=\"text-align: right;\">\n",
       "      <th></th>\n",
       "      <th>Filepath</th>\n",
       "      <th>Label</th>\n",
       "    </tr>\n",
       "  </thead>\n",
       "  <tbody>\n",
       "    <tr>\n",
       "      <th>0</th>\n",
       "      <td>C:\\Users\\NET_PC\\Desktop\\Adrenocortical carcion...</td>\n",
       "      <td>Adrenocortical carcinoma JPG (Type 2)</td>\n",
       "    </tr>\n",
       "    <tr>\n",
       "      <th>1</th>\n",
       "      <td>C:\\Users\\NET_PC\\Desktop\\Adrenocortical carcion...</td>\n",
       "      <td>Adrenocortical carcinoma JPG (Type 2)</td>\n",
       "    </tr>\n",
       "    <tr>\n",
       "      <th>2</th>\n",
       "      <td>C:\\Users\\NET_PC\\Desktop\\Adrenocortical carcion...</td>\n",
       "      <td>Adrenocortical carcinoma JPG (Type 2)</td>\n",
       "    </tr>\n",
       "    <tr>\n",
       "      <th>3</th>\n",
       "      <td>C:\\Users\\NET_PC\\Desktop\\Adrenocortical carcion...</td>\n",
       "      <td>Adrenocortical carcinoma JPG (Type 2)</td>\n",
       "    </tr>\n",
       "    <tr>\n",
       "      <th>4</th>\n",
       "      <td>C:\\Users\\NET_PC\\Desktop\\Adrenocortical carcion...</td>\n",
       "      <td>Adrenocortical carcinoma JPG (Type 2)</td>\n",
       "    </tr>\n",
       "    <tr>\n",
       "      <th>...</th>\n",
       "      <td>...</td>\n",
       "      <td>...</td>\n",
       "    </tr>\n",
       "    <tr>\n",
       "      <th>36425</th>\n",
       "      <td>C:\\Users\\NET_PC\\Desktop\\Adrenocortical carcion...</td>\n",
       "      <td>Kidney tumor JPG (Type 2)</td>\n",
       "    </tr>\n",
       "    <tr>\n",
       "      <th>36426</th>\n",
       "      <td>C:\\Users\\NET_PC\\Desktop\\Adrenocortical carcion...</td>\n",
       "      <td>Kidney tumor JPG (Type 2)</td>\n",
       "    </tr>\n",
       "    <tr>\n",
       "      <th>36427</th>\n",
       "      <td>C:\\Users\\NET_PC\\Desktop\\Adrenocortical carcion...</td>\n",
       "      <td>Kidney tumor JPG (Type 2)</td>\n",
       "    </tr>\n",
       "    <tr>\n",
       "      <th>36428</th>\n",
       "      <td>C:\\Users\\NET_PC\\Desktop\\Adrenocortical carcion...</td>\n",
       "      <td>Kidney tumor JPG (Type 2)</td>\n",
       "    </tr>\n",
       "    <tr>\n",
       "      <th>36429</th>\n",
       "      <td>C:\\Users\\NET_PC\\Desktop\\Adrenocortical carcion...</td>\n",
       "      <td>Kidney tumor JPG (Type 2)</td>\n",
       "    </tr>\n",
       "  </tbody>\n",
       "</table>\n",
       "<p>36430 rows × 2 columns</p>\n",
       "</div>"
      ],
      "text/plain": [
       "                                                Filepath  \\\n",
       "0      C:\\Users\\NET_PC\\Desktop\\Adrenocortical carcion...   \n",
       "1      C:\\Users\\NET_PC\\Desktop\\Adrenocortical carcion...   \n",
       "2      C:\\Users\\NET_PC\\Desktop\\Adrenocortical carcion...   \n",
       "3      C:\\Users\\NET_PC\\Desktop\\Adrenocortical carcion...   \n",
       "4      C:\\Users\\NET_PC\\Desktop\\Adrenocortical carcion...   \n",
       "...                                                  ...   \n",
       "36425  C:\\Users\\NET_PC\\Desktop\\Adrenocortical carcion...   \n",
       "36426  C:\\Users\\NET_PC\\Desktop\\Adrenocortical carcion...   \n",
       "36427  C:\\Users\\NET_PC\\Desktop\\Adrenocortical carcion...   \n",
       "36428  C:\\Users\\NET_PC\\Desktop\\Adrenocortical carcion...   \n",
       "36429  C:\\Users\\NET_PC\\Desktop\\Adrenocortical carcion...   \n",
       "\n",
       "                                       Label  \n",
       "0      Adrenocortical carcinoma JPG (Type 2)  \n",
       "1      Adrenocortical carcinoma JPG (Type 2)  \n",
       "2      Adrenocortical carcinoma JPG (Type 2)  \n",
       "3      Adrenocortical carcinoma JPG (Type 2)  \n",
       "4      Adrenocortical carcinoma JPG (Type 2)  \n",
       "...                                      ...  \n",
       "36425              Kidney tumor JPG (Type 2)  \n",
       "36426              Kidney tumor JPG (Type 2)  \n",
       "36427              Kidney tumor JPG (Type 2)  \n",
       "36428              Kidney tumor JPG (Type 2)  \n",
       "36429              Kidney tumor JPG (Type 2)  \n",
       "\n",
       "[36430 rows x 2 columns]"
      ]
     },
     "execution_count": 4,
     "metadata": {},
     "output_type": "execute_result"
    }
   ],
   "source": [
    "image_df"
   ]
  },
  {
   "cell_type": "code",
   "execution_count": 1,
   "id": "d20657e0",
   "metadata": {},
   "outputs": [
    {
     "ename": "NameError",
     "evalue": "name 'train_test_split' is not defined",
     "output_type": "error",
     "traceback": [
      "\u001b[1;31m---------------------------------------------------------------------------\u001b[0m",
      "\u001b[1;31mNameError\u001b[0m                                 Traceback (most recent call last)",
      "Input \u001b[1;32mIn [1]\u001b[0m, in \u001b[0;36m<cell line: 1>\u001b[1;34m()\u001b[0m\n\u001b[1;32m----> 1\u001b[0m train_df, test_df \u001b[38;5;241m=\u001b[39m \u001b[43mtrain_test_split\u001b[49m(image_df, train_size\u001b[38;5;241m=\u001b[39m\u001b[38;5;241m0.99\u001b[39m, shuffle\u001b[38;5;241m=\u001b[39m\u001b[38;5;28;01mTrue\u001b[39;00m, random_state\u001b[38;5;241m=\u001b[39m\u001b[38;5;241m1\u001b[39m)\n",
      "\u001b[1;31mNameError\u001b[0m: name 'train_test_split' is not defined"
     ]
    }
   ],
   "source": [
    "train_df, test_df = train_test_split(image_df, train_size=0.80, shuffle=True, random_state=1)"
   ]
  },
  {
   "cell_type": "code",
   "execution_count": null,
   "id": "6a29caeb",
   "metadata": {},
   "outputs": [],
   "source": [
    "from keras.preprocessing.image import ImageDataGenerator\n",
    "\n",
    "train_generator = tf.keras.preprocessing.image.ImageDataGenerator(rescale=1./255,\n",
    "                                                                  validation_split=0.2)\n",
    "\n",
    "test_generator = tf.keras.preprocessing.image.ImageDataGenerator(rescale=1./255)"
   ]
  },
  {
   "cell_type": "code",
   "execution_count": 2,
   "id": "a7bc88f8",
   "metadata": {},
   "outputs": [
    {
     "ename": "NameError",
     "evalue": "name 'train_generator' is not defined",
     "output_type": "error",
     "traceback": [
      "\u001b[1;31m---------------------------------------------------------------------------\u001b[0m",
      "\u001b[1;31mNameError\u001b[0m                                 Traceback (most recent call last)",
      "Input \u001b[1;32mIn [2]\u001b[0m, in \u001b[0;36m<cell line: 1>\u001b[1;34m()\u001b[0m\n\u001b[1;32m----> 1\u001b[0m train_images \u001b[38;5;241m=\u001b[39m \u001b[43mtrain_generator\u001b[49m\u001b[38;5;241m.\u001b[39mflow_from_dataframe(dataframe\u001b[38;5;241m=\u001b[39mtrain_df,\n\u001b[0;32m      2\u001b[0m                                                    x_col\u001b[38;5;241m=\u001b[39m\u001b[38;5;124m'\u001b[39m\u001b[38;5;124mFilepath\u001b[39m\u001b[38;5;124m'\u001b[39m,\n\u001b[0;32m      3\u001b[0m                                                    y_col\u001b[38;5;241m=\u001b[39m\u001b[38;5;124m'\u001b[39m\u001b[38;5;124mLabel\u001b[39m\u001b[38;5;124m'\u001b[39m,\n\u001b[0;32m      4\u001b[0m                                                    target_size\u001b[38;5;241m=\u001b[39m(\u001b[38;5;241m64\u001b[39m, \u001b[38;5;241m64\u001b[39m),\n\u001b[0;32m      5\u001b[0m                                                    color_mode\u001b[38;5;241m=\u001b[39m\u001b[38;5;124m'\u001b[39m\u001b[38;5;124mrgb\u001b[39m\u001b[38;5;124m'\u001b[39m,\n\u001b[0;32m      6\u001b[0m                                                    class_mode\u001b[38;5;241m=\u001b[39m\u001b[38;5;124m'\u001b[39m\u001b[38;5;124mbinary\u001b[39m\u001b[38;5;124m'\u001b[39m,\n\u001b[0;32m      7\u001b[0m                                                    batch_size\u001b[38;5;241m=\u001b[39m\u001b[38;5;241m32\u001b[39m,\n\u001b[0;32m      8\u001b[0m                                                    shuffle\u001b[38;5;241m=\u001b[39m\u001b[38;5;28;01mTrue\u001b[39;00m,\n\u001b[0;32m      9\u001b[0m                                                    seed\u001b[38;5;241m=\u001b[39m\u001b[38;5;241m42\u001b[39m,\n\u001b[0;32m     10\u001b[0m                                                    subset\u001b[38;5;241m=\u001b[39m\u001b[38;5;124m'\u001b[39m\u001b[38;5;124mtraining\u001b[39m\u001b[38;5;124m'\u001b[39m)\n\u001b[0;32m     12\u001b[0m val_images \u001b[38;5;241m=\u001b[39m train_generator\u001b[38;5;241m.\u001b[39mflow_from_dataframe(dataframe\u001b[38;5;241m=\u001b[39mtrain_df,\n\u001b[0;32m     13\u001b[0m                                                  x_col\u001b[38;5;241m=\u001b[39m\u001b[38;5;124m'\u001b[39m\u001b[38;5;124mFilepath\u001b[39m\u001b[38;5;124m'\u001b[39m,\n\u001b[0;32m     14\u001b[0m                                                  y_col\u001b[38;5;241m=\u001b[39m\u001b[38;5;124m'\u001b[39m\u001b[38;5;124mLabel\u001b[39m\u001b[38;5;124m'\u001b[39m,\n\u001b[1;32m   (...)\u001b[0m\n\u001b[0;32m     20\u001b[0m                                                  seed\u001b[38;5;241m=\u001b[39m\u001b[38;5;241m42\u001b[39m,\n\u001b[0;32m     21\u001b[0m                                                  subset\u001b[38;5;241m=\u001b[39m\u001b[38;5;124m'\u001b[39m\u001b[38;5;124mvalidation\u001b[39m\u001b[38;5;124m'\u001b[39m)\n\u001b[0;32m     23\u001b[0m test_images \u001b[38;5;241m=\u001b[39m test_generator\u001b[38;5;241m.\u001b[39mflow_from_dataframe(dataframe\u001b[38;5;241m=\u001b[39mtest_df,\n\u001b[0;32m     24\u001b[0m                                                  x_col\u001b[38;5;241m=\u001b[39m\u001b[38;5;124m'\u001b[39m\u001b[38;5;124mFilepath\u001b[39m\u001b[38;5;124m'\u001b[39m,\n\u001b[0;32m     25\u001b[0m                                                  y_col\u001b[38;5;241m=\u001b[39m\u001b[38;5;124m'\u001b[39m\u001b[38;5;124mLabel\u001b[39m\u001b[38;5;124m'\u001b[39m,\n\u001b[1;32m   (...)\u001b[0m\n\u001b[0;32m     29\u001b[0m                                                  batch_size\u001b[38;5;241m=\u001b[39m\u001b[38;5;241m32\u001b[39m,\n\u001b[0;32m     30\u001b[0m                                                  shuffle\u001b[38;5;241m=\u001b[39m\u001b[38;5;28;01mFalse\u001b[39;00m)\n",
      "\u001b[1;31mNameError\u001b[0m: name 'train_generator' is not defined"
     ]
    }
   ],
   "source": [
    "train_images = train_generator.flow_from_dataframe(dataframe=train_df,\n",
    "                                                   x_col='Filepath',\n",
    "                                                   y_col='Label',\n",
    "                                                   target_size=(64, 64),\n",
    "                                                   color_mode='rgb',\n",
    "                                                   class_mode='binary',\n",
    "                                                   batch_size=32,\n",
    "                                                   shuffle=True,\n",
    "                                                   seed=42,\n",
    "                                                   subset='training')\n",
    "\n",
    "val_images = train_generator.flow_from_dataframe(dataframe=train_df,\n",
    "                                                 x_col='Filepath',\n",
    "                                                 y_col='Label',\n",
    "                                                 target_size=(64, 64),\n",
    "                                                 color_mode='rgb',\n",
    "                                                 class_mode='binary',\n",
    "                                                 batch_size=32,\n",
    "                                                 shuffle=True,\n",
    "                                                 seed=42,\n",
    "                                                 subset='validation')\n",
    "\n",
    "test_images = test_generator.flow_from_dataframe(dataframe=test_df,\n",
    "                                                 x_col='Filepath',\n",
    "                                                 y_col='Label',\n",
    "                                                 target_size=(64, 64),\n",
    "                                                 color_mode='rgb',\n",
    "                                                 class_mode='binary',\n",
    "                                                 batch_size=32,\n",
    "                                                 shuffle=False)"
   ]
  },
  {
   "cell_type": "code",
   "execution_count": 3,
   "id": "12e7054e",
   "metadata": {},
   "outputs": [
    {
     "ename": "NameError",
     "evalue": "name 'EfficientNetB0' is not defined",
     "output_type": "error",
     "traceback": [
      "\u001b[1;31m---------------------------------------------------------------------------\u001b[0m",
      "\u001b[1;31mNameError\u001b[0m                                 Traceback (most recent call last)",
      "Input \u001b[1;32mIn [3]\u001b[0m, in \u001b[0;36m<cell line: 2>\u001b[1;34m()\u001b[0m\n\u001b[0;32m      1\u001b[0m \u001b[38;5;66;03m# Define the EfficientNetB0 model\u001b[39;00m\n\u001b[1;32m----> 2\u001b[0m base_model \u001b[38;5;241m=\u001b[39m \u001b[43mEfficientNetB0\u001b[49m(include_top\u001b[38;5;241m=\u001b[39m\u001b[38;5;28;01mFalse\u001b[39;00m, weights\u001b[38;5;241m=\u001b[39m\u001b[38;5;124m'\u001b[39m\u001b[38;5;124mimagenet\u001b[39m\u001b[38;5;124m'\u001b[39m, input_shape\u001b[38;5;241m=\u001b[39m(\u001b[38;5;241m64\u001b[39m, \u001b[38;5;241m64\u001b[39m, \u001b[38;5;241m3\u001b[39m))\n",
      "\u001b[1;31mNameError\u001b[0m: name 'EfficientNetB0' is not defined"
     ]
    }
   ],
   "source": [
    "# Define the EfficientNetB0 model\n",
    "base_model = EfficientNetB0(include_top=False, weights='imagenet', input_shape=(64, 64, 3))"
   ]
  },
  {
   "cell_type": "code",
   "execution_count": 9,
   "id": "cff05b81",
   "metadata": {},
   "outputs": [],
   "source": [
    "# Add a global spatial average pooling layer\n",
    "x = base_model.output\n",
    "x = GlobalAveragePooling2D()(x)"
   ]
  },
  {
   "cell_type": "code",
   "execution_count": 10,
   "id": "9a6c3158",
   "metadata": {},
   "outputs": [],
   "source": [
    "# Add a fully connected layer\n",
    "x = Dense(1024, activation='relu')(x)"
   ]
  },
  {
   "cell_type": "code",
   "execution_count": 11,
   "id": "e6ffffde",
   "metadata": {},
   "outputs": [],
   "source": [
    "# Add a binary classification layer\n",
    "predictions = Dense(1, activation='sigmoid')(x)"
   ]
  },
  {
   "cell_type": "code",
   "execution_count": 12,
   "id": "bb04ca1a",
   "metadata": {},
   "outputs": [],
   "source": [
    "# Combine the base model and our layers to create the final model\n",
    "model = Model(inputs=base_model.input, outputs=predictions)"
   ]
  },
  {
   "cell_type": "code",
   "execution_count": 13,
   "id": "4d9e7191",
   "metadata": {},
   "outputs": [],
   "source": [
    "# Freeze the base model's layers\n",
    "for layer in base_model.layers:\n",
    "    layer.trainable = False"
   ]
  },
  {
   "cell_type": "code",
   "execution_count": 14,
   "id": "c0e0b145",
   "metadata": {},
   "outputs": [],
   "source": [
    "# Compile the model\n",
    "model.compile(optimizer=Adam(learning_rate=0.0001), loss='binary_crossentropy', metrics=['accuracy'])"
   ]
  },
  {
   "cell_type": "code",
   "execution_count": 15,
   "id": "19df8c3a",
   "metadata": {},
   "outputs": [
    {
     "name": "stdout",
     "output_type": "stream",
     "text": [
      "Epoch 1/50\n",
      "729/729 [==============================] - 370s 502ms/step - loss: 0.5565 - accuracy: 0.7204 - val_loss: 0.4701 - val_accuracy: 0.7915 - lr: 1.0000e-04\n",
      "Epoch 2/50\n",
      "729/729 [==============================] - 298s 409ms/step - loss: 0.4733 - accuracy: 0.7785 - val_loss: 0.4535 - val_accuracy: 0.7938 - lr: 1.0000e-04\n",
      "Epoch 3/50\n",
      "729/729 [==============================] - 296s 405ms/step - loss: 0.4198 - accuracy: 0.8098 - val_loss: 0.3724 - val_accuracy: 0.8391 - lr: 1.0000e-04\n",
      "Epoch 4/50\n",
      "729/729 [==============================] - 258s 353ms/step - loss: 0.3860 - accuracy: 0.8329 - val_loss: 0.3419 - val_accuracy: 0.8593 - lr: 1.0000e-04\n",
      "Epoch 5/50\n",
      "729/729 [==============================] - 308s 423ms/step - loss: 0.3553 - accuracy: 0.8468 - val_loss: 0.3036 - val_accuracy: 0.8809 - lr: 1.0000e-04\n",
      "Epoch 6/50\n",
      "729/729 [==============================] - 279s 382ms/step - loss: 0.3336 - accuracy: 0.8584 - val_loss: 0.2800 - val_accuracy: 0.8902 - lr: 1.0000e-04\n",
      "Epoch 7/50\n",
      "729/729 [==============================] - 301s 413ms/step - loss: 0.3107 - accuracy: 0.8704 - val_loss: 0.2621 - val_accuracy: 0.9029 - lr: 1.0000e-04\n",
      "Epoch 8/50\n",
      "729/729 [==============================] - 301s 412ms/step - loss: 0.2911 - accuracy: 0.8808 - val_loss: 0.2476 - val_accuracy: 0.9075 - lr: 1.0000e-04\n",
      "Epoch 9/50\n",
      "729/729 [==============================] - 223s 306ms/step - loss: 0.2735 - accuracy: 0.8899 - val_loss: 0.2264 - val_accuracy: 0.9204 - lr: 1.0000e-04\n",
      "Epoch 10/50\n",
      "729/729 [==============================] - 223s 306ms/step - loss: 0.2612 - accuracy: 0.8966 - val_loss: 0.2169 - val_accuracy: 0.9200 - lr: 1.0000e-04\n",
      "Epoch 11/50\n",
      "729/729 [==============================] - 212s 290ms/step - loss: 0.2432 - accuracy: 0.9043 - val_loss: 0.2163 - val_accuracy: 0.9199 - lr: 1.0000e-04\n",
      "Epoch 12/50\n",
      "729/729 [==============================] - 224s 308ms/step - loss: 0.2277 - accuracy: 0.9113 - val_loss: 0.1920 - val_accuracy: 0.9329 - lr: 1.0000e-04\n",
      "Epoch 13/50\n",
      "729/729 [==============================] - 218s 299ms/step - loss: 0.2199 - accuracy: 0.9153 - val_loss: 0.1889 - val_accuracy: 0.9291 - lr: 1.0000e-04\n",
      "Epoch 14/50\n",
      "729/729 [==============================] - 229s 314ms/step - loss: 0.2107 - accuracy: 0.9194 - val_loss: 0.1697 - val_accuracy: 0.9410 - lr: 1.0000e-04\n",
      "Epoch 15/50\n",
      "729/729 [==============================] - 210s 288ms/step - loss: 0.2022 - accuracy: 0.9255 - val_loss: 0.1832 - val_accuracy: 0.9296 - lr: 1.0000e-04\n"
     ]
    }
   ],
   "source": [
    "history = model.fit(\n",
    "    train_images,\n",
    "    validation_data=val_images,\n",
    "    epochs=50,\n",
    "    callbacks=[\n",
    "        tf.keras.callbacks.EarlyStopping(\n",
    "            monitor='val_loss',\n",
    "            patience=1,\n",
    "            restore_best_weights=True\n",
    "        ),\n",
    "        tf.keras.callbacks.ReduceLROnPlateau(\n",
    "            monitor='val_loss',\n",
    "            patience=3\n",
    "        )\n",
    "    ]\n",
    ")"
   ]
  },
  {
   "cell_type": "code",
   "execution_count": 16,
   "id": "f1664391",
   "metadata": {},
   "outputs": [
    {
     "data": {
      "image/png": "[encoded data removed]",
      "text/plain": [
       "<Figure size 432x288 with 1 Axes>"
      ]
     },
     "metadata": {
      "needs_background": "light"
     },
     "output_type": "display_data"
    }
   ],
   "source": [
    "import matplotlib.pyplot as plt\n",
    "\n",
    "plt.plot(history.history['accuracy'])\n",
    "plt.plot(history.history['val_accuracy'])\n",
    "\n",
    "plt.title('EfficientNet Model Accuracy')\n",
    "plt.ylabel('Accuracy')\n",
    "plt.xlabel('Epoch')\n",
    "plt.legend(['Accuracy', 'Validation Accuracy', 'loss', 'Validation Loss'])\n",
    "plt.show()"
   ]
  },
  {
   "cell_type": "code",
   "execution_count": 17,
   "id": "cecc0956",
   "metadata": {},
   "outputs": [
    {
     "data": {
      "image/png": "[encoded data removed]",
      "text/plain": [
       "<Figure size 432x288 with 1 Axes>"
      ]
     },
     "metadata": {
      "needs_background": "light"
     },
     "output_type": "display_data"
    }
   ],
   "source": [
    "import matplotlib.pyplot as plt\n",
    "\n",
    "plt.plot(history.history['loss'])\n",
    "plt.plot(history.history['val_loss'])\n",
    "plt.title('EfficientNet Model Loss')\n",
    "plt.ylabel('Loss')\n",
    "plt.xlabel('Epoch')\n",
    "plt.legend(['Loss', 'Validation Loss'], loc='upper right')\n",
    "plt.show()"
   ]
  },
  {
   "cell_type": "code",
   "execution_count": 18,
   "id": "6bb0935b",
   "metadata": {},
   "outputs": [
    {
     "name": "stdout",
     "output_type": "stream",
     "text": [
      "    Test Loss: 0.17147\n",
      "Test Accuracy: 94.26%\n"
     ]
    }
   ],
   "source": [
    "results = model.evaluate(test_images, verbose=0)\n",
    "\n",
    "print(\"    Test Loss: {:.5f}\".format(results[0]))\n",
    "print(\"Test Accuracy: {:.2f}%\".format(results[1] * 100))"
   ]
  },
  {
   "cell_type": "code",
   "execution_count": 19,
   "id": "b6d734a3",
   "metadata": {},
   "outputs": [
    {
     "name": "stdout",
     "output_type": "stream",
     "text": [
      "228/228 [==============================] - 72s 254ms/step\n"
     ]
    },
    {
     "data": {
      "image/png": "[encoded data removed]",
      "text/plain": [
       "<Figure size 432x432 with 1 Axes>"
      ]
     },
     "metadata": {
      "needs_background": "light"
     },
     "output_type": "display_data"
    },
    {
     "name": "stdout",
     "output_type": "stream",
     "text": [
      "Classification Report:\n",
      "----------------------\n",
      "               precision    recall  f1-score   support\n",
      "\n",
      "         ACC       0.95      0.94      0.94      3648\n",
      "Kidney tumor       0.94      0.95      0.94      3638\n",
      "\n",
      "    accuracy                           0.94      7286\n",
      "   macro avg       0.94      0.94      0.94      7286\n",
      "weighted avg       0.94      0.94      0.94      7286\n",
      "\n"
     ]
    }
   ],
   "source": [
    "predictions = (model.predict(test_images) >= 0.5).astype(int)\n",
    "\n",
    "cm = confusion_matrix(test_images.labels, predictions, labels=[0, 1])\n",
    "clr = classification_report(test_images.labels, predictions, labels=[0, 1], target_names=[\"ACC\", \"Kidney tumor\"])\n",
    "\n",
    "plt.figure(figsize=(6, 6))\n",
    "sns.heatmap(cm, annot=True, fmt='g', vmin=0, cmap='Blues', cbar=False)\n",
    "plt.xticks(ticks=[0.5, 1.5], labels=[\"ACC\", \"Kidney tumor\"])\n",
    "plt.yticks(ticks=[0.5, 1.5], labels=[\"ACC\", \"Kidney tumor\"])\n",
    "plt.xlabel(\"Predicted\")\n",
    "plt.ylabel(\"Actual\")\n",
    "plt.title(\"EfficientNet Model Confusion Matrix\")\n",
    "plt.show()\n",
    "\n",
    "print(\"Classification Report:\\n----------------------\\n\", clr)"
   ]
  },
  {
   "cell_type": "code",
   "execution_count": 21,
   "id": "2b44c702",
   "metadata": {},
   "outputs": [
    {
     "name": "stdout",
     "output_type": "stream",
     "text": [
      "228/228 [==============================] - 55s 237ms/step\n",
      "AUC ROC: 0.98570\n"
     ]
    },
    {
     "data": {
      "image/png": "[encoded data removed]",
      "text/plain": [
       "<Figure size 432x288 with 1 Axes>"
      ]
     },
     "metadata": {
      "needs_background": "light"
     },
     "output_type": "display_data"
    }
   ],
   "source": [
    "# Obtain predicted probabilities\n",
    "from sklearn.metrics import roc_auc_score, roc_curve\n",
    "\n",
    "predicted_probabilities = model.predict(test_images)\n",
    "\n",
    "# Compute AUC ROC\n",
    "auc_roc = roc_auc_score(test_images.labels, predicted_probabilities)\n",
    "\n",
    "print(\"AUC ROC: {:.5f}\".format(auc_roc))\n",
    "\n",
    "# Plot ROC curve\n",
    "fpr, tpr, thresholds = roc_curve(test_images.labels, predicted_probabilities)\n",
    "\n",
    "plt.figure()\n",
    "plt.plot(fpr, tpr, label='ROC curve (area = {:.2f})'.format(auc_roc))\n",
    "plt.plot([0, 1], [0, 1], 'k--')\n",
    "plt.xlim([0.0, 1.0])\n",
    "plt.ylim([0.0, 1.05])\n",
    "plt.xlabel('False Positive Rate')\n",
    "plt.ylabel('True Positive Rate')\n",
    "plt.title('Receiver Operating Characteristic (ROC) Curve')\n",
    "plt.legend(loc='lower right')\n",
    "plt.show()"
   ]
  },
  {
   "cell_type": "code",
   "execution_count": 22,
   "id": "8fb1efe2",
   "metadata": {},
   "outputs": [],
   "source": [
    "# save the model to a file\n",
    "model.save('EfficientNet.h5')"
   ]
  },
  {
   "cell_type": "code",
   "execution_count": null,
   "id": "13111208",
   "metadata": {},
   "outputs": [],
   "source": []
  }
 ],
 "metadata": {
  "kernelspec": {
   "display_name": "Python 3 (ipykernel)",
   "language": "python",
   "name": "python3"
  },
  "language_info": {
   "codemirror_mode": {
    "name": "ipython",
    "version": 3
   },
   "file_extension": ".py",
   "mimetype": "text/x-python",
   "name": "python",
   "nbconvert_exporter": "python",
   "pygments_lexer": "ipython3",
   "version": "3.10.4"
  }
 },
 "nbformat": 4,
 "nbformat_minor": 5
}
